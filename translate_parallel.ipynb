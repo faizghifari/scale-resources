{
 "cells": [
  {
   "cell_type": "code",
   "execution_count": 10,
   "metadata": {},
   "outputs": [
    {
     "name": "stderr",
     "output_type": "stream",
     "text": [
      "/home/haznitrama/scale-resources/.venv/lib/python3.10/site-packages/tqdm/auto.py:21: TqdmWarning: IProgress not found. Please update jupyter and ipywidgets. See https://ipywidgets.readthedocs.io/en/stable/user_install.html\n",
      "  from .autonotebook import tqdm as notebook_tqdm\n"
     ]
    },
    {
     "data": {
      "text/plain": [
       "True"
      ]
     },
     "execution_count": 10,
     "metadata": {},
     "output_type": "execute_result"
    }
   ],
   "source": [
    "import os\n",
    "import json\n",
    "import glob\n",
    "import pickle\n",
    "import datasets\n",
    "\n",
    "from dotenv import load_dotenv\n",
    "\n",
    "load_dotenv()"
   ]
  },
  {
   "cell_type": "code",
   "execution_count": 11,
   "metadata": {},
   "outputs": [],
   "source": [
    "from openai import OpenAI\n",
    "\n",
    "client = OpenAI()\n",
    "\n",
    "def llm_call(model, messages, **call_args):\n",
    "    response = client.chat.completions.create(\n",
    "        model=model,\n",
    "        messages=messages,\n",
    "        **call_args\n",
    "    )\n",
    "    return response\n",
    "\n",
    "def create_batch_req_object(req_id, model, messages, response_format, temperature=0.0):\n",
    "    return {\n",
    "       \"custom_id\": req_id,\n",
    "       \"method\": \"POST\",\n",
    "       \"url\": \"/v1/chat/completions\",\n",
    "       \"body\": {\n",
    "          \"model\": model, \n",
    "          \"messages\": messages,\n",
    "          \"temperature\": temperature,\n",
    "          \"response_format\": response_format,\n",
    "        }\n",
    "    }\n",
    "\n",
    "def llm_batch_api(batch_filepath, purpose=\"\", desc=\"\", completion_window=\"24h\"):\n",
    "    batch_input_file = client.files.create(\n",
    "      file=open(batch_filepath, \"rb\"),\n",
    "      purpose=purpose\n",
    "    )\n",
    "\n",
    "    batch_input_file_id = batch_input_file.id\n",
    "\n",
    "    batch_info = client.batches.create(\n",
    "        input_file_id=batch_input_file_id,\n",
    "        endpoint=\"/v1/chat/completions\",\n",
    "        completion_window=completion_window,\n",
    "        metadata={\n",
    "          \"description\": desc\n",
    "        }\n",
    "    )\n",
    "\n",
    "    return batch_info\n",
    "\n",
    "def llm_batch_check_retrieve(batch_info):\n",
    "    updated_batch = client.batches.retrieve(batch_info.id)\n",
    "    print(f\"Status of batch {updated_batch.id} is {updated_batch.status}\")\n",
    "    if updated_batch.status == \"completed\":\n",
    "      output_file = client.files.content(updated_batch.output_file_id)\n",
    "      return updated_batch, output_file\n",
    "    else:\n",
    "      return updated_batch, None\n",
    "\n",
    "def llm_batch_check_retrieve_dict(batch_info):\n",
    "    updated_batch = client.batches.retrieve(batch_info[\"id\"])\n",
    "    print(f\"Status of batch {updated_batch.id} is {updated_batch.status}\")\n",
    "    if updated_batch.status == \"completed\":\n",
    "      output_file = client.files.content(updated_batch.output_file_id)\n",
    "      return updated_batch, output_file\n",
    "    else:\n",
    "      return updated_batch, None"
   ]
  },
  {
   "cell_type": "code",
   "execution_count": 12,
   "metadata": {},
   "outputs": [],
   "source": [
    "import tiktoken\n",
    "\n",
    "encoding = tiktoken.encoding_for_model(\"gpt-4o-mini\")\n",
    "\n",
    "def num_tokens_from_string(string: str, encoder) -> int:\n",
    "    \"\"\"Returns the number of tokens in a text string.\"\"\"\n",
    "    num_tokens = len(encoder.encode(string))\n",
    "    return num_tokens\n",
    "\n",
    "def count_tokens_in_dataset(dataset, num_tokens_from_string, encoder):\n",
    "    total_tokens = 0\n",
    "    \n",
    "    for item in dataset:\n",
    "        text = item['text']\n",
    "        tokens = num_tokens_from_string(text, encoder)\n",
    "        total_tokens += tokens\n",
    "    \n",
    "    return total_tokens"
   ]
  },
  {
   "cell_type": "code",
   "execution_count": 13,
   "metadata": {},
   "outputs": [],
   "source": [
    "def write_jsonl(data_string, output_file):\n",
    "    \"\"\"\n",
    "    Writes JSONL string to a file.\n",
    "    \n",
    "    Args:\n",
    "        data_string (str): String containing JSONL data\n",
    "        output_file (str): Path to output file\n",
    "    \"\"\"\n",
    "    # Split the string into lines and filter out empty lines\n",
    "    json_lines = [line.strip() for line in data_string.split('\\n') if line.strip()]\n",
    "    \n",
    "    # Write each line to the file\n",
    "    with open(output_file, 'w', encoding='utf-8') as f:\n",
    "        for line in json_lines:\n",
    "            json_obj = json.loads(line)  # Parse the JSON string\n",
    "            f.write(json.dumps(json_obj) + '\\n')  # Write formatted JSON\n",
    "\n",
    "def read_jsonl(input_file):\n",
    "    \"\"\"\n",
    "    Reads a JSONL file and returns a list of JSON objects.\n",
    "    \n",
    "    Args:\n",
    "        input_file (str): Path to input JSONL file\n",
    "        \n",
    "    Returns:\n",
    "        list: List of parsed JSON objects\n",
    "    \"\"\"\n",
    "    data = []\n",
    "    with open(input_file, 'r', encoding='utf-8') as f:\n",
    "        for line in f:\n",
    "            if line.strip():  # Skip empty lines\n",
    "                data.append(json.loads(line))\n",
    "    return data\n",
    "\n",
    "# Function to save the batch object using pickle\n",
    "def save_batch_to_pickle(batch_obj, output_file=\"batch_data.pkl\"):\n",
    "    with open(output_file, 'wb') as f:\n",
    "        pickle.dump(batch_obj, f)\n",
    "\n",
    "# Function to load the batch object from a pickle file\n",
    "def load_batch_from_pickle(input_file=\"batch_data.pkl\"):\n",
    "    with open(input_file, 'rb') as f:\n",
    "        return pickle.load(f)\n",
    "\n",
    "def create_batches(dataset, batch_size=1000):\n",
    "    return [dataset.select(range(i, min(i + batch_size, len(dataset)))) for i in range(0, len(dataset), batch_size)]\n",
    "\n",
    "def load_dictionary(file_path):\n",
    "    with open(file_path, 'r', encoding='utf-8') as f:\n",
    "        return json.load(f)"
   ]
  },
  {
   "cell_type": "markdown",
   "metadata": {},
   "source": [
    "## Translate Parallel 60K (Cirebonese)"
   ]
  },
  {
   "cell_type": "code",
   "execution_count": 14,
   "metadata": {},
   "outputs": [],
   "source": [
    "def split_text_into_ngrams(text, n):\n",
    "    words = text.split()\n",
    "    ngrams = []\n",
    "    for i in range(len(words) - n + 1):\n",
    "        ngrams.append(tuple(words[i:i + n]))\n",
    "    return ngrams\n",
    "\n",
    "def get_dict_translation(text, dictionary):\n",
    "    unigrams = split_text_into_ngrams(text, 1)\n",
    "    bigrams = split_text_into_ngrams(text, 2)\n",
    "    trigrams = split_text_into_ngrams(text, 3)\n",
    "\n",
    "    word_translation = \"\"\n",
    "\n",
    "    for ngram in (trigrams, bigrams, unigrams):\n",
    "        for ngram_tuple in ngram:\n",
    "            ngram_str = ' '.join(ngram_tuple)\n",
    "            if ngram_str in dictionary:\n",
    "                word_translation += f\"- {ngram_str}: {', '.join(dictionary[ngram_str])}\\n\"\n",
    "\n",
    "    return word_translation"
   ]
  },
  {
   "cell_type": "code",
   "execution_count": 20,
   "metadata": {},
   "outputs": [
    {
     "name": "stdout",
     "output_type": "stream",
     "text": [
      "- di sekitar: leker, bangkung, bêngkok\n",
      "- kelompok: sêsangga, gugus, gélémék, blok\n",
      "- jawa: gula, jawi\n",
      "- jawa: gula, jawi\n",
      "- yang: ingkang, kang, sing\n",
      "- tersebar: wiwir, amprak, angjrah, amiwir, ngamprak, jrah, nyêbar, makabalasah, lumra, anjrah, balasah, jêrah\n",
      "- di: teng, ning, dipun, di, ada\n",
      "- sekitar: sukat, longgar, lwa, aléba, lukat, cocor, amba, curuk, léba\n",
      "- wilayah: wanua, distrik, ulayat, palêmahan\n",
      "- dan: lan, dan\n",
      "\n"
     ]
    }
   ],
   "source": [
    "txt = \"Suku Cirebon adalah kelompok etnis berketurunan jawa cirebonan (rumpun jawa banyumasan) yang tersebar di sekitar wilayah Kabupaten Cirebon dan Kota Cirebon\"\n",
    "\n",
    "dictionary = load_dictionary(\"dict/idn_cbn.json\")\n",
    "print(get_dict_translation(txt, dictionary))"
   ]
  },
  {
   "cell_type": "code",
   "execution_count": null,
   "metadata": {},
   "outputs": [],
   "source": [
    "from tqdm import tqdm\n",
    "import datasets\n",
    "\n",
    "pt_data = datasets.load_from_disk(\"dataset/id_hq_data_dedup\")\n",
    "\n",
    "# Load the dictionary\n",
    "dictionary = load_dictionary(\"dict/idn_cbn.json\")\n",
    "\n",
    "def get_prompt_text(data):\n",
    "    prompt_text = f\"\"\"Translate the given Indonesian text in the <id_text> tag below into Cirebonese with the help of some word-to-word translation provided below. For one word, there can be multiple translations, and you need to choose the right one based on the context. The translations are as follows:\n",
    "{get_cbn_dict_translation(data[\"text\"].lower(), dictionary)}\n",
    "<id_text>\n",
    "{data[\"text\"]}\n",
    "</id_text>\n",
    "\n",
    "Return only the translated text in JSON format with key \"translated_text\".\"\"\"\n",
    "    data[\"text\"] = prompt_text\n",
    "    return data"
   ]
  },
  {
   "cell_type": "code",
   "execution_count": 23,
   "metadata": {},
   "outputs": [],
   "source": [
    "pt_data = pt_data.map(get_prompt_text)"
   ]
  },
  {
   "cell_type": "code",
   "execution_count": 24,
   "metadata": {},
   "outputs": [
    {
     "name": "stderr",
     "output_type": "stream",
     "text": [
      "Saving the dataset (9/9 shards): 100%|██████████| 651856/651856 [00:25<00:00, 26003.35 examples/s] \n"
     ]
    }
   ],
   "source": [
    "pt_data.save_to_disk(\"id_hq_data_prompt\")"
   ]
  },
  {
   "cell_type": "code",
   "execution_count": 11,
   "metadata": {},
   "outputs": [],
   "source": [
    "pt_tokens = count_tokens_in_dataset(pt_data, num_tokens_from_string, encoding)"
   ]
  },
  {
   "cell_type": "code",
   "execution_count": 13,
   "metadata": {},
   "outputs": [
    {
     "data": {
      "text/plain": [
       "1418349015"
      ]
     },
     "execution_count": 13,
     "metadata": {},
     "output_type": "execute_result"
    }
   ],
   "source": [
    "pt_tokens"
   ]
  },
  {
   "cell_type": "code",
   "execution_count": 26,
   "metadata": {},
   "outputs": [],
   "source": [
    "pt_data = pt_data.shuffle(seed=42)"
   ]
  },
  {
   "cell_type": "code",
   "execution_count": 27,
   "metadata": {},
   "outputs": [],
   "source": [
    "pt_data_60k = pt_data.select(range(60000))"
   ]
  },
  {
   "cell_type": "code",
   "execution_count": 28,
   "metadata": {},
   "outputs": [],
   "source": [
    "pt_tokens_60k = count_tokens_in_dataset(pt_data_60k, num_tokens_from_string, encoding)"
   ]
  },
  {
   "cell_type": "code",
   "execution_count": 29,
   "metadata": {},
   "outputs": [
    {
     "data": {
      "text/plain": [
       "133108166"
      ]
     },
     "execution_count": 29,
     "metadata": {},
     "output_type": "execute_result"
    }
   ],
   "source": [
    "pt_tokens_60k"
   ]
  },
  {
   "cell_type": "code",
   "execution_count": 30,
   "metadata": {},
   "outputs": [
    {
     "data": {
      "text/plain": [
       "9.98311245"
      ]
     },
     "execution_count": 30,
     "metadata": {},
     "output_type": "execute_result"
    }
   ],
   "source": [
    "133108166 / 4 / 1000000 * 0.3"
   ]
  },
  {
   "cell_type": "code",
   "execution_count": 31,
   "metadata": {},
   "outputs": [
    {
     "name": "stderr",
     "output_type": "stream",
     "text": [
      "Saving the dataset (1/1 shards): 100%|██████████| 60000/60000 [00:00<00:00, 137178.96 examples/s]\n"
     ]
    }
   ],
   "source": [
    "pt_data_60k.save_to_disk(\"dataset/id_hq_data_prompt_60k\")"
   ]
  },
  {
   "cell_type": "code",
   "execution_count": 32,
   "metadata": {},
   "outputs": [],
   "source": [
    "def batch_gen_translate_w_dict(prompt):\n",
    "    sys_prompt = \"Always answer in a valid JSON format and provide only the JSON answer without anything else.\"\n",
    "    messages = [\n",
    "        {\"role\": \"system\", \"content\": sys_prompt},\n",
    "        {\"role\": \"user\", \"content\": prompt}\n",
    "    ]\n",
    "    model = \"gpt-4o-mini-2024-07-18\"\n",
    "    temperature = 1\n",
    "    max_tokens = 4096\n",
    "    response_format = {\"type\": \"json_object\"}\n",
    "    \n",
    "    return messages, model, temperature, max_tokens, response_format"
   ]
  },
  {
   "cell_type": "code",
   "execution_count": 56,
   "metadata": {},
   "outputs": [],
   "source": [
    "import uuid\n",
    "\n",
    "batch_req_objects = []\n",
    "def create_batch_and_update_data(data):\n",
    "  random_uuid = uuid.uuid4()\n",
    "  uuid_str = str(random_uuid)\n",
    "  data[\"req_id\"] = f\"req-{uuid_str}\"\n",
    "  \n",
    "  messages, model, temperature, max_tokens, response_format = batch_gen_translate_w_dict(data[\"text\"])\n",
    "  batch_req_object = create_batch_req_object(req_id=data[\"req_id\"], model=model, messages=messages, response_format=response_format, temperature=temperature)\n",
    "  \n",
    "  batch_req_objects.append(batch_req_object)\n",
    "  \n",
    "  return data"
   ]
  },
  {
   "cell_type": "code",
   "execution_count": 15,
   "metadata": {},
   "outputs": [],
   "source": [
    "def save_batches_to_jsonl(batch_req_objects, batch_size, base_filename):\n",
    "    # Divide the batch_req_objects into smaller lists with the specified batch size\n",
    "    for i in range(0, len(batch_req_objects), batch_size):\n",
    "        batch = batch_req_objects[i:i + batch_size]\n",
    "        batch_filename = f\"{base_filename}_batch_{i // batch_size + 1}.jsonl\"\n",
    "        \n",
    "        # Convert the batch to JSONL format\n",
    "        batch_jsonl = \"\\n\".join([json.dumps(obj) for obj in batch])\n",
    "        \n",
    "        # Write the batch to a .jsonl file\n",
    "        write_jsonl(batch_jsonl, batch_filename)"
   ]
  },
  {
   "cell_type": "code",
   "execution_count": 58,
   "metadata": {},
   "outputs": [
    {
     "name": "stderr",
     "output_type": "stream",
     "text": [
      "Map: 100%|██████████| 60000/60000 [00:03<00:00, 19475.29 examples/s]\n"
     ]
    }
   ],
   "source": [
    "# Write all the batch req objects into a jsonl file using write_jsonl\n",
    "pt_data_60k = pt_data_60k.map(create_batch_and_update_data)"
   ]
  },
  {
   "cell_type": "code",
   "execution_count": 59,
   "metadata": {},
   "outputs": [],
   "source": [
    "save_batches_to_jsonl(batch_req_objects, 20000, \"dataset/translate_batch/cbn_translate\")"
   ]
  },
  {
   "cell_type": "code",
   "execution_count": 60,
   "metadata": {},
   "outputs": [],
   "source": [
    "# Run the llm_batch_api function with all .jsonl files and gather batch_info\n",
    "batch_files = [f for f in os.listdir(\"dataset/translate_batch/\") if f.startswith(\"cbn_translate_batch_\") and f.endswith(\".jsonl\")]\n",
    "all_batch_info = []\n",
    "for batch_file in batch_files:\n",
    "    batch_number = batch_file.split('_')[-1].split('.')[0]\n",
    "    desc = f\"Batch {batch_number} of requests to generate translation from indonesian to Cirebonese with help of cirebonese word-by-word translation\"\n",
    "    batch_info = llm_batch_api(f\"dataset/translate_batch/{batch_file}\", purpose=\"batch\", desc=desc, completion_window=\"24h\")\n",
    "    all_batch_info.append(batch_info)"
   ]
  },
  {
   "cell_type": "code",
   "execution_count": 61,
   "metadata": {},
   "outputs": [],
   "source": [
    "all_batch_info_dict = [b.to_dict() for b in all_batch_info]\n",
    "# Save all batch_info to a file\n",
    "with open(\"dataset/translate_batch/cbn_translate_batch_info.json\", \"w\") as f:\n",
    "    json.dump(all_batch_info_dict, f, indent=4)"
   ]
  },
  {
   "cell_type": "code",
   "execution_count": 70,
   "metadata": {},
   "outputs": [
    {
     "name": "stdout",
     "output_type": "stream",
     "text": [
      "Status of batch batch_67b3ee9ae58881909226449f6d3f8202 is completed\n",
      "Batch(id='batch_67b3ee9ae58881909226449f6d3f8202', completion_window='24h', created_at=1739845274, endpoint='/v1/chat/completions', input_file_id='file-Jo9oi5WKePKiKp3WrsLboS', object='batch', status='completed', cancelled_at=None, cancelling_at=None, completed_at=1739857274, error_file_id='file-XFbnGk3njZvCqoWqesPjCB', errors=None, expired_at=None, expires_at=1739931674, failed_at=None, finalizing_at=1739852857, in_progress_at=1739845280, metadata={'description': 'Batch 1 of requests to generate translation from indonesian to Cirebonese with help of cirebonese word-by-word translation'}, output_file_id='file-PxGzyXCYYvpu8Bn9dgsiW4', request_counts=BatchRequestCounts(completed=19991, failed=9, total=20000))\n",
      "Status of batch batch_67b3eeac452c8190b9440e54c51c2ce4 is completed\n",
      "Batch(id='batch_67b3eeac452c8190b9440e54c51c2ce4', completion_window='24h', created_at=1739845292, endpoint='/v1/chat/completions', input_file_id='file-MF9Mt7PHxr3K4cVkKyRj1g', object='batch', status='completed', cancelled_at=None, cancelling_at=None, completed_at=1739854073, error_file_id='file-SdgcQDMpJSwX3EgwVCzJCT', errors=None, expired_at=None, expires_at=1739931692, failed_at=None, finalizing_at=1739851682, in_progress_at=1739845301, metadata={'description': 'Batch 3 of requests to generate translation from indonesian to Cirebonese with help of cirebonese word-by-word translation'}, output_file_id='file-14vCL7n7Q4HZrdtdpDzcwj', request_counts=BatchRequestCounts(completed=19991, failed=9, total=20000))\n",
      "Status of batch batch_67b3eebce45881908d7e2bf61d0720ad is completed\n",
      "Batch(id='batch_67b3eebce45881908d7e2bf61d0720ad', completion_window='24h', created_at=1739845309, endpoint='/v1/chat/completions', input_file_id='file-Rqju5ZV5aMnmiUAiahoT2s', object='batch', status='completed', cancelled_at=None, cancelling_at=None, completed_at=1739858288, error_file_id='file-Knai85BVLbDsGaiT73n1pF', errors=None, expired_at=None, expires_at=1739931709, failed_at=None, finalizing_at=1739854305, in_progress_at=1739845314, metadata={'description': 'Batch 2 of requests to generate translation from indonesian to Cirebonese with help of cirebonese word-by-word translation'}, output_file_id='file-Ba5L7igFuH8cJQTxwp5k9e', request_counts=BatchRequestCounts(completed=19992, failed=8, total=20000))\n"
     ]
    }
   ],
   "source": [
    "for batch_info_dict in all_batch_info_dict:\n",
    "    updated_batch, output_file = llm_batch_check_retrieve_dict(batch_info_dict)\n",
    "    print(updated_batch)\n",
    "    if output_file:\n",
    "        write_jsonl(output_file.text, f\"translate_batch_output_{batch_info_dict['id']}.jsonl\")"
   ]
  },
  {
   "cell_type": "code",
   "execution_count": 270,
   "metadata": {},
   "outputs": [],
   "source": [
    "pt_data_60k = datasets.load_from_disk(\"dataset/id_hq_data_prompt_60k\")"
   ]
  },
  {
   "cell_type": "code",
   "execution_count": 276,
   "metadata": {},
   "outputs": [],
   "source": [
    "def extract_id_text(data):\n",
    "    data[\"indonesian\"] = data[\"text\"].split(\"<id_text>\\n\")[-1].split(\"\\n</id_text>\")[0]\n",
    "    return data"
   ]
  },
  {
   "cell_type": "code",
   "execution_count": 277,
   "metadata": {},
   "outputs": [
    {
     "name": "stderr",
     "output_type": "stream",
     "text": [
      "Map: 100%|██████████| 60000/60000 [00:07<00:00, 8100.70 examples/s] \n"
     ]
    }
   ],
   "source": [
    "pt_data_60k = pt_data_60k.map(extract_id_text)"
   ]
  },
  {
   "cell_type": "code",
   "execution_count": 279,
   "metadata": {},
   "outputs": [
    {
     "data": {
      "text/plain": [
       "{'text': 'Translate the given Indonesian text in the <id_text> tag below into Cirebonese with the help of some word-to-word translation provided below. For one word, there can be multiple translations, and you need to choose the right one based on the context. The translations are as follows:\\n- di: teng, ning, dipun, di, ada\\n- kota: kota\\n- pada: têng, ing, ajéro, ning jêro\\n- tahun: naun, taun\\n- mengelola: anggarap, garap\\n- dan: lan, dan\\n- daerah: wanua, distrik, ulayat, palêmahan\\n- kota: kota\\n\\n<id_text>\\nDistrik Hubin () berada di kota Sanmenxia, Henan, Tiongkok.\\n\\nPada tahun 2012, Distrik Hubin mengelola 8 subdistrik dan 3 daerah administrasi kota praja.\\n\\nReferensi \\n\\nTiongkok\\n</id_text>\\n\\nReturn only the translated text in JSON format with key \"translated_text\".',\n",
       " 'indonesian': 'Distrik Hubin () berada di kota Sanmenxia, Henan, Tiongkok.\\n\\nPada tahun 2012, Distrik Hubin mengelola 8 subdistrik dan 3 daerah administrasi kota praja.\\n\\nReferensi \\n\\nTiongkok'}"
      ]
     },
     "execution_count": 279,
     "metadata": {},
     "output_type": "execute_result"
    }
   ],
   "source": [
    "pt_data_60k[0]"
   ]
  },
  {
   "cell_type": "code",
   "execution_count": 283,
   "metadata": {},
   "outputs": [],
   "source": [
    "import jsonlines\n",
    "\n",
    "input_batch = {}\n",
    "with jsonlines.open(\"dataset/translate_batch/cbn_translate/cbn_translate_batch_1.jsonl\") as reader:\n",
    "    for obj in reader:\n",
    "        custom_id = obj['custom_id'].split(\"req-\")[-1]\n",
    "        prompt = obj['body']['messages'][-1]['content']\n",
    "        input_batch[prompt] = custom_id\n",
    "\n",
    "with jsonlines.open(\"dataset/translate_batch/cbn_translate/cbn_translate_batch_2.jsonl\") as reader:\n",
    "    for obj in reader:\n",
    "        custom_id = obj['custom_id'].split(\"req-\")[-1]\n",
    "        prompt = obj['body']['messages'][-1]['content']\n",
    "        input_batch[prompt] = custom_id\n",
    "\n",
    "with jsonlines.open(\"dataset/translate_batch/cbn_translate/cbn_translate_batch_3.jsonl\") as reader:\n",
    "    for obj in reader:\n",
    "        custom_id = obj['custom_id'].split(\"req-\")[-1]\n",
    "        prompt = obj['body']['messages'][-1]['content']\n",
    "        input_batch[prompt] = custom_id"
   ]
  },
  {
   "cell_type": "code",
   "execution_count": 285,
   "metadata": {},
   "outputs": [],
   "source": [
    "def add_custom_id_to_data(data):\n",
    "    data[\"custom_id\"] = input_batch[data[\"text\"]]\n",
    "    return data"
   ]
  },
  {
   "cell_type": "code",
   "execution_count": 286,
   "metadata": {},
   "outputs": [
    {
     "name": "stderr",
     "output_type": "stream",
     "text": [
      "Map: 100%|██████████| 60000/60000 [00:02<00:00, 20238.13 examples/s]\n"
     ]
    }
   ],
   "source": [
    "pt_data_60k = pt_data_60k.map(add_custom_id_to_data)"
   ]
  },
  {
   "cell_type": "code",
   "execution_count": 298,
   "metadata": {},
   "outputs": [
    {
     "name": "stdout",
     "output_type": "stream",
     "text": [
      "d615fa42-9c4a-4c27-9cae-21b161a07d4d\n",
      "f816ad49-7ed3-4500-8dc4-1b1693ee1594\n",
      "4e2f3090-4720-404f-b647-e29b747bcac5\n",
      "12865bbc-4e70-48b3-bf36-01e92ded2992\n",
      "2b23dc56-fa18-4029-92d6-e81f8aa10643\n",
      "940aba19-65ae-4b16-807f-75261efe04c9\n",
      "cbaf92b7-4bed-4c32-a5fa-2d9185a3bad0\n",
      "8d0bedd2-7153-449e-859f-fc53008b8cf0\n",
      "1eec2434-8343-4c02-8380-a9f442b319d8\n",
      "c108ba52-7ccf-4206-a0df-4964dfe49158\n",
      "d3da2e9e-4253-4a5e-84c3-dd8973f2d8de\n",
      "63a2960a-e6db-4006-925b-b80f4d32d0f6\n",
      "23e5ee30-d648-476a-a0e9-82535b9d3618\n",
      "2b3bc33c-4585-40aa-aacd-805f5f9350a8\n",
      "0be62978-4a9c-43c0-8e25-7b4d639019dc\n",
      "202863ce-58c1-467a-9e04-6bf1ffc798f5\n",
      "733b803a-541a-4195-9740-a505f375ca2c\n",
      "9063d0b7-da47-48b2-a4c4-42f33429d49b\n",
      "c2e4e0f1-7df0-4fb0-af85-fc1a4a6ac1c5\n",
      "49cf3fe5-e6f5-4267-931b-eec4a1454f66\n",
      "95f3a00d-c8c4-4be9-9838-9f17a4bd1bf6\n",
      "c43f90aa-fadd-4076-bc60-cc03dc19be0f\n",
      "453c512f-6637-489b-816d-fdadb8b4321f\n",
      "4cfff412-f71b-447b-9295-40df0d8a2b2f\n",
      "ace17345-380f-461d-8944-8fd6804ef89a\n",
      "5a258af4-b7f3-49bd-9949-c938639fcc4a\n",
      "a5ea723b-eb10-4838-acb2-c4a2773eb32a\n",
      "61c18459-b879-46ec-afc3-63975835be8e\n",
      "2a4c2fc3-34b1-4d21-98a8-cfb7667066af\n",
      "26a2ca62-561c-4e70-864a-89518258f94e\n",
      "2d503dd5-f1f2-4ece-8d83-212094817cf8\n",
      "10ad213e-e6a8-419d-ac61-bb1fab7ddcbd\n",
      "53427ae0-2776-4c19-a09b-139fbbafd462\n",
      "3fe663c9-84b0-4b58-be59-2916a93063f7\n",
      "97fdfbfa-0fbc-4deb-a7c1-13921d3fb2a9\n",
      "3a9b99bf-11bf-4110-86f7-092681dbbb27\n",
      "845ece08-cc1b-4f50-ab77-7fa8a04bf386\n",
      "48196d35-ab70-4947-af9f-2b274ace1e63\n",
      "652c004c-859d-468d-8d64-65fe17cc25a0\n",
      "0ac5f78d-032b-4483-a2cf-eede4ad1aeaf\n",
      "b40d52bc-5f20-45e3-b701-9dc425cf5f64\n",
      "cf3de283-9061-4c13-95fd-5aa7521290a0\n",
      "c53f0707-b083-4fe6-a538-395259294bba\n",
      "221a1f55-2304-4b43-ac78-c3698c4b4e86\n",
      "ebaaa304-4b31-4b9f-a9d2-8e8030c43ea4\n",
      "aeff9462-4da2-4470-a55c-972826ad97eb\n",
      "7b2422d7-c3e3-4065-81e6-31aa61778677\n",
      "00a71678-83bd-4334-a545-c88b8f4ae493\n",
      "07c77e0a-9575-4998-9bb7-af6a4dcbc191\n"
     ]
    }
   ],
   "source": [
    "import jsonlines\n",
    "\n",
    "output_batch = {}\n",
    "with jsonlines.open(\"dataset/translate_batch/cbn_translate/translate_batch_output_batch_67b3ee9ae58881909226449f6d3f8202.jsonl\") as reader:\n",
    "    for obj in reader:\n",
    "        custom_id = obj['custom_id'].split(\"req-\")[-1]\n",
    "        try:\n",
    "          translation = json.loads(obj['response']['body']['choices'][0]['message']['content'])\n",
    "          if isinstance(translation['translated_text'], str):\n",
    "            output_batch[custom_id] = translation['translated_text']\n",
    "          elif isinstance(translation['translated_text'], list):\n",
    "            output_batch[custom_id] = \"\".join(translation['translated_text'])\n",
    "        except Exception as e:\n",
    "           print(custom_id)\n",
    "           continue\n",
    "\n",
    "with jsonlines.open(\"dataset/translate_batch/cbn_translate/translate_batch_output_batch_67b3eeac452c8190b9440e54c51c2ce4.jsonl\") as reader:\n",
    "    for obj in reader:\n",
    "        custom_id = obj['custom_id'].split(\"req-\")[-1]\n",
    "        try:\n",
    "          translation = json.loads(obj['response']['body']['choices'][0]['message']['content'])\n",
    "          if isinstance(translation['translated_text'], str):\n",
    "            output_batch[custom_id] = translation['translated_text']\n",
    "          elif isinstance(translation['translated_text'], list):\n",
    "            output_batch[custom_id] = \"\".join(translation['translated_text'])\n",
    "        except Exception as e:\n",
    "           print(custom_id)\n",
    "           continue\n",
    "\n",
    "with jsonlines.open(\"dataset/translate_batch/cbn_translate/translate_batch_output_batch_67b3eebce45881908d7e2bf61d0720ad.jsonl\") as reader:\n",
    "    for obj in reader:\n",
    "        custom_id = obj['custom_id'].split(\"req-\")[-1]\n",
    "        try:\n",
    "          translation = json.loads(obj['response']['body']['choices'][0]['message']['content'])\n",
    "          if isinstance(translation['translated_text'], str):\n",
    "            output_batch[custom_id] = translation['translated_text']\n",
    "          elif isinstance(translation['translated_text'], list):\n",
    "            output_batch[custom_id] = \"\".join(translation['translated_text'])\n",
    "        except Exception as e:\n",
    "           print(custom_id)\n",
    "           continue"
   ]
  },
  {
   "cell_type": "code",
   "execution_count": 301,
   "metadata": {},
   "outputs": [],
   "source": [
    "def add_cirebonese_translation(data):\n",
    "    if data[\"custom_id\"] in output_batch:\n",
    "      data[\"cirebonese\"] = output_batch[data[\"custom_id\"]]\n",
    "      return data\n",
    "    else:\n",
    "      return None"
   ]
  },
  {
   "cell_type": "code",
   "execution_count": 302,
   "metadata": {},
   "outputs": [
    {
     "name": "stderr",
     "output_type": "stream",
     "text": [
      "Map: 100%|██████████| 60000/60000 [00:05<00:00, 10797.62 examples/s]\n"
     ]
    }
   ],
   "source": [
    "pt_data_60k_new = pt_data_60k.map(add_cirebonese_translation)"
   ]
  },
  {
   "cell_type": "code",
   "execution_count": 305,
   "metadata": {},
   "outputs": [
    {
     "name": "stderr",
     "output_type": "stream",
     "text": [
      "Saving the dataset (2/2 shards): 100%|██████████| 59859/59859 [00:00<00:00, 147628.89 examples/s]\n"
     ]
    }
   ],
   "source": [
    "pt_data_60k_new.save_to_disk(\"dataset/paralel_dataset_60k\")"
   ]
  },
  {
   "cell_type": "markdown",
   "metadata": {},
   "source": [
    "## Translate Parallel 44K (Bali)"
   ]
  },
  {
   "cell_type": "code",
   "execution_count": 10,
   "metadata": {},
   "outputs": [
    {
     "name": "stderr",
     "output_type": "stream",
     "text": [
      "/home/haznitrama/scale-resources/.venv/lib/python3.10/site-packages/tqdm/auto.py:21: TqdmWarning: IProgress not found. Please update jupyter and ipywidgets. See https://ipywidgets.readthedocs.io/en/stable/user_install.html\n",
      "  from .autonotebook import tqdm as notebook_tqdm\n"
     ]
    }
   ],
   "source": [
    "import datasets\n",
    "\n",
    "paralel_id_cbn_44k = datasets.load_from_disk(\"dataset/paralel_2_lang/paralel_id_cbn_127k_filtered\")"
   ]
  },
  {
   "cell_type": "code",
   "execution_count": 11,
   "metadata": {},
   "outputs": [],
   "source": [
    "def fix_data_features(data):\n",
    "    return {\n",
    "        \"id\": data[\"id\"],\n",
    "        \"indonesian\": data[\"text\"],\n",
    "        \"cirebonese\": data[\"translated_text\"]\n",
    "    }"
   ]
  },
  {
   "cell_type": "code",
   "execution_count": 12,
   "metadata": {},
   "outputs": [],
   "source": [
    "paralel_id_cbn_44k = paralel_id_cbn_44k.map(fix_data_features, remove_columns=[\"text\", \"translated_text\", \"title\", \"url\"])"
   ]
  },
  {
   "cell_type": "code",
   "execution_count": 13,
   "metadata": {},
   "outputs": [
    {
     "data": {
      "text/plain": [
       "Dataset({\n",
       "    features: ['id', 'indonesian', 'cirebonese'],\n",
       "    num_rows: 44743\n",
       "})"
      ]
     },
     "execution_count": 13,
     "metadata": {},
     "output_type": "execute_result"
    }
   ],
   "source": [
    "paralel_id_cbn_44k"
   ]
  },
  {
   "cell_type": "code",
   "execution_count": 446,
   "metadata": {},
   "outputs": [],
   "source": [
    "indo_bali_dict = load_dictionary(\"dict/idn_bali.json\")\n",
    "\n",
    "def get_translate_bali_prompt_text(data):\n",
    "    prompt_text = f\"\"\"Translate the given Indonesian text in the <id_text> tag below into Balinese with the help of some word-to-word translation provided below. For one word, there can be multiple translations, and you need to choose the right one based on the context. Not all word need to be translated such as named entities, therefore you need to properly choose which word need to be translated and which one is the right translation based on context. The translations are as follows:\n",
    "{get_dict_translation(data[\"indonesian\"].lower(), indo_bali_dict)}\n",
    "<id_text>\n",
    "{data[\"indonesian\"]}\n",
    "</id_text>\n",
    "\n",
    "Return only the translated text in JSON format with key \"translated_text\".\"\"\"\n",
    "    \n",
    "    data[\"prompt_text\"] = prompt_text\n",
    "    \n",
    "    return data"
   ]
  },
  {
   "cell_type": "code",
   "execution_count": 447,
   "metadata": {},
   "outputs": [
    {
     "name": "stderr",
     "output_type": "stream",
     "text": [
      "Map: 100%|██████████| 44743/44743 [00:22<00:00, 1998.25 examples/s]\n"
     ]
    }
   ],
   "source": [
    "paralel_44k_prompt_bali = paralel_id_cbn_44k.map(get_translate_bali_prompt_text)"
   ]
  },
  {
   "cell_type": "code",
   "execution_count": 448,
   "metadata": {},
   "outputs": [],
   "source": [
    "model = \"gpt-4o-mini-2024-07-18\"\n",
    "temperature = 0\n",
    "response_format = {\"type\": \"json_object\"}\n",
    "\n",
    "batch_req_objects = []\n",
    "for data in paralel_44k_prompt_bali:\n",
    "  messages = [\n",
    "      {\"role\": \"user\", \"content\": data[\"prompt_text\"]}\n",
    "  ]\n",
    "  batch_req_object = create_batch_req_object(req_id=data[\"id\"], model=model, messages=messages, response_format=response_format, temperature=temperature)\n",
    "  \n",
    "  batch_req_objects.append(batch_req_object)"
   ]
  },
  {
   "cell_type": "code",
   "execution_count": 449,
   "metadata": {},
   "outputs": [],
   "source": [
    "save_batches_to_jsonl(batch_req_objects, 10000, \"dataset/translate_batch/bali_translate_paralel_44k/bali_translate\")"
   ]
  },
  {
   "cell_type": "code",
   "execution_count": 450,
   "metadata": {},
   "outputs": [],
   "source": [
    "# Run the llm_batch_api function with all .jsonl files and gather batch_info\n",
    "batch_files = [f for f in os.listdir(\"dataset/translate_batch/bali_translate_paralel_44k\") if f.startswith(\"bali_translate\") and f.endswith(\".jsonl\")]\n",
    "all_batch_info = []\n",
    "for batch_file in batch_files:\n",
    "    batch_number = batch_file.split('_')[-1].split('.')[0]\n",
    "    desc = f\"Batch {batch_number} of requests to generate Balinese translation from Indonesian text (44k sample) with help of dictionary\"\n",
    "    batch_info = llm_batch_api(f\"dataset/translate_batch/bali_translate_paralel_44k/{batch_file}\", purpose=\"batch\", desc=desc, completion_window=\"24h\")\n",
    "    all_batch_info.append(batch_info)"
   ]
  },
  {
   "cell_type": "code",
   "execution_count": 451,
   "metadata": {},
   "outputs": [],
   "source": [
    "all_batch_info_dict = [b.to_dict() for b in all_batch_info]\n",
    "# Save all batch_info to a file\n",
    "with open(\"dataset/translate_batch/bali_translate_paralel_44k/bali_translate_batch_info.json\", \"w\") as f:\n",
    "    json.dump(all_batch_info_dict, f, indent=4)"
   ]
  },
  {
   "cell_type": "code",
   "execution_count": 5,
   "metadata": {},
   "outputs": [
    {
     "name": "stdout",
     "output_type": "stream",
     "text": [
      "Status of batch batch_67c7d852377c8190bf58e48de6ea4760 is completed\n",
      "Num batch: 3 -> Batch(id='batch_67c7d852377c8190bf58e48de6ea4760', completion_window='24h', created_at=1741150290, endpoint='/v1/chat/completions', input_file_id='file-HcxLi1j8JTCDNUQFFNo6yh', object='batch', status='completed', cancelled_at=None, cancelling_at=None, completed_at=1741165270, error_file_id=None, errors=None, expired_at=None, expires_at=1741236690, failed_at=None, finalizing_at=1741164273, in_progress_at=1741150297, metadata={'description': 'Batch 3 of requests to generate Balinese translation from Indonesian text (44k sample) with help of dictionary'}, output_file_id='file-3FFRwLqZqUsVymNnjhJ3zP', request_counts=BatchRequestCounts(completed=10000, failed=0, total=10000))\n",
      "Status of batch batch_67c7d85feca881908fc2a95bd8856eb3 is completed\n",
      "Num batch: 4 -> Batch(id='batch_67c7d85feca881908fc2a95bd8856eb3', completion_window='24h', created_at=1741150304, endpoint='/v1/chat/completions', input_file_id='file-VzUzxoTV3jXbKQtYwpV3pn', object='batch', status='completed', cancelled_at=None, cancelling_at=None, completed_at=1741179610, error_file_id=None, errors=None, expired_at=None, expires_at=1741236704, failed_at=None, finalizing_at=1741178103, in_progress_at=1741150310, metadata={'description': 'Batch 4 of requests to generate Balinese translation from Indonesian text (44k sample) with help of dictionary'}, output_file_id='file-Bu5ybfxSJgs9JEohjgPFKg', request_counts=BatchRequestCounts(completed=10000, failed=0, total=10000))\n",
      "Status of batch batch_67c7d87774e48190b761bbb8f6e3a2ec is completed\n",
      "Num batch: 1 -> Batch(id='batch_67c7d87774e48190b761bbb8f6e3a2ec', completion_window='24h', created_at=1741150327, endpoint='/v1/chat/completions', input_file_id='file-JtaJcsSXymzXusjsVkbDo4', object='batch', status='completed', cancelled_at=None, cancelling_at=None, completed_at=1741168395, error_file_id='file-CYXY3JJeWLz46doCh8tnka', errors=None, expired_at=None, expires_at=1741236727, failed_at=None, finalizing_at=1741167185, in_progress_at=1741150336, metadata={'description': 'Batch 1 of requests to generate Balinese translation from Indonesian text (44k sample) with help of dictionary'}, output_file_id='file-Y23xSyku8LZXirUNddnduw', request_counts=BatchRequestCounts(completed=9997, failed=3, total=10000))\n",
      "Status of batch batch_67c7d883813881908c500cfcae73726b is completed\n",
      "Num batch: 2 -> Batch(id='batch_67c7d883813881908c500cfcae73726b', completion_window='24h', created_at=1741150339, endpoint='/v1/chat/completions', input_file_id='file-8iqLGd66zDeWkL5UhuZLRm', object='batch', status='completed', cancelled_at=None, cancelling_at=None, completed_at=1741164952, error_file_id='file-FWZHrZtmdWcfToH4MpQdzn', errors=None, expired_at=None, expires_at=1741236739, failed_at=None, finalizing_at=1741163817, in_progress_at=1741150345, metadata={'description': 'Batch 2 of requests to generate Balinese translation from Indonesian text (44k sample) with help of dictionary'}, output_file_id='file-MaoD2XDXGbqf9Fs3W1F1iJ', request_counts=BatchRequestCounts(completed=9999, failed=1, total=10000))\n",
      "Status of batch batch_67c7d889f5208190a133c7a5f7e3f4d8 is completed\n",
      "Num batch: 5 -> Batch(id='batch_67c7d889f5208190a133c7a5f7e3f4d8', completion_window='24h', created_at=1741150346, endpoint='/v1/chat/completions', input_file_id='file-4WsnMVGJqrgPZFYBNMUS9L', object='batch', status='completed', cancelled_at=None, cancelling_at=None, completed_at=1741167280, error_file_id='file-3iduHC2ACLZhkUHLgBXvpn', errors=None, expired_at=None, expires_at=1741236746, failed_at=None, finalizing_at=1741166712, in_progress_at=1741150349, metadata={'description': 'Batch 5 of requests to generate Balinese translation from Indonesian text (44k sample) with help of dictionary'}, output_file_id='file-MP3LZiugN8Pi8nDfd9xvaJ', request_counts=BatchRequestCounts(completed=4734, failed=9, total=4743))\n"
     ]
    }
   ],
   "source": [
    "with open(\"dataset/translate_batch/bali_translate_paralel_44k/bali_translate_batch_info.json\", 'r') as f:\n",
    "    all_batch_info_dict = json.load(f)\n",
    "\n",
    "for idx, batch_info_dict in enumerate(all_batch_info_dict):\n",
    "    num_batch = batch_info_dict['metadata']['description'].split(\" \")[1]\n",
    "    updated_batch, output_file = llm_batch_check_retrieve_dict(batch_info_dict)\n",
    "    print(\"Num batch:\", num_batch, \"->\", updated_batch)\n",
    "    if output_file:\n",
    "        write_jsonl(output_file.text, f\"dataset/translate_batch/bali_translate_paralel_44k/bali_translate_output_{idx}.jsonl\")"
   ]
  },
  {
   "cell_type": "code",
   "execution_count": 7,
   "metadata": {},
   "outputs": [
    {
     "name": "stdout",
     "output_type": "stream",
     "text": [
      "3415167\n",
      "bali_translate_output_4.jsonl\n",
      "3441063\n",
      "bali_translate_output_4.jsonl\n",
      "3443302\n",
      "bali_translate_output_4.jsonl\n",
      "3587953\n",
      "bali_translate_output_4.jsonl\n",
      "3603829\n",
      "bali_translate_output_4.jsonl\n",
      "3605668\n",
      "bali_translate_output_4.jsonl\n",
      "3620345\n",
      "bali_translate_output_4.jsonl\n",
      "3623529\n",
      "bali_translate_output_4.jsonl\n",
      "3623771\n",
      "bali_translate_output_4.jsonl\n",
      "3630645\n",
      "bali_translate_output_4.jsonl\n",
      "3635720\n",
      "bali_translate_output_4.jsonl\n",
      "3646846\n",
      "bali_translate_output_4.jsonl\n",
      "3647257\n",
      "bali_translate_output_4.jsonl\n",
      "3652727\n",
      "bali_translate_output_4.jsonl\n",
      "3681440\n",
      "bali_translate_output_4.jsonl\n",
      "3684608\n",
      "bali_translate_output_4.jsonl\n",
      "3693902\n",
      "bali_translate_output_4.jsonl\n",
      "3706284\n",
      "bali_translate_output_4.jsonl\n",
      "3706969\n",
      "bali_translate_output_4.jsonl\n",
      "3718182\n",
      "bali_translate_output_4.jsonl\n",
      "3722817\n",
      "bali_translate_output_4.jsonl\n",
      "3824577\n",
      "bali_translate_output_4.jsonl\n",
      "3833417\n",
      "bali_translate_output_4.jsonl\n",
      "3841360\n",
      "bali_translate_output_4.jsonl\n",
      "3848849\n",
      "bali_translate_output_4.jsonl\n",
      "3864218\n",
      "bali_translate_output_4.jsonl\n",
      "3874202\n",
      "bali_translate_output_4.jsonl\n",
      "3878432\n",
      "bali_translate_output_4.jsonl\n",
      "3941539\n",
      "bali_translate_output_4.jsonl\n",
      "3942605\n",
      "bali_translate_output_4.jsonl\n",
      "3942816\n",
      "bali_translate_output_4.jsonl\n",
      "3948498\n",
      "bali_translate_output_4.jsonl\n",
      "3951592\n",
      "bali_translate_output_4.jsonl\n",
      "3982905\n",
      "bali_translate_output_4.jsonl\n",
      "3992531\n",
      "bali_translate_output_4.jsonl\n",
      "3993704\n",
      "bali_translate_output_4.jsonl\n",
      "4019448\n",
      "bali_translate_output_4.jsonl\n",
      "4036217\n",
      "bali_translate_output_4.jsonl\n",
      "4071265\n",
      "bali_translate_output_4.jsonl\n",
      "4075836\n",
      "bali_translate_output_4.jsonl\n",
      "4092290\n",
      "bali_translate_output_4.jsonl\n",
      "4145781\n",
      "bali_translate_output_4.jsonl\n",
      "748\n",
      "bali_translate_output_4.jsonl\n",
      "1011\n",
      "bali_translate_output_4.jsonl\n",
      "1020\n",
      "bali_translate_output_4.jsonl\n",
      "2834\n",
      "bali_translate_output_4.jsonl\n",
      "3779\n",
      "bali_translate_output_4.jsonl\n",
      "5800\n",
      "bali_translate_output_4.jsonl\n",
      "7018\n",
      "bali_translate_output_4.jsonl\n",
      "9991\n",
      "bali_translate_output_4.jsonl\n",
      "10429\n",
      "bali_translate_output_4.jsonl\n",
      "10494\n",
      "bali_translate_output_4.jsonl\n",
      "11496\n",
      "bali_translate_output_4.jsonl\n",
      "19003\n",
      "bali_translate_output_4.jsonl\n",
      "34140\n",
      "bali_translate_output_4.jsonl\n",
      "47720\n",
      "bali_translate_output_4.jsonl\n",
      "66800\n",
      "bali_translate_output_4.jsonl\n",
      "205337\n",
      "bali_translate_output_4.jsonl\n",
      "216969\n",
      "bali_translate_output_4.jsonl\n",
      "288495\n",
      "bali_translate_output_4.jsonl\n",
      "342426\n",
      "bali_translate_output_4.jsonl\n",
      "342428\n",
      "bali_translate_output_4.jsonl\n",
      "461254\n",
      "bali_translate_output_4.jsonl\n",
      "651105\n",
      "bali_translate_output_4.jsonl\n",
      "754764\n",
      "bali_translate_output_4.jsonl\n",
      "974434\n",
      "bali_translate_output_4.jsonl\n",
      "1214153\n",
      "bali_translate_output_4.jsonl\n",
      "1226103\n",
      "bali_translate_output_4.jsonl\n",
      "1241642\n",
      "bali_translate_output_4.jsonl\n",
      "1255589\n",
      "bali_translate_output_4.jsonl\n",
      "1258201\n",
      "bali_translate_output_4.jsonl\n",
      "1263244\n",
      "bali_translate_output_4.jsonl\n",
      "1516022\n",
      "bali_translate_output_4.jsonl\n",
      "1596954\n",
      "bali_translate_output_4.jsonl\n",
      "1653698\n",
      "bali_translate_output_4.jsonl\n",
      "1653718\n",
      "bali_translate_output_4.jsonl\n",
      "2335198\n",
      "bali_translate_output_4.jsonl\n",
      "2648885\n",
      "bali_translate_output_4.jsonl\n",
      "2808356\n",
      "bali_translate_output_4.jsonl\n",
      "2871937\n",
      "bali_translate_output_4.jsonl\n",
      "3003526\n",
      "bali_translate_output_4.jsonl\n",
      "3041644\n",
      "bali_translate_output_4.jsonl\n",
      "3162791\n",
      "bali_translate_output_4.jsonl\n",
      "3870137\n",
      "bali_translate_output_4.jsonl\n",
      "3881\n",
      "bali_translate_output_2.jsonl\n",
      "5857\n",
      "bali_translate_output_2.jsonl\n",
      "8024\n",
      "bali_translate_output_2.jsonl\n",
      "16414\n",
      "bali_translate_output_2.jsonl\n",
      "22075\n",
      "bali_translate_output_2.jsonl\n",
      "33487\n",
      "bali_translate_output_2.jsonl\n",
      "45569\n",
      "bali_translate_output_2.jsonl\n",
      "48381\n",
      "bali_translate_output_2.jsonl\n",
      "61035\n",
      "bali_translate_output_2.jsonl\n",
      "121003\n",
      "bali_translate_output_2.jsonl\n",
      "124032\n",
      "bali_translate_output_2.jsonl\n",
      "128798\n",
      "bali_translate_output_2.jsonl\n",
      "129845\n",
      "bali_translate_output_2.jsonl\n",
      "196007\n",
      "bali_translate_output_2.jsonl\n",
      "206591\n",
      "bali_translate_output_2.jsonl\n",
      "247052\n",
      "bali_translate_output_2.jsonl\n",
      "266058\n",
      "bali_translate_output_2.jsonl\n",
      "266624\n",
      "bali_translate_output_2.jsonl\n",
      "276583\n",
      "bali_translate_output_2.jsonl\n",
      "288362\n",
      "bali_translate_output_2.jsonl\n",
      "348021\n",
      "bali_translate_output_2.jsonl\n",
      "372401\n",
      "bali_translate_output_2.jsonl\n",
      "458622\n",
      "bali_translate_output_2.jsonl\n",
      "593078\n",
      "bali_translate_output_2.jsonl\n",
      "699561\n",
      "bali_translate_output_2.jsonl\n",
      "717923\n",
      "bali_translate_output_2.jsonl\n",
      "731169\n",
      "bali_translate_output_2.jsonl\n",
      "955479\n",
      "bali_translate_output_2.jsonl\n",
      "1086853\n",
      "bali_translate_output_2.jsonl\n",
      "1155262\n",
      "bali_translate_output_2.jsonl\n",
      "1191833\n",
      "bali_translate_output_2.jsonl\n",
      "1199957\n",
      "bali_translate_output_2.jsonl\n",
      "1400688\n",
      "bali_translate_output_2.jsonl\n",
      "1559716\n",
      "bali_translate_output_2.jsonl\n",
      "1603161\n",
      "bali_translate_output_2.jsonl\n",
      "1705269\n",
      "bali_translate_output_2.jsonl\n",
      "1805106\n",
      "bali_translate_output_2.jsonl\n",
      "1821605\n",
      "bali_translate_output_2.jsonl\n",
      "1883154\n",
      "bali_translate_output_2.jsonl\n",
      "2167043\n",
      "bali_translate_output_2.jsonl\n",
      "2358664\n",
      "bali_translate_output_2.jsonl\n",
      "2455610\n",
      "bali_translate_output_2.jsonl\n",
      "2500094\n",
      "bali_translate_output_2.jsonl\n",
      "2543191\n",
      "bali_translate_output_2.jsonl\n",
      "2761971\n",
      "bali_translate_output_2.jsonl\n",
      "2784529\n",
      "bali_translate_output_2.jsonl\n",
      "2786112\n",
      "bali_translate_output_2.jsonl\n",
      "3053108\n",
      "bali_translate_output_2.jsonl\n",
      "3055219\n",
      "bali_translate_output_2.jsonl\n",
      "3104997\n",
      "bali_translate_output_2.jsonl\n",
      "3128587\n",
      "bali_translate_output_2.jsonl\n",
      "3156439\n",
      "bali_translate_output_2.jsonl\n",
      "3391870\n",
      "bali_translate_output_2.jsonl\n",
      "3528724\n",
      "bali_translate_output_2.jsonl\n",
      "3613000\n",
      "bali_translate_output_2.jsonl\n",
      "3652362\n",
      "bali_translate_output_2.jsonl\n",
      "3684507\n",
      "bali_translate_output_2.jsonl\n",
      "3765684\n",
      "bali_translate_output_2.jsonl\n",
      "3985119\n",
      "bali_translate_output_2.jsonl\n",
      "4006603\n",
      "bali_translate_output_2.jsonl\n",
      "4029740\n",
      "bali_translate_output_2.jsonl\n",
      "8\n",
      "bali_translate_output_2.jsonl\n",
      "50\n",
      "bali_translate_output_2.jsonl\n",
      "83\n",
      "bali_translate_output_2.jsonl\n",
      "797\n",
      "bali_translate_output_2.jsonl\n",
      "798\n",
      "bali_translate_output_2.jsonl\n",
      "810\n",
      "bali_translate_output_2.jsonl\n",
      "817\n",
      "bali_translate_output_2.jsonl\n",
      "829\n",
      "bali_translate_output_2.jsonl\n",
      "831\n",
      "bali_translate_output_2.jsonl\n",
      "899\n",
      "bali_translate_output_2.jsonl\n",
      "1012\n",
      "bali_translate_output_2.jsonl\n",
      "1070\n",
      "bali_translate_output_2.jsonl\n",
      "1082\n",
      "bali_translate_output_2.jsonl\n",
      "1148\n",
      "bali_translate_output_2.jsonl\n",
      "2635\n",
      "bali_translate_output_2.jsonl\n",
      "3204\n",
      "bali_translate_output_2.jsonl\n",
      "3207\n",
      "bali_translate_output_2.jsonl\n",
      "3466\n",
      "bali_translate_output_2.jsonl\n",
      "3777\n",
      "bali_translate_output_2.jsonl\n",
      "3998\n",
      "bali_translate_output_2.jsonl\n",
      "4020\n",
      "bali_translate_output_2.jsonl\n",
      "4029\n",
      "bali_translate_output_2.jsonl\n",
      "4032\n",
      "bali_translate_output_2.jsonl\n",
      "4037\n",
      "bali_translate_output_2.jsonl\n",
      "4044\n",
      "bali_translate_output_2.jsonl\n",
      "4067\n",
      "bali_translate_output_2.jsonl\n",
      "4070\n",
      "bali_translate_output_2.jsonl\n",
      "4077\n",
      "bali_translate_output_2.jsonl\n",
      "4078\n",
      "bali_translate_output_2.jsonl\n",
      "4097\n",
      "bali_translate_output_2.jsonl\n",
      "4107\n",
      "bali_translate_output_2.jsonl\n",
      "4112\n",
      "bali_translate_output_2.jsonl\n",
      "4130\n",
      "bali_translate_output_2.jsonl\n",
      "4131\n",
      "bali_translate_output_2.jsonl\n",
      "4184\n",
      "bali_translate_output_2.jsonl\n",
      "4190\n",
      "bali_translate_output_2.jsonl\n",
      "4192\n",
      "bali_translate_output_2.jsonl\n",
      "4198\n",
      "bali_translate_output_2.jsonl\n",
      "4224\n",
      "bali_translate_output_2.jsonl\n",
      "4246\n",
      "bali_translate_output_2.jsonl\n",
      "4272\n",
      "bali_translate_output_2.jsonl\n",
      "4614\n",
      "bali_translate_output_2.jsonl\n",
      "4626\n",
      "bali_translate_output_2.jsonl\n",
      "4645\n",
      "bali_translate_output_2.jsonl\n",
      "4732\n",
      "bali_translate_output_2.jsonl\n",
      "4741\n",
      "bali_translate_output_2.jsonl\n",
      "4759\n",
      "bali_translate_output_2.jsonl\n",
      "4762\n",
      "bali_translate_output_2.jsonl\n",
      "5011\n",
      "bali_translate_output_2.jsonl\n",
      "5075\n",
      "bali_translate_output_2.jsonl\n",
      "5077\n",
      "bali_translate_output_2.jsonl\n",
      "5380\n",
      "bali_translate_output_2.jsonl\n",
      "5422\n",
      "bali_translate_output_2.jsonl\n",
      "5442\n",
      "bali_translate_output_2.jsonl\n",
      "5466\n",
      "bali_translate_output_2.jsonl\n",
      "5692\n",
      "bali_translate_output_2.jsonl\n",
      "5779\n",
      "bali_translate_output_2.jsonl\n",
      "6076\n",
      "bali_translate_output_2.jsonl\n",
      "6207\n",
      "bali_translate_output_2.jsonl\n",
      "6211\n",
      "bali_translate_output_2.jsonl\n",
      "6703\n",
      "bali_translate_output_2.jsonl\n",
      "6760\n",
      "bali_translate_output_2.jsonl\n",
      "7005\n",
      "bali_translate_output_2.jsonl\n",
      "7055\n",
      "bali_translate_output_2.jsonl\n",
      "7065\n",
      "bali_translate_output_2.jsonl\n",
      "7080\n",
      "bali_translate_output_2.jsonl\n",
      "7092\n",
      "bali_translate_output_2.jsonl\n",
      "7125\n",
      "bali_translate_output_2.jsonl\n",
      "7129\n",
      "bali_translate_output_2.jsonl\n",
      "7137\n",
      "bali_translate_output_2.jsonl\n",
      "7182\n",
      "bali_translate_output_2.jsonl\n",
      "7256\n",
      "bali_translate_output_2.jsonl\n",
      "7321\n",
      "bali_translate_output_2.jsonl\n",
      "7325\n",
      "bali_translate_output_2.jsonl\n",
      "7459\n",
      "bali_translate_output_2.jsonl\n",
      "8337\n",
      "bali_translate_output_2.jsonl\n",
      "8352\n",
      "bali_translate_output_2.jsonl\n",
      "8963\n",
      "bali_translate_output_2.jsonl\n",
      "9645\n",
      "bali_translate_output_2.jsonl\n",
      "9921\n",
      "bali_translate_output_2.jsonl\n",
      "10169\n",
      "bali_translate_output_2.jsonl\n",
      "10224\n",
      "bali_translate_output_2.jsonl\n",
      "10730\n",
      "bali_translate_output_2.jsonl\n",
      "10794\n",
      "bali_translate_output_2.jsonl\n",
      "10796\n",
      "bali_translate_output_2.jsonl\n",
      "10815\n",
      "bali_translate_output_2.jsonl\n",
      "11018\n",
      "bali_translate_output_2.jsonl\n",
      "11443\n",
      "bali_translate_output_2.jsonl\n",
      "11472\n",
      "bali_translate_output_2.jsonl\n",
      "11764\n",
      "bali_translate_output_2.jsonl\n",
      "12788\n",
      "bali_translate_output_2.jsonl\n",
      "13535\n",
      "bali_translate_output_2.jsonl\n",
      "13598\n",
      "bali_translate_output_2.jsonl\n",
      "14156\n",
      "bali_translate_output_2.jsonl\n",
      "15223\n",
      "bali_translate_output_2.jsonl\n",
      "15753\n",
      "bali_translate_output_2.jsonl\n",
      "15796\n",
      "bali_translate_output_2.jsonl\n",
      "15968\n",
      "bali_translate_output_2.jsonl\n",
      "16039\n",
      "bali_translate_output_2.jsonl\n",
      "16097\n",
      "bali_translate_output_2.jsonl\n",
      "16136\n",
      "bali_translate_output_2.jsonl\n",
      "17151\n",
      "bali_translate_output_2.jsonl\n",
      "17412\n",
      "bali_translate_output_2.jsonl\n",
      "18215\n",
      "bali_translate_output_2.jsonl\n",
      "18427\n",
      "bali_translate_output_2.jsonl\n",
      "19013\n",
      "bali_translate_output_2.jsonl\n",
      "19019\n",
      "bali_translate_output_2.jsonl\n",
      "19393\n",
      "bali_translate_output_2.jsonl\n",
      "19503\n",
      "bali_translate_output_2.jsonl\n",
      "19538\n",
      "bali_translate_output_2.jsonl\n",
      "19820\n",
      "bali_translate_output_2.jsonl\n",
      "20409\n",
      "bali_translate_output_2.jsonl\n",
      "20543\n",
      "bali_translate_output_2.jsonl\n",
      "20622\n",
      "bali_translate_output_2.jsonl\n",
      "20880\n",
      "bali_translate_output_2.jsonl\n",
      "20959\n",
      "bali_translate_output_2.jsonl\n",
      "22506\n",
      "bali_translate_output_2.jsonl\n",
      "23818\n",
      "bali_translate_output_2.jsonl\n",
      "24430\n",
      "bali_translate_output_2.jsonl\n",
      "24989\n",
      "bali_translate_output_2.jsonl\n",
      "25016\n",
      "bali_translate_output_2.jsonl\n",
      "25218\n",
      "bali_translate_output_2.jsonl\n",
      "25698\n",
      "bali_translate_output_2.jsonl\n",
      "25753\n",
      "bali_translate_output_2.jsonl\n",
      "27240\n",
      "bali_translate_output_2.jsonl\n",
      "27483\n",
      "bali_translate_output_2.jsonl\n",
      "27787\n",
      "bali_translate_output_2.jsonl\n",
      "28034\n",
      "bali_translate_output_2.jsonl\n",
      "28462\n",
      "bali_translate_output_2.jsonl\n",
      "28918\n",
      "bali_translate_output_2.jsonl\n",
      "29078\n",
      "bali_translate_output_2.jsonl\n",
      "29656\n",
      "bali_translate_output_2.jsonl\n",
      "29659\n",
      "bali_translate_output_2.jsonl\n",
      "30412\n",
      "bali_translate_output_2.jsonl\n",
      "31421\n",
      "bali_translate_output_2.jsonl\n",
      "31476\n",
      "bali_translate_output_2.jsonl\n",
      "31706\n",
      "bali_translate_output_2.jsonl\n",
      "32507\n",
      "bali_translate_output_2.jsonl\n",
      "32587\n",
      "bali_translate_output_2.jsonl\n",
      "33787\n",
      "bali_translate_output_2.jsonl\n",
      "33892\n",
      "bali_translate_output_2.jsonl\n",
      "35851\n",
      "bali_translate_output_2.jsonl\n",
      "36135\n",
      "bali_translate_output_2.jsonl\n",
      "36959\n",
      "bali_translate_output_2.jsonl\n",
      "37234\n",
      "bali_translate_output_2.jsonl\n",
      "38312\n",
      "bali_translate_output_2.jsonl\n",
      "38951\n",
      "bali_translate_output_2.jsonl\n",
      "39202\n",
      "bali_translate_output_2.jsonl\n",
      "39968\n",
      "bali_translate_output_2.jsonl\n",
      "40179\n",
      "bali_translate_output_2.jsonl\n",
      "40780\n",
      "bali_translate_output_2.jsonl\n",
      "40899\n",
      "bali_translate_output_2.jsonl\n",
      "41757\n",
      "bali_translate_output_2.jsonl\n",
      "42278\n",
      "bali_translate_output_2.jsonl\n",
      "42672\n",
      "bali_translate_output_2.jsonl\n",
      "42684\n",
      "bali_translate_output_2.jsonl\n",
      "42826\n",
      "bali_translate_output_2.jsonl\n",
      "44103\n",
      "bali_translate_output_2.jsonl\n",
      "44639\n",
      "bali_translate_output_2.jsonl\n",
      "44817\n",
      "bali_translate_output_2.jsonl\n",
      "44935\n",
      "bali_translate_output_2.jsonl\n",
      "46093\n",
      "bali_translate_output_2.jsonl\n",
      "46655\n",
      "bali_translate_output_2.jsonl\n",
      "46784\n",
      "bali_translate_output_2.jsonl\n",
      "47428\n",
      "bali_translate_output_2.jsonl\n",
      "47683\n",
      "bali_translate_output_2.jsonl\n",
      "47972\n",
      "bali_translate_output_2.jsonl\n",
      "48756\n",
      "bali_translate_output_2.jsonl\n",
      "48869\n",
      "bali_translate_output_2.jsonl\n",
      "50238\n",
      "bali_translate_output_2.jsonl\n",
      "50748\n",
      "bali_translate_output_2.jsonl\n",
      "51169\n",
      "bali_translate_output_2.jsonl\n",
      "52181\n",
      "bali_translate_output_2.jsonl\n",
      "52410\n",
      "bali_translate_output_2.jsonl\n",
      "53685\n",
      "bali_translate_output_2.jsonl\n",
      "54366\n",
      "bali_translate_output_2.jsonl\n",
      "54376\n",
      "bali_translate_output_2.jsonl\n",
      "56192\n",
      "bali_translate_output_2.jsonl\n",
      "58557\n",
      "bali_translate_output_2.jsonl\n",
      "58937\n",
      "bali_translate_output_2.jsonl\n",
      "61406\n",
      "bali_translate_output_2.jsonl\n",
      "61611\n",
      "bali_translate_output_2.jsonl\n",
      "62448\n",
      "bali_translate_output_2.jsonl\n",
      "66982\n",
      "bali_translate_output_2.jsonl\n",
      "67294\n",
      "bali_translate_output_2.jsonl\n",
      "68723\n",
      "bali_translate_output_2.jsonl\n",
      "69630\n",
      "bali_translate_output_2.jsonl\n",
      "69648\n",
      "bali_translate_output_2.jsonl\n",
      "69931\n",
      "bali_translate_output_2.jsonl\n",
      "70019\n",
      "bali_translate_output_2.jsonl\n",
      "70487\n",
      "bali_translate_output_2.jsonl\n",
      "71157\n",
      "bali_translate_output_2.jsonl\n",
      "71343\n",
      "bali_translate_output_2.jsonl\n",
      "72514\n",
      "bali_translate_output_2.jsonl\n",
      "75139\n",
      "bali_translate_output_2.jsonl\n",
      "75606\n",
      "bali_translate_output_2.jsonl\n",
      "75684\n",
      "bali_translate_output_2.jsonl\n",
      "77009\n",
      "bali_translate_output_2.jsonl\n",
      "77375\n",
      "bali_translate_output_2.jsonl\n",
      "77401\n",
      "bali_translate_output_2.jsonl\n",
      "78656\n",
      "bali_translate_output_2.jsonl\n",
      "78706\n",
      "bali_translate_output_2.jsonl\n",
      "79454\n",
      "bali_translate_output_2.jsonl\n",
      "79557\n",
      "bali_translate_output_2.jsonl\n",
      "80104\n",
      "bali_translate_output_2.jsonl\n",
      "80418\n",
      "bali_translate_output_2.jsonl\n",
      "81397\n",
      "bali_translate_output_2.jsonl\n",
      "81619\n",
      "bali_translate_output_2.jsonl\n",
      "82216\n",
      "bali_translate_output_2.jsonl\n",
      "82302\n",
      "bali_translate_output_2.jsonl\n",
      "82835\n",
      "bali_translate_output_2.jsonl\n",
      "83411\n",
      "bali_translate_output_2.jsonl\n",
      "83415\n",
      "bali_translate_output_2.jsonl\n",
      "85939\n",
      "bali_translate_output_2.jsonl\n",
      "91072\n",
      "bali_translate_output_2.jsonl\n",
      "92462\n",
      "bali_translate_output_2.jsonl\n",
      "92518\n",
      "bali_translate_output_2.jsonl\n",
      "94790\n",
      "bali_translate_output_2.jsonl\n",
      "97710\n",
      "bali_translate_output_2.jsonl\n",
      "99977\n",
      "bali_translate_output_2.jsonl\n",
      "102566\n",
      "bali_translate_output_2.jsonl\n",
      "105317\n",
      "bali_translate_output_2.jsonl\n",
      "107316\n",
      "bali_translate_output_2.jsonl\n",
      "108412\n",
      "bali_translate_output_2.jsonl\n",
      "112116\n",
      "bali_translate_output_2.jsonl\n",
      "112877\n",
      "bali_translate_output_2.jsonl\n",
      "113196\n",
      "bali_translate_output_2.jsonl\n",
      "114672\n",
      "bali_translate_output_2.jsonl\n",
      "116612\n",
      "bali_translate_output_2.jsonl\n",
      "120596\n",
      "bali_translate_output_2.jsonl\n",
      "121234\n",
      "bali_translate_output_2.jsonl\n",
      "122486\n",
      "bali_translate_output_2.jsonl\n",
      "122999\n",
      "bali_translate_output_2.jsonl\n",
      "123216\n",
      "bali_translate_output_2.jsonl\n",
      "127960\n",
      "bali_translate_output_2.jsonl\n",
      "128603\n",
      "bali_translate_output_2.jsonl\n",
      "135649\n",
      "bali_translate_output_2.jsonl\n",
      "140071\n",
      "bali_translate_output_2.jsonl\n",
      "142651\n",
      "bali_translate_output_2.jsonl\n",
      "142926\n",
      "bali_translate_output_2.jsonl\n",
      "143056\n",
      "bali_translate_output_2.jsonl\n",
      "143711\n",
      "bali_translate_output_2.jsonl\n",
      "145247\n",
      "bali_translate_output_2.jsonl\n",
      "149714\n",
      "bali_translate_output_2.jsonl\n",
      "152448\n",
      "bali_translate_output_2.jsonl\n",
      "152570\n",
      "bali_translate_output_2.jsonl\n",
      "152728\n",
      "bali_translate_output_2.jsonl\n",
      "154538\n",
      "bali_translate_output_2.jsonl\n",
      "154949\n",
      "bali_translate_output_2.jsonl\n",
      "157146\n",
      "bali_translate_output_2.jsonl\n",
      "168679\n",
      "bali_translate_output_2.jsonl\n",
      "176100\n",
      "bali_translate_output_2.jsonl\n",
      "176163\n",
      "bali_translate_output_2.jsonl\n",
      "178288\n",
      "bali_translate_output_2.jsonl\n",
      "185441\n",
      "bali_translate_output_2.jsonl\n",
      "185757\n",
      "bali_translate_output_2.jsonl\n",
      "186261\n",
      "bali_translate_output_2.jsonl\n",
      "188631\n",
      "bali_translate_output_2.jsonl\n",
      "190138\n",
      "bali_translate_output_2.jsonl\n",
      "190160\n",
      "bali_translate_output_2.jsonl\n",
      "192853\n",
      "bali_translate_output_2.jsonl\n",
      "193390\n",
      "bali_translate_output_2.jsonl\n",
      "195424\n",
      "bali_translate_output_2.jsonl\n",
      "196323\n",
      "bali_translate_output_2.jsonl\n",
      "196393\n",
      "bali_translate_output_2.jsonl\n",
      "196435\n",
      "bali_translate_output_2.jsonl\n",
      "196925\n",
      "bali_translate_output_2.jsonl\n",
      "198089\n",
      "bali_translate_output_2.jsonl\n",
      "202195\n",
      "bali_translate_output_2.jsonl\n",
      "202207\n",
      "bali_translate_output_2.jsonl\n",
      "202375\n",
      "bali_translate_output_2.jsonl\n",
      "202877\n",
      "bali_translate_output_2.jsonl\n",
      "202999\n",
      "bali_translate_output_2.jsonl\n",
      "204796\n",
      "bali_translate_output_2.jsonl\n",
      "215663\n",
      "bali_translate_output_2.jsonl\n",
      "222395\n",
      "bali_translate_output_2.jsonl\n",
      "226157\n",
      "bali_translate_output_2.jsonl\n",
      "226173\n",
      "bali_translate_output_2.jsonl\n",
      "227960\n",
      "bali_translate_output_2.jsonl\n",
      "233350\n",
      "bali_translate_output_2.jsonl\n",
      "234024\n",
      "bali_translate_output_2.jsonl\n",
      "234035\n",
      "bali_translate_output_2.jsonl\n",
      "234833\n",
      "bali_translate_output_2.jsonl\n",
      "234872\n",
      "bali_translate_output_2.jsonl\n",
      "234888\n",
      "bali_translate_output_2.jsonl\n",
      "235754\n",
      "bali_translate_output_2.jsonl\n",
      "236249\n",
      "bali_translate_output_2.jsonl\n",
      "236302\n",
      "bali_translate_output_2.jsonl\n",
      "236668\n",
      "bali_translate_output_2.jsonl\n",
      "236785\n",
      "bali_translate_output_2.jsonl\n",
      "240868\n",
      "bali_translate_output_2.jsonl\n",
      "243007\n",
      "bali_translate_output_2.jsonl\n",
      "244967\n",
      "bali_translate_output_2.jsonl\n",
      "246050\n",
      "bali_translate_output_2.jsonl\n",
      "246058\n",
      "bali_translate_output_2.jsonl\n",
      "248472\n",
      "bali_translate_output_2.jsonl\n",
      "249745\n",
      "bali_translate_output_2.jsonl\n",
      "250977\n",
      "bali_translate_output_2.jsonl\n",
      "258461\n",
      "bali_translate_output_2.jsonl\n",
      "259069\n",
      "bali_translate_output_2.jsonl\n",
      "260125\n",
      "bali_translate_output_2.jsonl\n",
      "261190\n",
      "bali_translate_output_2.jsonl\n",
      "263385\n",
      "bali_translate_output_2.jsonl\n",
      "264605\n",
      "bali_translate_output_2.jsonl\n",
      "266359\n",
      "bali_translate_output_2.jsonl\n",
      "267987\n",
      "bali_translate_output_2.jsonl\n",
      "271568\n",
      "bali_translate_output_2.jsonl\n",
      "273832\n",
      "bali_translate_output_2.jsonl\n",
      "274339\n",
      "bali_translate_output_2.jsonl\n",
      "276484\n",
      "bali_translate_output_2.jsonl\n",
      "278753\n",
      "bali_translate_output_2.jsonl\n",
      "280523\n",
      "bali_translate_output_2.jsonl\n",
      "281001\n",
      "bali_translate_output_2.jsonl\n",
      "283674\n",
      "bali_translate_output_2.jsonl\n",
      "286293\n",
      "bali_translate_output_2.jsonl\n",
      "287644\n",
      "bali_translate_output_2.jsonl\n",
      "1066142\n",
      "bali_translate_output_0.jsonl\n",
      "1069872\n",
      "bali_translate_output_0.jsonl\n",
      "1074475\n",
      "bali_translate_output_0.jsonl\n",
      "1088450\n",
      "bali_translate_output_0.jsonl\n",
      "1089068\n",
      "bali_translate_output_0.jsonl\n",
      "1099688\n",
      "bali_translate_output_0.jsonl\n",
      "1103567\n",
      "bali_translate_output_0.jsonl\n",
      "1103651\n",
      "bali_translate_output_0.jsonl\n",
      "1107701\n",
      "bali_translate_output_0.jsonl\n",
      "1108140\n",
      "bali_translate_output_0.jsonl\n",
      "1112016\n",
      "bali_translate_output_0.jsonl\n",
      "1113840\n",
      "bali_translate_output_0.jsonl\n",
      "1117807\n",
      "bali_translate_output_0.jsonl\n",
      "1119867\n",
      "bali_translate_output_0.jsonl\n",
      "1127515\n",
      "bali_translate_output_0.jsonl\n",
      "1127734\n",
      "bali_translate_output_0.jsonl\n",
      "1128588\n",
      "bali_translate_output_0.jsonl\n",
      "1151450\n",
      "bali_translate_output_0.jsonl\n",
      "1166444\n",
      "bali_translate_output_0.jsonl\n",
      "1169325\n",
      "bali_translate_output_0.jsonl\n",
      "1172587\n",
      "bali_translate_output_0.jsonl\n",
      "1176694\n",
      "bali_translate_output_0.jsonl\n",
      "1380905\n",
      "bali_translate_output_0.jsonl\n",
      "1388061\n",
      "bali_translate_output_0.jsonl\n",
      "1412452\n",
      "bali_translate_output_0.jsonl\n",
      "1415535\n",
      "bali_translate_output_0.jsonl\n",
      "1417933\n",
      "bali_translate_output_0.jsonl\n",
      "1418087\n",
      "bali_translate_output_0.jsonl\n",
      "1425891\n",
      "bali_translate_output_0.jsonl\n",
      "1433418\n",
      "bali_translate_output_0.jsonl\n",
      "1435675\n",
      "bali_translate_output_0.jsonl\n",
      "1446294\n",
      "bali_translate_output_0.jsonl\n",
      "1452237\n",
      "bali_translate_output_0.jsonl\n",
      "1460017\n",
      "bali_translate_output_0.jsonl\n",
      "1464399\n",
      "bali_translate_output_0.jsonl\n",
      "1467972\n",
      "bali_translate_output_0.jsonl\n",
      "1475685\n",
      "bali_translate_output_0.jsonl\n",
      "1482205\n",
      "bali_translate_output_0.jsonl\n",
      "1492504\n",
      "bali_translate_output_0.jsonl\n",
      "1495817\n",
      "bali_translate_output_0.jsonl\n",
      "1507750\n",
      "bali_translate_output_0.jsonl\n",
      "1556331\n",
      "bali_translate_output_0.jsonl\n",
      "1559382\n",
      "bali_translate_output_0.jsonl\n",
      "1563562\n",
      "bali_translate_output_0.jsonl\n",
      "1564743\n",
      "bali_translate_output_0.jsonl\n",
      "1569080\n",
      "bali_translate_output_0.jsonl\n",
      "1569083\n",
      "bali_translate_output_0.jsonl\n",
      "1569510\n",
      "bali_translate_output_0.jsonl\n",
      "1581003\n",
      "bali_translate_output_0.jsonl\n",
      "1608729\n",
      "bali_translate_output_0.jsonl\n",
      "1640416\n",
      "bali_translate_output_0.jsonl\n",
      "1655711\n",
      "bali_translate_output_0.jsonl\n",
      "1676647\n",
      "bali_translate_output_0.jsonl\n",
      "1683267\n",
      "bali_translate_output_0.jsonl\n",
      "1683813\n",
      "bali_translate_output_0.jsonl\n",
      "1685537\n",
      "bali_translate_output_0.jsonl\n",
      "1688963\n",
      "bali_translate_output_0.jsonl\n",
      "1692087\n",
      "bali_translate_output_0.jsonl\n",
      "1722675\n",
      "bali_translate_output_0.jsonl\n",
      "1733413\n",
      "bali_translate_output_0.jsonl\n",
      "1752941\n",
      "bali_translate_output_0.jsonl\n",
      "1754126\n",
      "bali_translate_output_0.jsonl\n",
      "1755076\n",
      "bali_translate_output_0.jsonl\n",
      "1760198\n",
      "bali_translate_output_0.jsonl\n",
      "1768956\n",
      "bali_translate_output_0.jsonl\n",
      "1775106\n",
      "bali_translate_output_0.jsonl\n",
      "1782798\n",
      "bali_translate_output_0.jsonl\n",
      "1790167\n",
      "bali_translate_output_0.jsonl\n",
      "1799306\n",
      "bali_translate_output_0.jsonl\n",
      "1802594\n",
      "bali_translate_output_0.jsonl\n",
      "1838723\n",
      "bali_translate_output_0.jsonl\n",
      "1839857\n",
      "bali_translate_output_0.jsonl\n",
      "1847137\n",
      "bali_translate_output_0.jsonl\n",
      "1849038\n",
      "bali_translate_output_0.jsonl\n",
      "1849244\n",
      "bali_translate_output_0.jsonl\n",
      "1857611\n",
      "bali_translate_output_0.jsonl\n",
      "1857856\n",
      "bali_translate_output_0.jsonl\n",
      "1860934\n",
      "bali_translate_output_0.jsonl\n",
      "1863459\n",
      "bali_translate_output_0.jsonl\n",
      "1863512\n",
      "bali_translate_output_0.jsonl\n",
      "1877214\n",
      "bali_translate_output_0.jsonl\n",
      "1878163\n",
      "bali_translate_output_0.jsonl\n",
      "1882328\n",
      "bali_translate_output_0.jsonl\n",
      "1961425\n",
      "bali_translate_output_0.jsonl\n",
      "1972907\n",
      "bali_translate_output_0.jsonl\n",
      "2010849\n",
      "bali_translate_output_0.jsonl\n",
      "2039596\n",
      "bali_translate_output_0.jsonl\n",
      "2040746\n",
      "bali_translate_output_0.jsonl\n",
      "2046549\n",
      "bali_translate_output_0.jsonl\n",
      "2049479\n",
      "bali_translate_output_0.jsonl\n",
      "2066199\n",
      "bali_translate_output_0.jsonl\n",
      "2093996\n",
      "bali_translate_output_0.jsonl\n",
      "2116704\n",
      "bali_translate_output_0.jsonl\n",
      "2119360\n",
      "bali_translate_output_0.jsonl\n",
      "2129602\n",
      "bali_translate_output_0.jsonl\n",
      "2135612\n",
      "bali_translate_output_0.jsonl\n",
      "2135706\n",
      "bali_translate_output_0.jsonl\n",
      "2144066\n",
      "bali_translate_output_0.jsonl\n",
      "2145162\n",
      "bali_translate_output_0.jsonl\n",
      "2146177\n",
      "bali_translate_output_0.jsonl\n",
      "2149170\n",
      "bali_translate_output_0.jsonl\n",
      "2151986\n",
      "bali_translate_output_0.jsonl\n",
      "2156146\n",
      "bali_translate_output_0.jsonl\n",
      "2156417\n",
      "bali_translate_output_0.jsonl\n",
      "2160218\n",
      "bali_translate_output_0.jsonl\n",
      "2160321\n",
      "bali_translate_output_0.jsonl\n",
      "2171884\n",
      "bali_translate_output_0.jsonl\n",
      "2183079\n",
      "bali_translate_output_0.jsonl\n",
      "2312365\n",
      "bali_translate_output_0.jsonl\n",
      "2314359\n",
      "bali_translate_output_0.jsonl\n",
      "2338768\n",
      "bali_translate_output_0.jsonl\n",
      "2352291\n",
      "bali_translate_output_0.jsonl\n",
      "2360958\n",
      "bali_translate_output_0.jsonl\n",
      "2371626\n",
      "bali_translate_output_0.jsonl\n",
      "2374088\n",
      "bali_translate_output_0.jsonl\n",
      "2378035\n",
      "bali_translate_output_0.jsonl\n",
      "2380719\n",
      "bali_translate_output_0.jsonl\n",
      "2381116\n",
      "bali_translate_output_0.jsonl\n",
      "2388497\n",
      "bali_translate_output_0.jsonl\n",
      "2398143\n",
      "bali_translate_output_0.jsonl\n",
      "2403550\n",
      "bali_translate_output_0.jsonl\n",
      "2413662\n",
      "bali_translate_output_0.jsonl\n",
      "2431674\n",
      "bali_translate_output_0.jsonl\n",
      "2436972\n",
      "bali_translate_output_0.jsonl\n",
      "2439053\n",
      "bali_translate_output_0.jsonl\n",
      "2450716\n",
      "bali_translate_output_0.jsonl\n",
      "2473082\n",
      "bali_translate_output_0.jsonl\n",
      "2479640\n",
      "bali_translate_output_0.jsonl\n",
      "2480126\n",
      "bali_translate_output_0.jsonl\n",
      "2480721\n",
      "bali_translate_output_0.jsonl\n",
      "2486053\n",
      "bali_translate_output_0.jsonl\n",
      "2487448\n",
      "bali_translate_output_0.jsonl\n",
      "2494539\n",
      "bali_translate_output_0.jsonl\n",
      "2494541\n",
      "bali_translate_output_0.jsonl\n",
      "2497326\n",
      "bali_translate_output_0.jsonl\n",
      "2498279\n",
      "bali_translate_output_0.jsonl\n",
      "2498890\n",
      "bali_translate_output_0.jsonl\n",
      "2499004\n",
      "bali_translate_output_0.jsonl\n",
      "2501386\n",
      "bali_translate_output_0.jsonl\n",
      "2501710\n",
      "bali_translate_output_0.jsonl\n",
      "2501712\n",
      "bali_translate_output_0.jsonl\n",
      "2502150\n",
      "bali_translate_output_0.jsonl\n",
      "2502360\n",
      "bali_translate_output_0.jsonl\n",
      "2502361\n",
      "bali_translate_output_0.jsonl\n",
      "2503214\n",
      "bali_translate_output_0.jsonl\n",
      "2503242\n",
      "bali_translate_output_0.jsonl\n",
      "2503662\n",
      "bali_translate_output_0.jsonl\n",
      "2511204\n",
      "bali_translate_output_0.jsonl\n",
      "2513415\n",
      "bali_translate_output_0.jsonl\n",
      "2525380\n",
      "bali_translate_output_0.jsonl\n",
      "2528272\n",
      "bali_translate_output_0.jsonl\n",
      "2532123\n",
      "bali_translate_output_0.jsonl\n",
      "2533470\n",
      "bali_translate_output_0.jsonl\n",
      "2537178\n",
      "bali_translate_output_0.jsonl\n",
      "2540038\n",
      "bali_translate_output_0.jsonl\n",
      "2541397\n",
      "bali_translate_output_0.jsonl\n",
      "2542531\n",
      "bali_translate_output_0.jsonl\n",
      "2552915\n",
      "bali_translate_output_0.jsonl\n",
      "2555382\n",
      "bali_translate_output_0.jsonl\n",
      "2560813\n",
      "bali_translate_output_0.jsonl\n",
      "2564208\n",
      "bali_translate_output_0.jsonl\n",
      "2573230\n",
      "bali_translate_output_0.jsonl\n",
      "2573698\n",
      "bali_translate_output_0.jsonl\n",
      "291124\n",
      "bali_translate_output_3.jsonl\n",
      "291415\n",
      "bali_translate_output_3.jsonl\n",
      "291923\n",
      "bali_translate_output_3.jsonl\n",
      "295213\n",
      "bali_translate_output_3.jsonl\n",
      "298020\n",
      "bali_translate_output_3.jsonl\n",
      "305588\n",
      "bali_translate_output_3.jsonl\n",
      "305880\n",
      "bali_translate_output_3.jsonl\n",
      "306967\n",
      "bali_translate_output_3.jsonl\n",
      "308980\n",
      "bali_translate_output_3.jsonl\n",
      "313844\n",
      "bali_translate_output_3.jsonl\n",
      "317238\n",
      "bali_translate_output_3.jsonl\n",
      "320081\n",
      "bali_translate_output_3.jsonl\n",
      "322094\n",
      "bali_translate_output_3.jsonl\n",
      "322637\n",
      "bali_translate_output_3.jsonl\n",
      "326291\n",
      "bali_translate_output_3.jsonl\n",
      "327479\n",
      "bali_translate_output_3.jsonl\n",
      "327596\n",
      "bali_translate_output_3.jsonl\n",
      "328477\n",
      "bali_translate_output_3.jsonl\n",
      "329864\n",
      "bali_translate_output_3.jsonl\n",
      "333480\n",
      "bali_translate_output_3.jsonl\n",
      "341753\n",
      "bali_translate_output_3.jsonl\n",
      "343732\n",
      "bali_translate_output_3.jsonl\n",
      "347290\n",
      "bali_translate_output_3.jsonl\n",
      "349849\n",
      "bali_translate_output_3.jsonl\n",
      "350794\n",
      "bali_translate_output_3.jsonl\n",
      "350987\n",
      "bali_translate_output_3.jsonl\n",
      "352831\n",
      "bali_translate_output_3.jsonl\n",
      "358416\n",
      "bali_translate_output_3.jsonl\n",
      "358431\n",
      "bali_translate_output_3.jsonl\n",
      "358436\n",
      "bali_translate_output_3.jsonl\n",
      "358448\n",
      "bali_translate_output_3.jsonl\n",
      "376449\n",
      "bali_translate_output_3.jsonl\n",
      "378563\n",
      "bali_translate_output_3.jsonl\n",
      "387660\n",
      "bali_translate_output_3.jsonl\n",
      "391372\n",
      "bali_translate_output_3.jsonl\n",
      "392058\n",
      "bali_translate_output_3.jsonl\n",
      "399785\n",
      "bali_translate_output_3.jsonl\n",
      "402673\n",
      "bali_translate_output_3.jsonl\n",
      "407209\n",
      "bali_translate_output_3.jsonl\n",
      "407668\n",
      "bali_translate_output_3.jsonl\n",
      "409513\n",
      "bali_translate_output_3.jsonl\n",
      "409767\n",
      "bali_translate_output_3.jsonl\n",
      "410339\n",
      "bali_translate_output_3.jsonl\n",
      "423789\n",
      "bali_translate_output_3.jsonl\n",
      "426375\n",
      "bali_translate_output_3.jsonl\n",
      "426871\n",
      "bali_translate_output_3.jsonl\n",
      "428385\n",
      "bali_translate_output_3.jsonl\n",
      "428552\n",
      "bali_translate_output_3.jsonl\n",
      "428939\n",
      "bali_translate_output_3.jsonl\n",
      "431370\n",
      "bali_translate_output_3.jsonl\n",
      "431734\n",
      "bali_translate_output_3.jsonl\n",
      "433814\n",
      "bali_translate_output_3.jsonl\n",
      "434116\n",
      "bali_translate_output_3.jsonl\n",
      "442387\n",
      "bali_translate_output_3.jsonl\n",
      "445732\n",
      "bali_translate_output_3.jsonl\n",
      "449522\n",
      "bali_translate_output_3.jsonl\n",
      "450548\n",
      "bali_translate_output_3.jsonl\n",
      "453094\n",
      "bali_translate_output_3.jsonl\n",
      "454060\n",
      "bali_translate_output_3.jsonl\n",
      "461405\n",
      "bali_translate_output_3.jsonl\n",
      "463935\n",
      "bali_translate_output_3.jsonl\n",
      "466311\n",
      "bali_translate_output_3.jsonl\n",
      "471581\n",
      "bali_translate_output_3.jsonl\n",
      "472451\n",
      "bali_translate_output_3.jsonl\n",
      "494067\n",
      "bali_translate_output_3.jsonl\n",
      "523195\n",
      "bali_translate_output_3.jsonl\n",
      "526561\n",
      "bali_translate_output_3.jsonl\n",
      "526618\n",
      "bali_translate_output_3.jsonl\n",
      "527673\n",
      "bali_translate_output_3.jsonl\n",
      "528123\n",
      "bali_translate_output_3.jsonl\n",
      "529052\n",
      "bali_translate_output_3.jsonl\n",
      "529806\n",
      "bali_translate_output_3.jsonl\n",
      "531738\n",
      "bali_translate_output_3.jsonl\n",
      "531739\n",
      "bali_translate_output_3.jsonl\n",
      "531740\n",
      "bali_translate_output_3.jsonl\n",
      "531742\n",
      "bali_translate_output_3.jsonl\n",
      "537175\n",
      "bali_translate_output_3.jsonl\n",
      "542148\n",
      "bali_translate_output_3.jsonl\n",
      "547697\n",
      "bali_translate_output_3.jsonl\n",
      "563161\n",
      "bali_translate_output_3.jsonl\n",
      "572286\n",
      "bali_translate_output_3.jsonl\n",
      "585617\n",
      "bali_translate_output_3.jsonl\n",
      "587551\n",
      "bali_translate_output_3.jsonl\n",
      "590098\n",
      "bali_translate_output_3.jsonl\n",
      "592790\n",
      "bali_translate_output_3.jsonl\n",
      "594159\n",
      "bali_translate_output_3.jsonl\n",
      "594161\n",
      "bali_translate_output_3.jsonl\n",
      "594625\n",
      "bali_translate_output_3.jsonl\n",
      "595729\n",
      "bali_translate_output_3.jsonl\n",
      "598138\n",
      "bali_translate_output_3.jsonl\n",
      "598560\n",
      "bali_translate_output_3.jsonl\n",
      "598974\n",
      "bali_translate_output_3.jsonl\n",
      "603966\n",
      "bali_translate_output_3.jsonl\n",
      "605450\n",
      "bali_translate_output_3.jsonl\n",
      "626371\n",
      "bali_translate_output_3.jsonl\n",
      "626851\n",
      "bali_translate_output_3.jsonl\n",
      "634752\n",
      "bali_translate_output_3.jsonl\n",
      "638265\n",
      "bali_translate_output_3.jsonl\n",
      "649882\n",
      "bali_translate_output_3.jsonl\n",
      "652232\n",
      "bali_translate_output_3.jsonl\n",
      "653434\n",
      "bali_translate_output_3.jsonl\n",
      "653860\n",
      "bali_translate_output_3.jsonl\n",
      "660742\n",
      "bali_translate_output_3.jsonl\n",
      "660761\n",
      "bali_translate_output_3.jsonl\n",
      "661254\n",
      "bali_translate_output_3.jsonl\n",
      "662546\n",
      "bali_translate_output_3.jsonl\n",
      "665720\n",
      "bali_translate_output_3.jsonl\n",
      "670307\n",
      "bali_translate_output_3.jsonl\n",
      "676495\n",
      "bali_translate_output_3.jsonl\n",
      "677503\n",
      "bali_translate_output_3.jsonl\n",
      "685536\n",
      "bali_translate_output_3.jsonl\n",
      "688862\n",
      "bali_translate_output_3.jsonl\n",
      "689768\n",
      "bali_translate_output_3.jsonl\n",
      "691432\n",
      "bali_translate_output_3.jsonl\n",
      "703648\n",
      "bali_translate_output_3.jsonl\n",
      "706515\n",
      "bali_translate_output_3.jsonl\n",
      "717732\n",
      "bali_translate_output_3.jsonl\n",
      "722530\n",
      "bali_translate_output_3.jsonl\n",
      "722986\n",
      "bali_translate_output_3.jsonl\n",
      "726263\n",
      "bali_translate_output_3.jsonl\n",
      "726734\n",
      "bali_translate_output_3.jsonl\n",
      "727501\n",
      "bali_translate_output_3.jsonl\n",
      "751640\n",
      "bali_translate_output_3.jsonl\n",
      "754560\n",
      "bali_translate_output_3.jsonl\n",
      "764695\n",
      "bali_translate_output_3.jsonl\n",
      "772689\n",
      "bali_translate_output_3.jsonl\n",
      "786275\n",
      "bali_translate_output_3.jsonl\n",
      "787096\n",
      "bali_translate_output_3.jsonl\n",
      "788900\n",
      "bali_translate_output_3.jsonl\n",
      "803623\n",
      "bali_translate_output_3.jsonl\n",
      "820544\n",
      "bali_translate_output_3.jsonl\n",
      "841217\n",
      "bali_translate_output_3.jsonl\n",
      "846351\n",
      "bali_translate_output_3.jsonl\n",
      "849566\n",
      "bali_translate_output_3.jsonl\n",
      "850736\n",
      "bali_translate_output_3.jsonl\n",
      "861324\n",
      "bali_translate_output_3.jsonl\n",
      "861868\n",
      "bali_translate_output_3.jsonl\n",
      "876257\n",
      "bali_translate_output_3.jsonl\n",
      "879168\n",
      "bali_translate_output_3.jsonl\n",
      "885223\n",
      "bali_translate_output_3.jsonl\n",
      "886387\n",
      "bali_translate_output_3.jsonl\n",
      "887641\n",
      "bali_translate_output_3.jsonl\n",
      "934186\n",
      "bali_translate_output_3.jsonl\n",
      "944535\n",
      "bali_translate_output_3.jsonl\n",
      "947422\n",
      "bali_translate_output_3.jsonl\n",
      "963654\n",
      "bali_translate_output_3.jsonl\n",
      "963743\n",
      "bali_translate_output_3.jsonl\n",
      "981971\n",
      "bali_translate_output_3.jsonl\n",
      "988558\n",
      "bali_translate_output_3.jsonl\n",
      "996764\n",
      "bali_translate_output_3.jsonl\n",
      "998054\n",
      "bali_translate_output_3.jsonl\n",
      "1010768\n",
      "bali_translate_output_3.jsonl\n",
      "1016900\n",
      "bali_translate_output_3.jsonl\n",
      "1032578\n",
      "bali_translate_output_3.jsonl\n",
      "1038726\n",
      "bali_translate_output_3.jsonl\n",
      "1045890\n",
      "bali_translate_output_3.jsonl\n",
      "1051099\n",
      "bali_translate_output_3.jsonl\n",
      "1051507\n",
      "bali_translate_output_3.jsonl\n",
      "1058839\n",
      "bali_translate_output_3.jsonl\n",
      "1064987\n",
      "bali_translate_output_3.jsonl\n",
      "2589677\n",
      "bali_translate_output_1.jsonl\n",
      "2607943\n",
      "bali_translate_output_1.jsonl\n",
      "2620910\n",
      "bali_translate_output_1.jsonl\n",
      "2624457\n",
      "bali_translate_output_1.jsonl\n",
      "2625483\n",
      "bali_translate_output_1.jsonl\n",
      "2625533\n",
      "bali_translate_output_1.jsonl\n",
      "2628503\n",
      "bali_translate_output_1.jsonl\n",
      "2629987\n",
      "bali_translate_output_1.jsonl\n",
      "2640455\n",
      "bali_translate_output_1.jsonl\n",
      "2656971\n",
      "bali_translate_output_1.jsonl\n",
      "2667316\n",
      "bali_translate_output_1.jsonl\n",
      "2667938\n",
      "bali_translate_output_1.jsonl\n",
      "2677630\n",
      "bali_translate_output_1.jsonl\n",
      "2692729\n",
      "bali_translate_output_1.jsonl\n",
      "2696181\n",
      "bali_translate_output_1.jsonl\n",
      "2704283\n",
      "bali_translate_output_1.jsonl\n",
      "2704388\n",
      "bali_translate_output_1.jsonl\n",
      "2713948\n",
      "bali_translate_output_1.jsonl\n",
      "2721436\n",
      "bali_translate_output_1.jsonl\n",
      "2732535\n",
      "bali_translate_output_1.jsonl\n",
      "2732788\n",
      "bali_translate_output_1.jsonl\n",
      "2735260\n",
      "bali_translate_output_1.jsonl\n",
      "2749586\n",
      "bali_translate_output_1.jsonl\n",
      "2751928\n",
      "bali_translate_output_1.jsonl\n",
      "2752690\n",
      "bali_translate_output_1.jsonl\n",
      "2753889\n",
      "bali_translate_output_1.jsonl\n",
      "2754122\n",
      "bali_translate_output_1.jsonl\n",
      "2754360\n",
      "bali_translate_output_1.jsonl\n",
      "2759527\n",
      "bali_translate_output_1.jsonl\n",
      "2761825\n",
      "bali_translate_output_1.jsonl\n",
      "2774187\n",
      "bali_translate_output_1.jsonl\n",
      "2774975\n",
      "bali_translate_output_1.jsonl\n",
      "2775848\n",
      "bali_translate_output_1.jsonl\n",
      "2778546\n",
      "bali_translate_output_1.jsonl\n",
      "2778771\n",
      "bali_translate_output_1.jsonl\n",
      "2781214\n",
      "bali_translate_output_1.jsonl\n",
      "2781980\n",
      "bali_translate_output_1.jsonl\n",
      "2782177\n",
      "bali_translate_output_1.jsonl\n",
      "2784705\n",
      "bali_translate_output_1.jsonl\n",
      "2789939\n",
      "bali_translate_output_1.jsonl\n",
      "2794257\n",
      "bali_translate_output_1.jsonl\n",
      "2794777\n",
      "bali_translate_output_1.jsonl\n",
      "2803453\n",
      "bali_translate_output_1.jsonl\n",
      "2822758\n",
      "bali_translate_output_1.jsonl\n",
      "2858002\n",
      "bali_translate_output_1.jsonl\n",
      "2858516\n",
      "bali_translate_output_1.jsonl\n",
      "2875257\n",
      "bali_translate_output_1.jsonl\n",
      "2883268\n",
      "bali_translate_output_1.jsonl\n",
      "2884313\n",
      "bali_translate_output_1.jsonl\n",
      "2901950\n",
      "bali_translate_output_1.jsonl\n",
      "2933289\n",
      "bali_translate_output_1.jsonl\n",
      "2933641\n",
      "bali_translate_output_1.jsonl\n",
      "2963178\n",
      "bali_translate_output_1.jsonl\n",
      "2965267\n",
      "bali_translate_output_1.jsonl\n",
      "2966577\n",
      "bali_translate_output_1.jsonl\n",
      "2967350\n",
      "bali_translate_output_1.jsonl\n",
      "2971088\n",
      "bali_translate_output_1.jsonl\n",
      "2973107\n",
      "bali_translate_output_1.jsonl\n",
      "2984526\n",
      "bali_translate_output_1.jsonl\n",
      "2986938\n",
      "bali_translate_output_1.jsonl\n",
      "2990328\n",
      "bali_translate_output_1.jsonl\n",
      "2990421\n",
      "bali_translate_output_1.jsonl\n",
      "2990990\n",
      "bali_translate_output_1.jsonl\n",
      "2994300\n",
      "bali_translate_output_1.jsonl\n",
      "3015397\n",
      "bali_translate_output_1.jsonl\n",
      "3037143\n",
      "bali_translate_output_1.jsonl\n",
      "3037351\n",
      "bali_translate_output_1.jsonl\n",
      "3038558\n",
      "bali_translate_output_1.jsonl\n",
      "3039364\n",
      "bali_translate_output_1.jsonl\n",
      "3056034\n",
      "bali_translate_output_1.jsonl\n",
      "3064045\n",
      "bali_translate_output_1.jsonl\n",
      "3065069\n",
      "bali_translate_output_1.jsonl\n",
      "3069019\n",
      "bali_translate_output_1.jsonl\n",
      "3077340\n",
      "bali_translate_output_1.jsonl\n",
      "3078354\n",
      "bali_translate_output_1.jsonl\n",
      "3084632\n",
      "bali_translate_output_1.jsonl\n",
      "3088275\n",
      "bali_translate_output_1.jsonl\n",
      "3089491\n",
      "bali_translate_output_1.jsonl\n",
      "3089604\n",
      "bali_translate_output_1.jsonl\n",
      "3089870\n",
      "bali_translate_output_1.jsonl\n",
      "3093515\n",
      "bali_translate_output_1.jsonl\n",
      "3095142\n",
      "bali_translate_output_1.jsonl\n",
      "3108019\n",
      "bali_translate_output_1.jsonl\n",
      "3127797\n",
      "bali_translate_output_1.jsonl\n",
      "3134921\n",
      "bali_translate_output_1.jsonl\n",
      "3136150\n",
      "bali_translate_output_1.jsonl\n",
      "3145473\n",
      "bali_translate_output_1.jsonl\n",
      "3152478\n",
      "bali_translate_output_1.jsonl\n",
      "3195912\n",
      "bali_translate_output_1.jsonl\n",
      "3196093\n",
      "bali_translate_output_1.jsonl\n",
      "3207177\n",
      "bali_translate_output_1.jsonl\n",
      "3215879\n",
      "bali_translate_output_1.jsonl\n",
      "3237235\n",
      "bali_translate_output_1.jsonl\n",
      "3242133\n",
      "bali_translate_output_1.jsonl\n",
      "3245636\n",
      "bali_translate_output_1.jsonl\n",
      "3246728\n",
      "bali_translate_output_1.jsonl\n",
      "3260810\n",
      "bali_translate_output_1.jsonl\n",
      "3274981\n",
      "bali_translate_output_1.jsonl\n",
      "3275649\n",
      "bali_translate_output_1.jsonl\n",
      "3276461\n",
      "bali_translate_output_1.jsonl\n",
      "3283081\n",
      "bali_translate_output_1.jsonl\n",
      "3283091\n",
      "bali_translate_output_1.jsonl\n",
      "3283127\n",
      "bali_translate_output_1.jsonl\n",
      "3285783\n",
      "bali_translate_output_1.jsonl\n",
      "3286380\n",
      "bali_translate_output_1.jsonl\n",
      "3297039\n",
      "bali_translate_output_1.jsonl\n",
      "3299827\n",
      "bali_translate_output_1.jsonl\n",
      "3307609\n",
      "bali_translate_output_1.jsonl\n",
      "3310793\n",
      "bali_translate_output_1.jsonl\n",
      "3312560\n",
      "bali_translate_output_1.jsonl\n",
      "3322556\n",
      "bali_translate_output_1.jsonl\n",
      "3344512\n",
      "bali_translate_output_1.jsonl\n",
      "3352991\n",
      "bali_translate_output_1.jsonl\n",
      "3366567\n",
      "bali_translate_output_1.jsonl\n",
      "3375201\n",
      "bali_translate_output_1.jsonl\n",
      "3378556\n",
      "bali_translate_output_1.jsonl\n",
      "3386069\n",
      "bali_translate_output_1.jsonl\n",
      "3392442\n",
      "bali_translate_output_1.jsonl\n",
      "3404767\n",
      "bali_translate_output_1.jsonl\n",
      "3406768\n",
      "bali_translate_output_1.jsonl\n",
      "3406907\n",
      "bali_translate_output_1.jsonl\n",
      "3409234\n",
      "bali_translate_output_1.jsonl\n",
      "3412780\n",
      "bali_translate_output_1.jsonl\n"
     ]
    }
   ],
   "source": [
    "import jsonlines\n",
    "# Create a mapping of translations from JSONL\n",
    "output_files = [f for f in os.listdir(\"dataset/translate_batch/bali_translate_paralel_44k\") if f.startswith(\"bali_translate_output\") and f.endswith(\".jsonl\")]\n",
    "\n",
    "failed_id = []\n",
    "translations = {}\n",
    "for batch_file in output_files:\n",
    "    with jsonlines.open(f\"dataset/translate_batch/bali_translate_paralel_44k/{batch_file}\") as reader:\n",
    "        for obj in reader:\n",
    "            custom_id = obj['custom_id']\n",
    "            try:\n",
    "                translation = json.loads(obj['response']['body']['choices'][0]['message']['content'])\n",
    "                if obj['response']['body']['choices'][0]['finish_reason'] != \"length\":\n",
    "                  if isinstance(translation['translated_text'], str):\n",
    "                    translations[custom_id] = translation['translated_text']\n",
    "                  elif isinstance(translation['translated_text'], list):\n",
    "                    translations[custom_id] = \"\".join(translation['translated_text'])\n",
    "            except Exception as e:\n",
    "               failed_id.append(custom_id)\n",
    "               print(custom_id)\n",
    "               print(batch_file)\n",
    "               continue\n",
    "\n",
    "def add_bali_translation_to_dataset(data):\n",
    "    try:\n",
    "      if data[\"id\"] in translations:\n",
    "          data[\"balinese\"] = translations[data[\"id\"]]\n",
    "          return data\n",
    "      else:\n",
    "          return None\n",
    "    except:\n",
    "       print(data[\"id\"])\n",
    "       print(translations[data[\"id\"]])\n",
    "       raise ValueError(f\"Translation not found for ID: {data['id']}\")\n",
    "        # raise ValueError(f\"Translation not found for ID: {data['id']}\")"
   ]
  },
  {
   "cell_type": "code",
   "execution_count": 8,
   "metadata": {},
   "outputs": [
    {
     "data": {
      "text/plain": [
       "43818"
      ]
     },
     "execution_count": 8,
     "metadata": {},
     "output_type": "execute_result"
    }
   ],
   "source": [
    "len(translations.keys())"
   ]
  },
  {
   "cell_type": "code",
   "execution_count": null,
   "metadata": {},
   "outputs": [],
   "source": []
  },
  {
   "cell_type": "code",
   "execution_count": 431,
   "metadata": {},
   "outputs": [
    {
     "data": {
      "text/plain": [
       "{'id': 'cf9fbfb7-32aa-4e3b-a06a-c40fc875fe2d',\n",
       " 'cirebonese': 'Carex kashmirensis punika spesies tumbuhan kados suket ingkang kalebet ke famili Cyperaceae. Spesies punika ugi minangka pihak saking ordo Poales. Spesies Carex kashmirensis dewek minangka pihak saking genus Carex. Nama ilmiah saking spesies punika pertama kalih diterbitkan dening C.B.Clarke.',\n",
       " 'indonesian': 'Carex kashmirensis adalah spesies tumbuhan seperti rumput yang tergolong ke dalam famili Cyperaceae. Spesies ini juga merupakan bagian dari ordo Poales. Spesies Carex kashmirensis sendiri merupakan bagian dari genus Carex. Nama ilmiah dari spesies ini pertama kali diterbitkan oleh C.B.Clarke.\\n\\nReferensi \\n\\nCarex',\n",
       " 'prompt_text': 'Translate the given Indonesian text in the <id_text> tag below into Balinese with the help of some word-to-word translation provided below. For one word, there can be multiple translations, and you need to choose the right one based on the context. Not all word need to be translated such as named entities, therefore you need to properly choose which word need to be translated and which one is the right translation based on context. The translations are as follows:\\n- bagian dari: tamas\\n- bagian dari: tamas\\n- pertama kali: nembe, riin\\n- tumbuhan: dausa, entikan, katang-katang, pipis-pipisan, sedah tubungan, sempol, tumpek wariga\\n- seperti: alah, buka, cara, kadi, luire, makadi, rumasa, sakadi, sasat, satmaka, segelis-gelis, sekadi, seperti, upami, waluya\\n- rumput: arit, arit-aritan, aritanga, dukut, gangganan, kalimenjo, kekili, keranjang, mendong, padang, senggah, trena\\n- yang: ane, anu, kang, sane\\n- ke: ka, kajaha, meriki\\n- dalam: antah, dalem, labak, telek\\n- ini: ene, ne, nenenan, niki, nikinne, puniki, sasihe, tanke\\n- juga: masih, naler, semalilhne, taler\\n- bagian: baga, bagian, bayuhan, cacarang, duman, dumang, kacacar, kenjang, nyacarang, potongan\\n- dari: baan, saking, uli, uling\\n- sendiri: adiri, didian, didiana, padidi, pedidi, pereragaan\\n- bagian: baga, bagian, bayuhan, cacarang, duman, dumang, kacacar, kenjang, nyacarang, potongan\\n- dari: baan, saking, uli, uling\\n- nama: adan, aran, nama, papasih, parab, pasengan, pesengan, peséngan, wasta, wastan\\n- dari: baan, saking, uli, uling\\n- ini: ene, ne, nenenan, niki, nikinne, puniki, sasihe, tanke\\n- pertama: simalu\\n- oleh: antuk, baan, ben, olih, teken\\n- referensi: panyangkaan\\n\\n<id_text>\\nCarex kashmirensis adalah spesies tumbuhan seperti rumput yang tergolong ke dalam famili Cyperaceae. Spesies ini juga merupakan bagian dari ordo Poales. Spesies Carex kashmirensis sendiri merupakan bagian dari genus Carex. Nama ilmiah dari spesies ini pertama kali diterbitkan oleh C.B.Clarke.\\n\\nReferensi \\n\\nCarex\\n</id_text>\\n\\nReturn only the translated text in JSON format with key \"translated_text\".'}"
      ]
     },
     "execution_count": 431,
     "metadata": {},
     "output_type": "execute_result"
    }
   ],
   "source": [
    "paralel_300k_prompt_bali[260606]"
   ]
  },
  {
   "cell_type": "code",
   "execution_count": 14,
   "metadata": {},
   "outputs": [
    {
     "name": "stderr",
     "output_type": "stream",
     "text": [
      "Map: 100%|██████████| 44743/44743 [00:19<00:00, 2299.89 examples/s] \n"
     ]
    }
   ],
   "source": [
    "paralel_44k = paralel_id_cbn_44k.map(add_bali_translation_to_dataset)"
   ]
  },
  {
   "cell_type": "code",
   "execution_count": 15,
   "metadata": {},
   "outputs": [
    {
     "data": {
      "text/plain": [
       "Dataset({\n",
       "    features: ['id', 'indonesian', 'cirebonese', 'balinese'],\n",
       "    num_rows: 43818\n",
       "})"
      ]
     },
     "execution_count": 15,
     "metadata": {},
     "output_type": "execute_result"
    }
   ],
   "source": [
    "paralel_44k"
   ]
  },
  {
   "cell_type": "code",
   "execution_count": 16,
   "metadata": {},
   "outputs": [
    {
     "name": "stderr",
     "output_type": "stream",
     "text": [
      "Saving the dataset (1/1 shards): 100%|██████████| 43818/43818 [00:09<00:00, 4659.31 examples/s]\n"
     ]
    }
   ],
   "source": [
    "paralel_44k.save_to_disk(\"dataset/paralel_3_lang/paralel_dataset_44k\")"
   ]
  },
  {
   "cell_type": "markdown",
   "metadata": {},
   "source": [
    "## Fill Empty ID Translation for Bali Dict"
   ]
  },
  {
   "cell_type": "code",
   "execution_count": 76,
   "metadata": {},
   "outputs": [],
   "source": [
    "bali_dict = load_dictionary(\"dict/transformed_bali_dict.json\")"
   ]
  },
  {
   "cell_type": "code",
   "execution_count": 81,
   "metadata": {},
   "outputs": [],
   "source": [
    "from datasets import Dataset, DatasetDict\n",
    "import json\n",
    "import uuid\n",
    "\n",
    "def create_translation_dataset(input_dict):\n",
    "    data = {\n",
    "        'id': [],\n",
    "        'bali_word': [],\n",
    "        'translation_english': [],\n",
    "        'translation_indonesian': []\n",
    "    }\n",
    "    \n",
    "    for bali_word, values in input_dict.items():\n",
    "        # Skip if both translations are empty or non-existent\n",
    "        if len(values[\"translation_english\"]) == 0 and len(values[\"translation_indonesian\"]) == 0:\n",
    "            continue\n",
    "            \n",
    "        # Only process if at least translation_english exists and is not empty\n",
    "        if  len(values['translation_english']) > 0 and len(values['translation_indonesian']) == 0:\n",
    "            data['id'].append(str(uuid.uuid4()))\n",
    "            data['bali_word'].append(bali_word)\n",
    "            data['translation_english'].append(values['translation_english'])\n",
    "            data['translation_indonesian'].append([])\n",
    "    \n",
    "    # Create HF Dataset\n",
    "    dataset = Dataset.from_dict(data)\n",
    "    return dataset"
   ]
  },
  {
   "cell_type": "code",
   "execution_count": 82,
   "metadata": {},
   "outputs": [],
   "source": [
    "# Create the dataset\n",
    "translation_dataset = create_translation_dataset(bali_dict)"
   ]
  },
  {
   "cell_type": "code",
   "execution_count": 83,
   "metadata": {},
   "outputs": [
    {
     "data": {
      "text/plain": [
       "Dataset({\n",
       "    features: ['id', 'bali_word', 'translation_english', 'translation_indonesian'],\n",
       "    num_rows: 4545\n",
       "})"
      ]
     },
     "execution_count": 83,
     "metadata": {},
     "output_type": "execute_result"
    }
   ],
   "source": [
    "translation_dataset"
   ]
  },
  {
   "cell_type": "code",
   "execution_count": 87,
   "metadata": {},
   "outputs": [],
   "source": [
    "def get_id_translation_prompt_text(data):\n",
    "    prompt_text = f\"\"\"Translate the given Balinese word into Indonesian, with the help of its English translation:\n",
    "- Balinese word: {data[\"bali_word\"]}\n",
    "- English translation: {data[\"translation_english\"]}\n",
    "\n",
    "The result must be a list of string, which is the Indonesian translation from the Balinese word, and since it is a list it can be more than one translation. Return only the Indonesian translation in JSON format with key \"translation_indonesian\".\"\"\"\n",
    "    data[\"prompt\"] = prompt_text\n",
    "    return data"
   ]
  },
  {
   "cell_type": "code",
   "execution_count": 88,
   "metadata": {},
   "outputs": [
    {
     "name": "stderr",
     "output_type": "stream",
     "text": [
      "Map: 100%|██████████| 4545/4545 [00:00<00:00, 7166.05 examples/s]\n"
     ]
    }
   ],
   "source": [
    "translation_dataset = translation_dataset.map(get_id_translation_prompt_text)"
   ]
  },
  {
   "cell_type": "code",
   "execution_count": 89,
   "metadata": {},
   "outputs": [
    {
     "data": {
      "text/plain": [
       "{'id': '5338f62e-0155-4b45-9928-c1b496dbf153',\n",
       " 'bali_word': 'abah-abah',\n",
       " 'translation_english': ['tabiat', 'bakat'],\n",
       " 'translation_indonesian': [],\n",
       " 'prompt': 'Translate the given Balinese word into Indonesian, with the help of its English translation:\\n- Balinese word: abah-abah\\n- English translation: [\\'tabiat\\', \\'bakat\\']\\n\\nThe result must be a list of string, which is the Indonesian translation from the Balinese word, and since it is a list it can be more than one translation. Return only the Indonesian translation in JSON format with key \"translation_indonesian\".'}"
      ]
     },
     "execution_count": 89,
     "metadata": {},
     "output_type": "execute_result"
    }
   ],
   "source": [
    "translation_dataset[0]"
   ]
  },
  {
   "cell_type": "code",
   "execution_count": 107,
   "metadata": {},
   "outputs": [],
   "source": [
    "model = \"gpt-4o-2024-08-06\"\n",
    "temperature = 0\n",
    "max_tokens = 512\n",
    "response_format = {\"type\": \"json_object\"}\n",
    "\n",
    "batch_req_objects = []\n",
    "for data in translation_dataset:\n",
    "  messages = [\n",
    "      {\"role\": \"user\", \"content\": data[\"prompt\"]}\n",
    "  ]\n",
    "  batch_req_object = create_batch_req_object(req_id=data[\"id\"], model=model, messages=messages, response_format=response_format, temperature=temperature)\n",
    "  \n",
    "  batch_req_objects.append(batch_req_object)"
   ]
  },
  {
   "cell_type": "code",
   "execution_count": 110,
   "metadata": {},
   "outputs": [],
   "source": [
    "save_batches_to_jsonl(batch_req_objects, 20000, \"dataset/translate_batch/bali_dict\")"
   ]
  },
  {
   "cell_type": "code",
   "execution_count": 111,
   "metadata": {},
   "outputs": [],
   "source": [
    "# Run the llm_batch_api function with all .jsonl files and gather batch_info\n",
    "batch_files = [f for f in os.listdir(\"dataset/translate_batch/\") if f.startswith(\"bali_dict_batch\") and f.endswith(\".jsonl\")]\n",
    "all_batch_info = []\n",
    "for batch_file in batch_files:\n",
    "    batch_number = batch_file.split('_')[-1].split('.')[0]\n",
    "    desc = f\"Batch {batch_number} of requests to generate Indonesian translation from Balinese word with help of English translation\"\n",
    "    batch_info = llm_batch_api(f\"dataset/translate_batch/{batch_file}\", purpose=\"batch\", desc=desc, completion_window=\"24h\")\n",
    "    all_batch_info.append(batch_info)"
   ]
  },
  {
   "cell_type": "code",
   "execution_count": 112,
   "metadata": {},
   "outputs": [],
   "source": [
    "all_batch_info_dict = [b.to_dict() for b in all_batch_info]\n",
    "# Save all batch_info to a file\n",
    "with open(\"dataset/translate_batch/bali_dict_batch_info.json\", \"w\") as f:\n",
    "    json.dump(all_batch_info_dict, f, indent=4)"
   ]
  },
  {
   "cell_type": "code",
   "execution_count": 117,
   "metadata": {},
   "outputs": [
    {
     "name": "stdout",
     "output_type": "stream",
     "text": [
      "Status of batch batch_67b57facc8248190897fdd3631a9cdee is completed\n",
      "Batch(id='batch_67b57facc8248190897fdd3631a9cdee', completion_window='24h', created_at=1739947948, endpoint='/v1/chat/completions', input_file_id='file-QWHGpJgFVv8Dob8eMy6EN3', object='batch', status='completed', cancelled_at=None, cancelling_at=None, completed_at=1739950437, error_file_id=None, errors=None, expired_at=None, expires_at=1740034348, failed_at=None, finalizing_at=1739949787, in_progress_at=1739947951, metadata={'description': 'Batch 1 of requests to generate Indonesian translation from Balinese word with help of English translation'}, output_file_id='file-4yRQdw1BtjLQMqf15nqL2t', request_counts=BatchRequestCounts(completed=4545, failed=0, total=4545))\n"
     ]
    }
   ],
   "source": [
    "for batch_info_dict in all_batch_info_dict:\n",
    "    updated_batch, output_file = llm_batch_check_retrieve_dict(batch_info_dict)\n",
    "    print(updated_batch)\n",
    "    if output_file:\n",
    "        write_jsonl(output_file.text, f\"bali_dict_batch_output.jsonl\")"
   ]
  },
  {
   "cell_type": "code",
   "execution_count": 114,
   "metadata": {},
   "outputs": [
    {
     "data": {
      "text/plain": [
       "20082"
      ]
     },
     "execution_count": 114,
     "metadata": {},
     "output_type": "execute_result"
    }
   ],
   "source": [
    "len(bali_dict.keys())"
   ]
  },
  {
   "cell_type": "code",
   "execution_count": 119,
   "metadata": {},
   "outputs": [
    {
     "data": {
      "text/plain": [
       "{'id': '5338f62e-0155-4b45-9928-c1b496dbf153',\n",
       " 'bali_word': 'abah-abah',\n",
       " 'translation_english': ['tabiat', 'bakat'],\n",
       " 'translation_indonesian': [],\n",
       " 'prompt': 'Translate the given Balinese word into Indonesian, with the help of its English translation:\\n- Balinese word: abah-abah\\n- English translation: [\\'tabiat\\', \\'bakat\\']\\n\\nThe result must be a list of string, which is the Indonesian translation from the Balinese word, and since it is a list it can be more than one translation. Return only the Indonesian translation in JSON format with key \"translation_indonesian\".'}"
      ]
     },
     "execution_count": 119,
     "metadata": {},
     "output_type": "execute_result"
    }
   ],
   "source": [
    "translation_dataset[0]"
   ]
  },
  {
   "cell_type": "code",
   "execution_count": 122,
   "metadata": {},
   "outputs": [],
   "source": [
    "import jsonlines\n",
    "\n",
    "def update_translations_from_jsonl(dataset, jsonl_path):\n",
    "    # Create a mapping of custom_id to translations from JSONL\n",
    "    translations = {}\n",
    "    with jsonlines.open(jsonl_path) as reader:\n",
    "        for obj in reader:\n",
    "            custom_id = obj['custom_id']\n",
    "            # Extract translation_indonesian from the response\n",
    "            try:\n",
    "                translation = json.loads(obj['response']['body']['choices'][0]['message']['content'])\n",
    "                translations[custom_id] = translation['translation_indonesian']\n",
    "            except (KeyError, json.JSONDecodeError):\n",
    "                continue\n",
    "\n",
    "    # Update dataset with translations\n",
    "    def update_translation(example):\n",
    "        if example['id'] in translations:\n",
    "            example['translation_indonesian'] = translations[example['id']]\n",
    "        return example\n",
    "\n",
    "    # Apply updates to dataset\n",
    "    updated_dataset = dataset.map(update_translation)\n",
    "    \n",
    "    return updated_dataset"
   ]
  },
  {
   "cell_type": "code",
   "execution_count": 123,
   "metadata": {},
   "outputs": [
    {
     "name": "stderr",
     "output_type": "stream",
     "text": [
      "Map: 100%|██████████| 4545/4545 [00:00<00:00, 21266.66 examples/s]\n"
     ]
    }
   ],
   "source": [
    "translation_dataset = update_translations_from_jsonl(translation_dataset, \"dataset/translate_batch/bali_dict/bali_dict_batch_output.jsonl\")"
   ]
  },
  {
   "cell_type": "code",
   "execution_count": 128,
   "metadata": {},
   "outputs": [],
   "source": [
    "def update_dict_translations(bali_dict, dataset):\n",
    "    # Convert dataset to dictionary for easier lookup\n",
    "    updated_entries = 0\n",
    "    \n",
    "    for item in dataset:\n",
    "        bali_word = item['bali_word']\n",
    "        \n",
    "        # Check if word exists in dictionary\n",
    "        if bali_word in bali_dict:\n",
    "            # Update translation_indonesian\n",
    "            bali_dict[bali_word]['translation_indonesian'] = item['translation_indonesian']\n",
    "            updated_entries += 1\n",
    "    \n",
    "    return bali_dict, updated_entries"
   ]
  },
  {
   "cell_type": "code",
   "execution_count": 129,
   "metadata": {},
   "outputs": [],
   "source": [
    "# Update the dictionary with new translations\n",
    "updated_dict, num_updated = update_dict_translations(bali_dict, translation_dataset)"
   ]
  },
  {
   "cell_type": "code",
   "execution_count": 131,
   "metadata": {},
   "outputs": [],
   "source": [
    "with open('dict/transformed_bali_dict_.json', 'w', encoding='utf-8') as f:\n",
    "    json.dump(updated_dict, f, ensure_ascii=False, indent=2)"
   ]
  },
  {
   "cell_type": "code",
   "execution_count": 132,
   "metadata": {},
   "outputs": [],
   "source": [
    "from collections import defaultdict\n",
    "\n",
    "def create_translation_dicts(bali_dict):\n",
    "    # Initialize dictionaries\n",
    "    bali_indo = {}\n",
    "    indo_bali = defaultdict(list)\n",
    "    \n",
    "    # Process each entry\n",
    "    for bali_word, values in bali_dict.items():\n",
    "        # Skip entries without translations\n",
    "        if not isinstance(values, dict):\n",
    "            continue\n",
    "        if 'translation_indonesian' not in values or not values['translation_indonesian']:\n",
    "            continue\n",
    "            \n",
    "        # Add to Balinese-Indonesian dictionary\n",
    "        bali_indo[bali_word] = values['translation_indonesian']\n",
    "        \n",
    "        # Add to Indonesian-Balinese dictionary\n",
    "        for indo_word in values['translation_indonesian']:\n",
    "            indo_bali[indo_word].append(bali_word)\n",
    "    \n",
    "    return bali_indo, dict(indo_bali)"
   ]
  },
  {
   "cell_type": "code",
   "execution_count": 133,
   "metadata": {},
   "outputs": [],
   "source": [
    "# Create both dictionaries\n",
    "bali_indo_dict, indo_bali_dict = create_translation_dicts(bali_dict)\n",
    "\n",
    "# Save Balinese-Indonesian dictionary\n",
    "with open('dict/bali_idn.json', 'w', encoding='utf-8') as f:\n",
    "    json.dump(bali_indo_dict, f, ensure_ascii=False, indent=2)\n",
    "\n",
    "# Save Indonesian-Balinese dictionary\n",
    "with open('dict/idn_bali.json', 'w', encoding='utf-8') as f:\n",
    "    json.dump(indo_bali_dict, f, ensure_ascii=False, indent=2)\n"
   ]
  },
  {
   "cell_type": "markdown",
   "metadata": {},
   "source": [
    "## Translate Sentence Example for Bali Dict"
   ]
  },
  {
   "cell_type": "code",
   "execution_count": 152,
   "metadata": {},
   "outputs": [],
   "source": [
    "import datasets\n",
    "\n",
    "def create_sent_translation_dataset(input_dict):\n",
    "    data = {\n",
    "        'id': [],\n",
    "        'bali_word': [],\n",
    "        'example_idx': [],\n",
    "        'balinese_text': [],\n",
    "        'indonesian_text': []\n",
    "    }\n",
    "    \n",
    "    for bali_word, values in input_dict.items():\n",
    "        # Skip if no sentence examples\n",
    "        if not isinstance(values, dict) or 'sentence_examples' not in values:\n",
    "            continue\n",
    "            \n",
    "        for example_idx, example in enumerate(values['sentence_examples']):\n",
    "            # Skip if both are empty or both exist\n",
    "            has_bali = example.get('Balinese', '-') != '-'\n",
    "            has_indo = example.get('Indonesian', '-') != '-'\n",
    "            \n",
    "            if has_bali == has_indo:  # both True or both False\n",
    "                continue\n",
    "                \n",
    "            data['id'].append(str(uuid.uuid4()))\n",
    "            data['bali_word'].append(bali_word)\n",
    "            data['example_idx'].append(example_idx)\n",
    "            data['balinese_text'].append(example.get('Balinese', '-'))\n",
    "            data['indonesian_text'].append(example.get('Indonesian', '-'))\n",
    "    \n",
    "    # Create HF Dataset\n",
    "    dataset = Dataset.from_dict(data)\n",
    "    \n",
    "    return dataset"
   ]
  },
  {
   "cell_type": "code",
   "execution_count": 157,
   "metadata": {},
   "outputs": [],
   "source": [
    "sent_translation_dataset = create_sent_translation_dataset(bali_dict)"
   ]
  },
  {
   "cell_type": "code",
   "execution_count": 158,
   "metadata": {},
   "outputs": [
    {
     "data": {
      "text/plain": [
       "{'id': 'd7b8db96-e304-47a2-8d7f-d326b85873ca',\n",
       " 'bali_word': 'anteg',\n",
       " 'example_idx': 0,\n",
       " 'balinese_text': 'Anteg jani Yan Galung tusing ada teka',\n",
       " 'indonesian_text': '-'}"
      ]
     },
     "execution_count": 158,
     "metadata": {},
     "output_type": "execute_result"
    }
   ],
   "source": [
    "sent_translation_dataset[86]"
   ]
  },
  {
   "cell_type": "code",
   "execution_count": 159,
   "metadata": {},
   "outputs": [],
   "source": [
    "bali_indo_dict = load_dictionary(\"dict/bali_idn.json\")\n",
    "indo_bali_dict = load_dictionary(\"dict/idn_bali.json\")\n",
    "\n",
    "def get_translate_sentence_prompt_text(data):\n",
    "    if data[\"balinese_text\"] == \"-\" and data[\"indonesian_text\"] != \"-\":\n",
    "      prompt_text = f\"\"\"Translate the given Indonesian text in the <id_text> tag below into Balinese with the help of some word-to-word translation provided below. For one word, there can be multiple translations, and you need to choose the right one based on the context. The translations are as follows:\n",
    "{get_dict_translation(data[\"indonesian_text\"].lower(), indo_bali_dict)}\n",
    "<id_text>\n",
    "{data[\"indonesian_text\"]}\n",
    "</id_text>\n",
    "\n",
    "Return only the translated text in JSON format with key \"translated_text\".\"\"\"\n",
    "    elif data[\"balinese_text\"] != \"-\" and data[\"indonesian_text\"] == \"-\":\n",
    "      prompt_text = f\"\"\"Translate the given Balinese text in the <bali_text> tag below into Indonesian with the help of some word-to-word translation provided below. For one word, there can be multiple translations, and you need to choose the right one based on the context. The translations are as follows:\n",
    "{get_dict_translation(data[\"balinese_text\"].lower(), bali_indo_dict)}\n",
    "<bali_text>\n",
    "{data[\"balinese_text\"]}\n",
    "</bali_text>\n",
    "\n",
    "Return only the translated text in JSON format with key \"translated_text\".\"\"\"\n",
    "    \n",
    "    data[\"prompt_text\"] = prompt_text\n",
    "    \n",
    "    return data"
   ]
  },
  {
   "cell_type": "code",
   "execution_count": 160,
   "metadata": {},
   "outputs": [
    {
     "name": "stderr",
     "output_type": "stream",
     "text": [
      "Map: 100%|██████████| 6421/6421 [00:00<00:00, 19170.91 examples/s]\n"
     ]
    }
   ],
   "source": [
    "sent_translation_dataset = sent_translation_dataset.map(get_translate_sentence_prompt_text)"
   ]
  },
  {
   "cell_type": "code",
   "execution_count": 163,
   "metadata": {},
   "outputs": [],
   "source": [
    "model = \"gpt-4o-2024-08-06\"\n",
    "temperature = 0\n",
    "max_tokens = 512\n",
    "response_format = {\"type\": \"json_object\"}\n",
    "\n",
    "batch_req_objects = []\n",
    "for data in sent_translation_dataset:\n",
    "  messages = [\n",
    "      {\"role\": \"user\", \"content\": data[\"prompt_text\"]}\n",
    "  ]\n",
    "  batch_req_object = create_batch_req_object(req_id=data[\"id\"], model=model, messages=messages, response_format=response_format, temperature=temperature)\n",
    "  \n",
    "  batch_req_objects.append(batch_req_object)"
   ]
  },
  {
   "cell_type": "code",
   "execution_count": null,
   "metadata": {},
   "outputs": [],
   "source": [
    "save_batches_to_jsonl(batch_req_objects, 20000, \"dataset/translate_batch/bali_sent/bali_sent\")"
   ]
  },
  {
   "cell_type": "code",
   "execution_count": 168,
   "metadata": {},
   "outputs": [],
   "source": [
    "# Run the llm_batch_api function with all .jsonl files and gather batch_info\n",
    "batch_files = [f for f in os.listdir(\"dataset/translate_batch/bali_sent\") if f.startswith(\"bali_sent_batch\") and f.endswith(\".jsonl\")]\n",
    "all_batch_info = []\n",
    "for batch_file in batch_files:\n",
    "    batch_number = batch_file.split('_')[-1].split('.')[0]\n",
    "    desc = f\"Batch {batch_number} of requests to generate Indonesian/Balinese translation from Indonesian/Balinese text with help of dictionary\"\n",
    "    batch_info = llm_batch_api(f\"dataset/translate_batch/bali_sent/{batch_file}\", purpose=\"batch\", desc=desc, completion_window=\"24h\")\n",
    "    all_batch_info.append(batch_info)"
   ]
  },
  {
   "cell_type": "code",
   "execution_count": 169,
   "metadata": {},
   "outputs": [],
   "source": [
    "all_batch_info_dict = [b.to_dict() for b in all_batch_info]\n",
    "# Save all batch_info to a file\n",
    "with open(\"dataset/translate_batch/bali_sent/bali_sent_batch_info.json\", \"w\") as f:\n",
    "    json.dump(all_batch_info_dict, f, indent=4)"
   ]
  },
  {
   "cell_type": "code",
   "execution_count": 174,
   "metadata": {},
   "outputs": [
    {
     "name": "stdout",
     "output_type": "stream",
     "text": [
      "Status of batch batch_67b5cfdf27d48190aea00909f1e03bbf is completed\n",
      "Batch(id='batch_67b5cfdf27d48190aea00909f1e03bbf', completion_window='24h', created_at=1739968479, endpoint='/v1/chat/completions', input_file_id='file-JeYcdKJB7Duhy3QyGUuh1r', object='batch', status='completed', cancelled_at=None, cancelling_at=None, completed_at=1739970673, error_file_id=None, errors=None, expired_at=None, expires_at=1740054879, failed_at=None, finalizing_at=1739970051, in_progress_at=1739968480, metadata={'description': 'Batch 1 of requests to generate Indonesian/Balinese translation from Indonesian/Balinese text with help of dictionary'}, output_file_id='file-Kd16BJtJwxbmn4B8NLQdty', request_counts=BatchRequestCounts(completed=6421, failed=0, total=6421))\n"
     ]
    }
   ],
   "source": [
    "for batch_info_dict in all_batch_info_dict:\n",
    "    updated_batch, output_file = llm_batch_check_retrieve_dict(batch_info_dict)\n",
    "    print(updated_batch)\n",
    "    if output_file:\n",
    "        write_jsonl(output_file.text, f\"dataset/translate_batch/bali_sent/bali_sent_batch_output.jsonl\")"
   ]
  },
  {
   "cell_type": "code",
   "execution_count": 176,
   "metadata": {},
   "outputs": [
    {
     "data": {
      "text/plain": [
       "Dataset({\n",
       "    features: ['id', 'bali_word', 'example_idx', 'balinese_text', 'indonesian_text', 'prompt_text'],\n",
       "    num_rows: 6421\n",
       "})"
      ]
     },
     "execution_count": 176,
     "metadata": {},
     "output_type": "execute_result"
    }
   ],
   "source": [
    "sent_translation_dataset"
   ]
  },
  {
   "cell_type": "code",
   "execution_count": 186,
   "metadata": {},
   "outputs": [],
   "source": [
    "import json\n",
    "import jsonlines\n",
    "\n",
    "def update_sentence_examples(bali_dict, sent_dataset, jsonl_path):\n",
    "    # Create a mapping of translations from JSONL\n",
    "    translations = {}\n",
    "    with jsonlines.open(jsonl_path) as reader:\n",
    "        for obj in reader:\n",
    "            custom_id = obj['custom_id']\n",
    "            try:\n",
    "                translation = json.loads(obj['response']['body']['choices'][0]['message']['content'])\n",
    "                translations[custom_id] = translation['translated_text']\n",
    "            except (KeyError, json.JSONDecodeError):\n",
    "                continue\n",
    "\n",
    "    # Update dictionary with translations\n",
    "    for data in sent_dataset:\n",
    "        custom_id = data['id']\n",
    "        bali_word = data['bali_word']\n",
    "        example_idx = data['example_idx']\n",
    "        if custom_id in translations:\n",
    "            if bali_word in bali_dict and 'sentence_examples' in bali_dict[bali_word]:\n",
    "              # Get the example at specified index\n",
    "              if example_idx < len(bali_dict[bali_word]['sentence_examples']):\n",
    "                  example = bali_dict[bali_word]['sentence_examples'][example_idx]\n",
    "                  \n",
    "                  # Update the empty translation\n",
    "                  if example['Balinese'] == '-':\n",
    "                      example['Balinese'] = translations[custom_id]\n",
    "                  elif example['Indonesian'] == '-':\n",
    "                      example['Indonesian'] = translations[custom_id]\n",
    "\n",
    "    return bali_dict"
   ]
  },
  {
   "cell_type": "code",
   "execution_count": 187,
   "metadata": {},
   "outputs": [],
   "source": [
    "# Load the dictionary\n",
    "with open('dict/transformed_bali_dict.json', 'r') as f:\n",
    "    bali_dict = json.load(f)\n",
    "\n",
    "# Update the dictionary with translations\n",
    "updated_dict = update_sentence_examples(bali_dict, sent_translation_dataset, 'dataset/translate_batch/bali_sent/bali_sent_batch_output.jsonl')\n",
    "\n",
    "# Save the updated dictionary\n",
    "with open('dict/transformed_bali_dict.json', 'w', encoding='utf-8') as f:\n",
    "    json.dump(updated_dict, f, ensure_ascii=False, indent=2)"
   ]
  },
  {
   "cell_type": "code",
   "execution_count": 214,
   "metadata": {},
   "outputs": [],
   "source": [
    "def extract_sentence_examples(dict_data):\n",
    "    # Initialize lists to store the examples\n",
    "    examples = {\n",
    "        'id': [],\n",
    "        'balinese': [],\n",
    "        'indonesian': []\n",
    "    }\n",
    "    \n",
    "    # Iterate through dictionary entries\n",
    "    for word, entry in dict_data.items():\n",
    "        if 'sentence_examples' in entry:\n",
    "            for example in entry['sentence_examples']:\n",
    "                # Skip if either Balinese or Indonesian is \"-\" or empty\n",
    "                if example.get('Balinese', '-') == '-' or example.get('Indonesian', '-') == '-':\n",
    "                    continue\n",
    "                \n",
    "                if not isinstance(example['Balinese'], str) or not isinstance(example['Indonesian'], str):\n",
    "                    print(example)\n",
    "                # Create dataset entry\n",
    "                examples['id'].append(str(uuid.uuid4()))\n",
    "                examples['balinese'].append(example['Balinese'])\n",
    "                examples['indonesian'].append(example['Indonesian']) \n",
    "    \n",
    "    # Create HuggingFace dataset\n",
    "    dataset = Dataset.from_dict(examples)\n",
    "    \n",
    "    return dataset"
   ]
  },
  {
   "cell_type": "code",
   "execution_count": 215,
   "metadata": {},
   "outputs": [],
   "source": [
    "updated_dict = load_dictionary(\"dict/transformed_bali_dict.json\")\n",
    "paralel_dataset = extract_sentence_examples(updated_dict)"
   ]
  },
  {
   "cell_type": "code",
   "execution_count": 216,
   "metadata": {},
   "outputs": [
    {
     "data": {
      "text/plain": [
       "Dataset({\n",
       "    features: ['id', 'balinese', 'indonesian'],\n",
       "    num_rows: 22248\n",
       "})"
      ]
     },
     "execution_count": 216,
     "metadata": {},
     "output_type": "execute_result"
    }
   ],
   "source": [
    "paralel_dataset"
   ]
  },
  {
   "cell_type": "code",
   "execution_count": 217,
   "metadata": {},
   "outputs": [
    {
     "name": "stderr",
     "output_type": "stream",
     "text": [
      "Saving the dataset (1/1 shards): 100%|██████████| 22248/22248 [00:00<00:00, 682795.10 examples/s]\n"
     ]
    }
   ],
   "source": [
    "paralel_dataset.save_to_disk(\"dataset/paralel_dataset\")"
   ]
  },
  {
   "cell_type": "markdown",
   "metadata": {},
   "source": [
    "## Translate Parallel (from bali dict) CBN"
   ]
  },
  {
   "cell_type": "code",
   "execution_count": 218,
   "metadata": {},
   "outputs": [],
   "source": [
    "# Load the dictionary\n",
    "idn_cbn = load_dictionary(\"dict/idn_cbn.json\")\n",
    "\n",
    "def get_translate_cbn_prompt_text(data):\n",
    "    prompt_text = f\"\"\"Translate the given Indonesian text in the <id_text> tag below into Cirebonese with the help of some word-to-word translation provided below. For one word, there can be multiple translations, and you need to choose the right one based on the context. The translations are as follows:\n",
    "{get_dict_translation(data[\"indonesian\"].lower(), idn_cbn)}\n",
    "<id_text>\n",
    "{data[\"indonesian\"]}\n",
    "</id_text>\n",
    "\n",
    "Return only the translated text in JSON format with key \"translated_text\".\"\"\"\n",
    "    data[\"prompt\"] = prompt_text\n",
    "    \n",
    "    return data"
   ]
  },
  {
   "cell_type": "code",
   "execution_count": 219,
   "metadata": {},
   "outputs": [
    {
     "name": "stderr",
     "output_type": "stream",
     "text": [
      "Map: 100%|██████████| 22248/22248 [00:01<00:00, 19035.66 examples/s]\n"
     ]
    }
   ],
   "source": [
    "paralel_dataset = paralel_dataset.map(get_translate_cbn_prompt_text)"
   ]
  },
  {
   "cell_type": "code",
   "execution_count": 220,
   "metadata": {},
   "outputs": [
    {
     "data": {
      "text/plain": [
       "{'id': 'dbcda0ea-9510-48fb-9736-5198a88d255a',\n",
       " 'balinese': 'mula keto',\n",
       " 'indonesian': 'memang begitu',\n",
       " 'prompt': 'Translate the given Indonesian text in the <id_text> tag below into Cirebonese with the help of some word-to-word translation provided below. For one word, there can be multiple translations, and you need to choose the right one based on the context. The translations are as follows:\\n- memang: si, ugi, ugah, uga, juga\\n- begitu: koten, begitu, mengkonon, mekoten, mudu, konon\\n\\n<id_text>\\nmemang begitu\\n</id_text>\\n\\nReturn only the translated text in JSON format with key \"translated_text\".'}"
      ]
     },
     "execution_count": 220,
     "metadata": {},
     "output_type": "execute_result"
    }
   ],
   "source": [
    "paralel_dataset[7845]"
   ]
  },
  {
   "cell_type": "code",
   "execution_count": 221,
   "metadata": {},
   "outputs": [],
   "source": [
    "model = \"gpt-4o-mini-2024-07-18\"\n",
    "temperature = 0\n",
    "max_tokens = 4096\n",
    "response_format = {\"type\": \"json_object\"}\n",
    "\n",
    "batch_req_objects = []\n",
    "for data in paralel_dataset:\n",
    "  messages = [\n",
    "      {\"role\": \"user\", \"content\": data[\"prompt\"]}\n",
    "  ]\n",
    "  batch_req_object = create_batch_req_object(req_id=data[\"id\"], model=model, messages=messages, response_format=response_format, temperature=temperature)\n",
    "  \n",
    "  batch_req_objects.append(batch_req_object)"
   ]
  },
  {
   "cell_type": "code",
   "execution_count": 227,
   "metadata": {},
   "outputs": [],
   "source": [
    "save_batches_to_jsonl(batch_req_objects, 11500, \"dataset/translate_batch/cbn_translate_paralel_bali_dict/cbn_translate_paralel_bali_dict\")"
   ]
  },
  {
   "cell_type": "code",
   "execution_count": 228,
   "metadata": {},
   "outputs": [],
   "source": [
    "# Run the llm_batch_api function with all .jsonl files and gather batch_info\n",
    "batch_files = [f for f in os.listdir(\"dataset/translate_batch/cbn_translate_paralel_bali_dict\") if f.startswith(\"cbn_translate_paralel_bali_dict\") and f.endswith(\".jsonl\")]\n",
    "all_batch_info = []\n",
    "for batch_file in batch_files:\n",
    "    batch_number = batch_file.split('_')[-1].split('.')[0]\n",
    "    desc = f\"Batch {batch_number} of requests to generate Cirebonese translation from Indonesian text (from Balinese corpus) with help of dictionary\"\n",
    "    batch_info = llm_batch_api(f\"dataset/translate_batch/cbn_translate_paralel_bali_dict/{batch_file}\", purpose=\"batch\", desc=desc, completion_window=\"24h\")\n",
    "    all_batch_info.append(batch_info)"
   ]
  },
  {
   "cell_type": "code",
   "execution_count": 229,
   "metadata": {},
   "outputs": [],
   "source": [
    "all_batch_info_dict = [b.to_dict() for b in all_batch_info]\n",
    "# Save all batch_info to a file\n",
    "with open(\"dataset/translate_batch/cbn_translate_paralel_bali_dict/cbn_translate_paralel_bali_dict.json\", \"w\") as f:\n",
    "    json.dump(all_batch_info_dict, f, indent=4)"
   ]
  },
  {
   "cell_type": "code",
   "execution_count": 231,
   "metadata": {},
   "outputs": [
    {
     "name": "stdout",
     "output_type": "stream",
     "text": [
      "Status of batch batch_67b6ee04bf2c8190b97d33352be5e6e4 is completed\n",
      "Batch(id='batch_67b6ee04bf2c8190b97d33352be5e6e4', completion_window='24h', created_at=1740041732, endpoint='/v1/chat/completions', input_file_id='file-88YiYVEhwwovWtPBxRZfvv', object='batch', status='completed', cancelled_at=None, cancelling_at=None, completed_at=1740052727, error_file_id=None, errors=None, expired_at=None, expires_at=1740128132, failed_at=None, finalizing_at=1740050984, in_progress_at=1740041736, metadata={'description': 'Batch 1 of requests to generate Cirebonese translation from Indonesian text (from Balinese corpus) with help of dictionary'}, output_file_id='file-S9MzKYyZrDz7qKCf1PUjf7', request_counts=BatchRequestCounts(completed=11500, failed=0, total=11500))\n",
      "Status of batch batch_67b6ee0717488190bc55e5e760fe27de is completed\n",
      "Batch(id='batch_67b6ee0717488190bc55e5e760fe27de', completion_window='24h', created_at=1740041735, endpoint='/v1/chat/completions', input_file_id='file-NnLWvVJgcofEfYr7RSUzrp', object='batch', status='completed', cancelled_at=None, cancelling_at=None, completed_at=1740050524, error_file_id=None, errors=None, expired_at=None, expires_at=1740128135, failed_at=None, finalizing_at=1740048975, in_progress_at=1740041738, metadata={'description': 'Batch 2 of requests to generate Cirebonese translation from Indonesian text (from Balinese corpus) with help of dictionary'}, output_file_id='file-9JqRFXt1BLH6mrcSLceU7q', request_counts=BatchRequestCounts(completed=10748, failed=0, total=10748))\n"
     ]
    }
   ],
   "source": [
    "for idx, batch_info_dict in enumerate(all_batch_info_dict):\n",
    "    updated_batch, output_file = llm_batch_check_retrieve_dict(batch_info_dict)\n",
    "    print(updated_batch)\n",
    "    if output_file:\n",
    "        write_jsonl(output_file.text, f\"dataset/translate_batch/cbn_translate_paralel_bali_dict/cbn_translate_paralel_bali_dict_output_{idx}.jsonl\")"
   ]
  },
  {
   "cell_type": "code",
   "execution_count": 253,
   "metadata": {},
   "outputs": [],
   "source": [
    "# Create a mapping of translations from JSONL\n",
    "translations = {}\n",
    "with jsonlines.open(\"dataset/translate_batch/cbn_translate_paralel_bali_dict/cbn_translate_paralel_bali_dict_output_0.jsonl\") as reader:\n",
    "    for obj in reader:\n",
    "        custom_id = obj['custom_id']\n",
    "        translation = json.loads(obj['response']['body']['choices'][0]['message']['content'])\n",
    "        if isinstance(translation['translated_text'], str):\n",
    "          translations[custom_id] = translation['translated_text']\n",
    "        elif isinstance(translation['translated_text'], list):\n",
    "          translations[custom_id] = \"\".join(translation['translated_text'])\n",
    "\n",
    "with jsonlines.open(\"dataset/translate_batch/cbn_translate_paralel_bali_dict/cbn_translate_paralel_bali_dict_output_1.jsonl\") as reader:\n",
    "    for obj in reader:\n",
    "        custom_id = obj['custom_id']\n",
    "        try:\n",
    "            translation = json.loads(obj['response']['body']['choices'][0]['message']['content'])\n",
    "            if isinstance(translation['translated_text'], str):\n",
    "              translations[custom_id] = translation['translated_text']\n",
    "            elif isinstance(translation['translated_text'], list):\n",
    "              translations[custom_id] = \"\".join(translation['translated_text'])\n",
    "        except (KeyError, json.JSONDecodeError):\n",
    "            print(custom_id)\n",
    "            print(translation['translated_text'])\n",
    "            raise ValueError\n",
    "\n",
    "def add_cbn_translation_to_dataset(data):\n",
    "    if data[\"id\"] in translations:\n",
    "        data[\"cirebonese\"] = translations[data[\"id\"]]\n",
    "    else:\n",
    "        raise ValueError(f\"Translation not found for ID: {data['id']}\")\n",
    "    return data"
   ]
  },
  {
   "cell_type": "code",
   "execution_count": 254,
   "metadata": {},
   "outputs": [
    {
     "data": {
      "text/plain": [
       "22248"
      ]
     },
     "execution_count": 254,
     "metadata": {},
     "output_type": "execute_result"
    }
   ],
   "source": [
    "len(translations.keys())"
   ]
  },
  {
   "cell_type": "code",
   "execution_count": 255,
   "metadata": {},
   "outputs": [
    {
     "name": "stderr",
     "output_type": "stream",
     "text": [
      "Map: 100%|██████████| 22248/22248 [00:00<00:00, 31959.80 examples/s]\n"
     ]
    }
   ],
   "source": [
    "paralel_dataset_new = paralel_dataset.map(add_cbn_translation_to_dataset)"
   ]
  },
  {
   "cell_type": "code",
   "execution_count": 260,
   "metadata": {},
   "outputs": [
    {
     "data": {
      "text/plain": [
       "{'id': '19ae585c-e2bc-4f12-8310-b892c8f37a7a',\n",
       " 'balinese': 'A: Ne madan bok jojong.\\nB: Mih, tonden taen kene “KAMEHAME” cai…\\nBok/Hair/Rambut\\nWimba/Eyebrow/Alis\\nKuping/Ear/Telinga\\nPanyingakan/Eye/Mata\\nCunguh/Nose/Hidung\\nPala/Shoulder/Pundak\\nBibih/Lip/ Bibir\\nBaong/Neck/ Leher\\nTangkah/Chest/Dada\\nLima/Hand/ Tangan\\nBasang/Belly/Perut\\nJriji/Finger/Jemari\\nPaa/Thigh/Paha\\nEntud/Knee/Lutut\\n\\nBatis/Leg/Kaki',\n",
       " 'indonesian': 'A: Ini namanya rambut kaku.\\n\\n\\nB: Wah, belum pernah kena “KAMEHAME” kau…',\n",
       " 'prompt': 'Translate the given Indonesian text in the <id_text> tag below into Cirebonese with the help of some word-to-word translation provided below. For one word, there can be multiple translations, and you need to choose the right one based on the context. The translations are as follows:\\n- belum pernah: béli ésok\\n- ini: enya, kien, niku, mangga, puniki, ikih, niki, nyah, iki\\n- namanya: namanya, arane, jenenge\\n- rambut: rema, rambut\\n- belum: durung, dereng\\n- pernah: sokan, sokat, nate, pernah\\n- kena: tanajahat, kèna, kênoh, kênop\\n\\n<id_text>\\nA: Ini namanya rambut kaku.\\n\\n\\nB: Wah, belum pernah kena “KAMEHAME” kau…\\n</id_text>\\n\\nReturn only the translated text in JSON format with key \"translated_text\".',\n",
       " 'cirebonese': 'A: Niku arane rema kaku.\\n\\nB: Wah, béli ésok kèna “KAMEHAME” kau…'}"
      ]
     },
     "execution_count": 260,
     "metadata": {},
     "output_type": "execute_result"
    }
   ],
   "source": [
    "paralel_dataset_new[5786]"
   ]
  },
  {
   "cell_type": "code",
   "execution_count": 261,
   "metadata": {},
   "outputs": [],
   "source": [
    "def clean_paralel_dataset(example):\n",
    "    # Replace specific text in balinese attribute\n",
    "    if \"Bok/Hair/Rambut\" in example['balinese']:\n",
    "        example['balinese'] = \"A: Ne madan bok jojong.\\nB: Mih, tonden taen kene “KAMEHAME” cai…\"\n",
    "    return example"
   ]
  },
  {
   "cell_type": "code",
   "execution_count": 262,
   "metadata": {},
   "outputs": [
    {
     "name": "stderr",
     "output_type": "stream",
     "text": [
      "Map: 100%|██████████| 22248/22248 [00:00<00:00, 29250.29 examples/s]\n"
     ]
    }
   ],
   "source": [
    "paralel_dataset_new = paralel_dataset_new.map(clean_paralel_dataset)"
   ]
  },
  {
   "cell_type": "code",
   "execution_count": 263,
   "metadata": {},
   "outputs": [
    {
     "data": {
      "text/plain": [
       "{'id': '19ae585c-e2bc-4f12-8310-b892c8f37a7a',\n",
       " 'balinese': 'A: Ne madan bok jojong.\\nB: Mih, tonden taen kene “KAMEHAME” cai…',\n",
       " 'indonesian': 'A: Ini namanya rambut kaku.\\n\\n\\nB: Wah, belum pernah kena “KAMEHAME” kau…',\n",
       " 'prompt': 'Translate the given Indonesian text in the <id_text> tag below into Cirebonese with the help of some word-to-word translation provided below. For one word, there can be multiple translations, and you need to choose the right one based on the context. The translations are as follows:\\n- belum pernah: béli ésok\\n- ini: enya, kien, niku, mangga, puniki, ikih, niki, nyah, iki\\n- namanya: namanya, arane, jenenge\\n- rambut: rema, rambut\\n- belum: durung, dereng\\n- pernah: sokan, sokat, nate, pernah\\n- kena: tanajahat, kèna, kênoh, kênop\\n\\n<id_text>\\nA: Ini namanya rambut kaku.\\n\\n\\nB: Wah, belum pernah kena “KAMEHAME” kau…\\n</id_text>\\n\\nReturn only the translated text in JSON format with key \"translated_text\".',\n",
       " 'cirebonese': 'A: Niku arane rema kaku.\\n\\nB: Wah, béli ésok kèna “KAMEHAME” kau…'}"
      ]
     },
     "execution_count": 263,
     "metadata": {},
     "output_type": "execute_result"
    }
   ],
   "source": [
    "paralel_dataset_new[5786]"
   ]
  },
  {
   "cell_type": "code",
   "execution_count": 264,
   "metadata": {},
   "outputs": [
    {
     "name": "stderr",
     "output_type": "stream",
     "text": [
      "Saving the dataset (1/1 shards): 100%|██████████| 22248/22248 [00:00<00:00, 544217.95 examples/s]\n"
     ]
    }
   ],
   "source": [
    "paralel_dataset_new = paralel_dataset_new.save_to_disk(\"dataset/paralel_dataset_from_bali_dict\")"
   ]
  },
  {
   "cell_type": "code",
   "execution_count": null,
   "metadata": {},
   "outputs": [],
   "source": []
  },
  {
   "cell_type": "markdown",
   "metadata": {},
   "source": [
    "## Translate 300K Parallel Data to CBN & BAN"
   ]
  },
  {
   "cell_type": "code",
   "execution_count": 363,
   "metadata": {},
   "outputs": [
    {
     "data": {
      "text/plain": [
       "Dataset({\n",
       "    features: ['text', 'indonesian', 'custom_id', 'cirebonese', 'prompt_text', 'balinese'],\n",
       "    num_rows: 59257\n",
       "})"
      ]
     },
     "execution_count": 363,
     "metadata": {},
     "output_type": "execute_result"
    }
   ],
   "source": [
    "pt_data_60k_new_bali_updated"
   ]
  },
  {
   "cell_type": "code",
   "execution_count": 364,
   "metadata": {},
   "outputs": [],
   "source": [
    "all_data_dedup = datasets.load_from_disk(\"dataset/id_hq_data_dedup\")"
   ]
  },
  {
   "cell_type": "code",
   "execution_count": null,
   "metadata": {},
   "outputs": [],
   "source": [
    "def filter_dedup_data(data):\n",
    "    if data[\"text\"] in pt_data_60k_new_bali_updated[\"indonesian\"]:\n",
    "        return None\n",
    "    else: \n",
    "        len = num_tokens_from_string(data[\"text\"], encoding)\n",
    "        if len < 7500:\n",
    "            return data\n",
    "        else:\n",
    "            return None"
   ]
  },
  {
   "cell_type": "code",
   "execution_count": 369,
   "metadata": {},
   "outputs": [
    {
     "name": "stderr",
     "output_type": "stream",
     "text": [
      "Map (num_proc=8): 100%|██████████| 651856/651856 [2:49:35<00:00, 64.06 examples/s]  \n"
     ]
    }
   ],
   "source": [
    "all_data_dedup_filtered = all_data_dedup.map(filter_dedup_data, num_proc=8)"
   ]
  },
  {
   "cell_type": "code",
   "execution_count": 371,
   "metadata": {},
   "outputs": [
    {
     "name": "stderr",
     "output_type": "stream",
     "text": [
      "Saving the dataset (3/3 shards): 100%|██████████| 605224/605224 [00:03<00:00, 194424.09 examples/s]\n"
     ]
    }
   ],
   "source": [
    "all_data_dedup_filtered.save_to_disk(\"dataset/id_hq_data_dedup_filtered\")"
   ]
  },
  {
   "cell_type": "code",
   "execution_count": 372,
   "metadata": {},
   "outputs": [
    {
     "data": {
      "text/plain": [
       "{'text': 'Kebebasan politik (juga dikenal sebagai otonomi politik atau kontrak politik) adalah konsep sentral dalam sejarah dan pemikiran politik Barat juga salah satu fitur terpenting dari masyarakat demokratis. Kebebasan politik digambarkan sebagai kebebasan dari penindasan atau paksaan, tidak adanya kondisi yang menjegal bagi individu dan membungkam situasi, atau tidak adanya keadaan paksaan pemenuhan kehidupan, misalnya paksaan ekonomi dalam suatu masyarakat. Meskipun kebebasan politik sering kali dimaknai negatif sebagai kebebasan dengan perilaku yang tidak masuk akal dari kendala eksternal, itu juga dapat merujuk pada pemenuhan hak, kapasitas dan kelayakan tindakan secara positif dan pelaksanaan hak-hak sosial atau kelompok. Konsep ini juga dapat mencakup kebebasan dari kendala internal semacam tindakan atau perkataan politik (misalnya kearifan sosial, konsistensi atau perilaku tidak terpuji). Konsep kebebasan politik erat kaitannya dengan konsep kebebasan sipil dan hak asasi manusia bahwa masyarakat demokratis biasanya diberikan perlindungan hukum dari negara.\\n\\nKebebasan politik adalah salah satu kelompok hak konstitusional dasar dan kebebasan warga negara, dimana mereka menentukan partisipasi mereka dalam kehidupan publik dan politik negara. Kebebasan politik biasanya dicantumkan dalam konstitusi, undang-undang dan peraturan negara lainnya. Lawan dari masyarakat bebas politik adalah masyarakat totaliter, masyarakat yang meminimalkan kebebasan politik untuk memaksakan segala tindakan rakyatnya.\\n\\nSudut pandang \\nBerbagai kelompok di sepanjang spektrum politik memiliki pandangan berbeda tentang apa yang mereka yakini sebagai kebebasan politik.\\n\\nFilsafat politik sayap kiri umumnya memasangkan gagasan kebebasan dengan kebebasan positif atau menghubungkan suatu kelompok atau individu dalam menentukan kehidupan mereka sendiri atau mewujudkan potensi mereka sendiri. Dalam pengertian ini, kebebasan dapat mencakup kebebasan dari kemiskinan, kelaparan, penyakit yang dapat diobati dan penindasan serta kebebasan dari kekangan dan paksaan,dari siapa pun.\\n\\nKonsep kebebasan sosialis (liberalitas) seperti yang dilihat oleh filsuf neoliberal dan Penerima Nobel Ekonomi Friedrich Hayek :. . .penggunaan \"kebebasan\" untuk menggambarkan \"kemampuan fisik demi melakukan apa yang saya inginkan\", kekuatan untuk memuaskan keinginan kita atau tingkat pilihan alternatif yang terbuka bagi kita . . .yang telah sengaja dipupuk sebagai bagian dari argumen sosialis . . .gagasan tentang kekuasaan kolektif atas keadaan telah menggantikan gagasan tentang kebebasan individu.Kaum anarkis sosial melihat kebebasan negatif dan positif sebagai konsep pelengkap kebebasan. Pandangan tentang hak seperti itu mungkin memerlukan pertukaran utilitarian, seperti mengorbankan hak atas hasil kerja seseorang, kebebasan berserikat untuk mengurangi diskriminasi rasial atau lebih banyak subsidi untuk perumahan. Kaum anarkis sosial menggambarkan pandangan negatif terhadap kebebasan-sentris yang didukung oleh kapitalisme sebagai \"kebebasan egois\".\\n\\nAnarko-kapitalis melihat hak negatif sebagai sistem yang konsisten. Ayn Rand menggambarkannya sebagai \"prinsip moral yang mendefinisikan dan mendukung kebebasan seseorang untuk bertindak dalam konteks sosial\". Bagi kaum libertarian kebebasan positif adalah kontradiktif karena apa yang disebut hak harus dipertukarkan satu sama lain, merendahkan hak-hak yang sah menurut definisi dengan mengalahkan pertimbangan moral lainnya. Setiap tuntutan hak atas hasil akhir (misalnya perumahan, pendidikan, layanan medis dan sebagainya) yang dibuat oleh orang-orang pada dasarnya merupakan hak untuk memperbudak orang lain yang diakui.\\n\\nFilsuf politik Alasdair MacIntyre berteori kebebasan dalam hal saling ketergantungan sosial kita dengan orang lain.\\n\\nPenerima Nobel Ekonomi Milton Friedman, dalam bukunya Capitalism and Freedom, berpendapat bahwa ada dua jenis kebebasan yaitu kebebasan politik dan kebebasan ekonomi; tanpa kebebasan ekonomi tidak mungkin ada kebebasan politik.\\n\\nRobin Hahnel dalam artikelnya \"Why the Market Subverts Democracy\", mempermasalahkan konsep kebebasan ekonomi Friedman, dengan menyatakan bahwa akan ada pelanggaran terhadap kebebasan orang lain setiap kali seseorang menjalankan kebebasan ekonominya sendiri dan pelanggaran tersebut hanya dapat dihindari jika ada sistem hak milik yang didefinisikan dengan tepat.\\n\\nFilsuf politik Nikolas Kompridis berpendapat bahwa motivasi mengejar kebebasan pada era modern secara garis besar dapat dibagi menjadi dua tujuan, yaitu kebebasan sebagai otonomi (kemerdekaan) dan kebebasan sebagai kemampuan untuk secara kooperatif memulai awal yang baru.\\n\\nMichel Foucault dalam penentangannya terhadap Kebebasan politik dimana kondisi hubungan kekuasaan yang lebih kuat dan tinggi ialah yang mengendalikan aksi politik dibawahnya. Teori ini juga didukung oleh oleh Cornelius Castoriadis, Antonio Gramsci, Herbert Marcuse, Jacques Rancière dan Theodor Adorno.\\n\\nJohn Dalberg-Acton menyatakan: \"Cara menguji paling tepat yang digunakan untuk menilai apakah suatu negara benar-benar bebas adalah jumlah keamanan yang dinikmati oleh kaum minoritas\".\\n\\nGerald C. MacCallum Jr. berbicara tentang kompromi antara kebebasan positif dan negatif, dengan mengatakan bahwa seseorang harus memiliki otonomi penuh atas diri mereka sendiri. Berhubungan satu sama lain karena menyangkut tiga hal, yaitu agen (personal maupun kelompok), batasan yang harus mereka bebaskan dan tujuan yang mereka cita-citakan.\\n\\nKebebasan yang diipelihara oleh sistem politik Islam ialah kebebasan yang makruf dan kebajikan yang sesuai dengan Al-Qur’an dan Hadis. Menegakkan prinsip kebebasan yang sebenarnya adalah tujuan terpenting bagi sistem politik dan pemerintahan Islam serta menjadi asas-asas utama bagi undang-undang perlembagaan negara Islam. \\n\\nWafi dan as-Saidi mengemukakan bahwa rakyat atau umat merupakan pemegang dan sumber segala kekuasaan. Umat mempunyai hak untuk berpartisipasi dalam menentukan kekuasan sesuai dengan kehendaknya yang harus dijalankan. Jika umat merupakan pemegang kekuasaan, maka pemerintah di bawah kekuasaannya dan bukan sebaliknya. Oleh karenanya umat mempunyai kebebasan politik penuh yang diberikan oleh Islam, bukan hak yang diberikan oleh penguasa. Sehinga ada dua hak yang paling dominan untuk seluruh umat, yakni hak memilih pemimpin dan hak mengawasi dan mengontrol setiap tindakan pemimpinnya, baik secara langsung atau dengan perwakilan.\\n\\nAda cendekiawan yang melihat kebebasan identik dengan demokrasi, ada pula yang menemukan kontradiksi antara kedua konsep tersebut. Sebagai contoh, beberapa berpendapat bahwa Irak menjadi bebas setelah penggulingan Saddam Hussein, karena hak asasi manusia diberlakukan dengan negara dikendalikan Amerika Serikat dan Irak memulai membangun sistem politik yang rasional. Yang lain mengatakan negara Irak hidup dengan kebebasan yang lebih besar di bawah Hussein, karena tidak terjadi kolonisasi pada saat itu. Ada pandangan bahwa baik kediktatoran maupun keberadaan kolonial tidak dapat berarti kebebasan.\\n\\nSejarah \\n\\nIstilah paling awal tentang kebebasan politik dapat kita temukan dalam \"Politik\" Aristoteles, di mana ia membahas kontradiksi antara kategori \"kebebasan\" dan bentuk pemerintahan yang demokratis. Penggunaan Undang-undang kebebasan politik ditemukan dalam Magna Carta Inggris tahun 1215. Kemudian tonggak penting Hak Asasi dalam merumuskan konsep Kebebasan politik seperti pada Bill of Rights Inggris yang diadopsi pada tahun 1689, Deklarasi Hak Asasi Manusia dan Warga Negara Prancis pada tahun 1789 dan Deklarasi Hak-Hak (Bill of Rights) Amerika pada tahun 1791.\\n\\nPada abad ke-19 dan awal abad ke-20, situasi kebebasan politik di berbagai negara mengalami perkembangan dengan cara yang berbeda. Ideologi liberal yang menuntut hak sipil dan politik (kebebasan dan kesetaraan, hak pilih, dll.) masih dalam pengertian sangat terbatas seperti kualifikasi pemilihan properti, larangan politik, ketidaksetaraan antara pria dan wanita, pembatasan ras, dll.\\n\\nSetelah Perang Dunia II ada lompatan kualitatif dalam pengembangan institusi hak asasi manusia dan sipil, yang menjadi topik utama dalam perkembangan hukum internasional. Pada tanggal 10 Desember 1948, Majelis Umum PBB mengadopsi \"Deklarasi Universal Hak Asasi Manusia\". Pada tahun 1950, Konvensi Eropa tentang Hak Asasi Manusia ditandatangani di Eropa, menciptakan mekanisme yang benar-benar beroperasi untuk memberikan perlindungan Hak Asasi Manusia dan Kebebasan Fundamental yang dinyatakan oleh Mahkamah Hak Asasi Manusia Eropa. Pada tahun 1966, di bawah naungan PBB, \"Perjanjian Internasional tentang Hak Sipil dan Politik\" dan \"Perjanjian Internasional tentang Hak-hak Ekonomi, Sosial dan Budaya”. Dokumen-dokumen ini dan dokumen-dokumen selanjutnya menyetujui standar internasional mengenai hak asasi manusia dan hak-hak sipil serta jaminan untuk memastikan hak-hak ini untuk dimasukkan dalam Undang-undang ataupun bentuk konstitusional Negara-negara yang berpartisipasi.\\n\\nHannah Arendt menelusuri asal-usul konseptual kebebasan ke politik Yunani kuno. Menurut studinya, konsep kebebasan secara historis tidak dapat dipisahkan dari tindakan politik. Politik hanya dapat dilakukan oleh mereka yang telah membebaskan diri dari kebutuhan hidup sehingga dapat berpartisipasi dalam ranah politik. Menurut Arendt, konsep kebebasan menjadi terkait dengan gagasan Kristen tentang kebebasan berkehendak atau kebebasan batin pada sekitar abad ke-5 M dan sejak itu kebebasan sebagai bentuk tindakan politik telah diabaikan meskipun menurutnya kebebasan adalah \"the raison d\\'être of politics (alasan untuk menjadi politik)\".\\n\\nArendt mengatakan bahwa kebebasan politik secara historis bertentangan dengan kedaulatan atau kekuatan kehendak karena di Yunani kuno dan Romawi kuno konsep kebebasan tidak dapat dipisahkan dari hasil kinerja dan tidak muncul sebagai konflik antara kehendak dan diri sendiri. Demikian pula, gagasan kebebasan sebagai kebebasan politik ialah gagasan yang berkembang di zaman modern. Ini bertentangan dengan gagasan kebebasan sebagai kapasitas untuk \"memulai yang baru\", dimana Arendt melihat ini sebagai akibat wajar dari kondisi fitrah bawaan manusia atau sifat manusia sebagai \"awal yang baru dan seorang pemula\". Republikanisme modern menggambarkan kebebasan politik sebagai peraturan di mana \"aturan hukum, yang bertumpu pada kedaulatan rakyat, akan mengakhiri kekuasaan manusia atas manusia\". \\n\\nDalam pandangan Arendt, aksi politik merupakan interupsi dari proses otomatis baik secara alamiah maupun historis. Kebebasan untuk memulai yang baru, dengan demikian merupakan perpanjangan dari \"kebebasan untuk memanggil sesuatu menjadi ada (nyata) yang sebelumnya tidak ada, tidak diberikan, bahkan suatu objek pengetahuan atau imajinasi yang secara jelas tidak dapat diketahui\".\\n\\nKebebasan politik di Indonesia \\n\\nIndonesia telah mencapai kemajuan demokrasi yang mengesankan sejak jatuhnya rezim otoriter pada tahun 1998, membangun pluralisme yang signifikan dalam politik dan media dan mengalami banyak transfer kekuasaan secara damai antar partai. Namun, negara ini terus berjuang dengan tantangan termasuk korupsi sistemik, diskriminasi dan kekerasan terhadap beberapa kelompok minoritas, ketegangan separatis di wilayah Papua dan penggunaan undang-undang pencemaran nama baik dan penistaan yang dipolitisir.\\n\\nDi masa orde baru, dimana iklim politik di Indonesia serasa dikendalikan oleh pemerintah, partai-partai politik dipaksa untuk bergabung (fusi partai politik 1973), menjadi dua partai politik yang dibedakan berdasarkan partai islam dan non-islam, sedangkan pemerintah sendiri memiliki satu partai yang dapat dipastikan selalu memenangkan pemilihan umum. Berbeda sekali ketika saat ini kita melihat beragam partai politik menjamur di kalangan masyarakat.\\n\\nDi era Reformasi, kebebasan politik di Indonesia mengalami pasang surut. Dimasa pemerintahan B.J. Habibie kebebasan politik mendapat angin segar, pers yang sebelumnya dibungkam dan dipaksa mengikuti opini dari pemerintahan diberi kebebasan pers. Habibie juga membentuk undang-undang yang mengatur kebebasan masyarakat Indonesia dalam melaksanakan pemilu, sehingga lahirlah 48 partai politik baru yang ikut berpartisipasi secara aktif dalam pemilu Indonesia di tahun 1999. Diberlakukannya Otonomi Daerah sehingga tidak terjadi Sentralisasi oleh Pemerintah, sehingga pemerintah daerah memiliki kewenangan untuk mengatur urusan daerahnya. Kemudian puncaknya pada tahun 2004, untuk pertama kalinya diadakan Pemilihan Umum Presiden dan Wakil Presiden yang dipilh langsung oleh rakyat.\\n\\nKebebasan politik dan sipil di Indonesia dinilai mengalami penurunan selama era pemerintahan Joko Widodo. Dalam indeks kebebasan yang disusun Freedom House, lembaga nirlaba yang berbasis di Washington, peringkat Indonesia tercatat turun dari “bebas” selama pemerintahan Susilo Bambang Yudhoyono menjadi “setengah bebas”. Dimana ketika itu pemerintah dianggap tidak melakukan tekanan dan menerima kritikan masyarakat. Kendati muncul beragam demonstrasi yang bahkan masuk kategori penghinaan atau pencemaran nama baik.\\n\\nKendati demikian, kebebasan politik saat ini semakin terlihat jelas lebih baik dari pada masa Orde baru. Perkembangan teknologi dan informasi turut membantu dalam menyampaikan pendapat pada khalayak umum bagi setiap orang. Selain untuk rakyat, kebebasan ini juga digunakan oleh media pers. Hal ini diperkuat dalam UU no 40 tahun 1999 tentang pers. Pers Indonesia semakin banyak dalam variasi dan jumlah. Rakyat Indonesia pun menjadi tahu apa aja yang sedang terjadi di negeri ini.\\n\\nKebebasan politik di negara lain\\n\\nAmerika Serikat \\nPemerintah republik federal yang memberikan rakyatnya manfaat dari sistem politik yang dinamis, tradisi aturan hukum yang kuat, kebebasan berekspresi dan keyakinan agama yang kuat serta beragam kebebasan sipil lainnya. Namun, dalam beberapa tahun terakhir lembaga-lembaga demokrasinya telah mengalami erosi, sebagaimana tercermin dalam tekanan partisan pada proses pemilihan, bias dan disfungsi dalam sistem peradilan pidana, kebijakan yang merugikan terhadap imigrasi dan pencari suaka jua meningkatnya kesenjangan dalam kekayaan, peluang ekonomi dan pengaruh politik.\\n\\nArab Saudi \\nSistem monarki absolut membatasi hampir semua hak politik dan kebebasan sipil. Tidak ada pejabat di tingkat nasional yang dipilih secara demokratis, pejabat tinggi biasanya merupakan anggota keluarga kerajaan. Pemerintah memberikan pengawasan luas dan ketat, perbedaan pendapat bisa dianggap kriminal, sektarianisme dan beban pengeluaran rakyat yang sebagaian besar ditanggung dari hasil eksplorasi minyak untuk menjalankan roda pemerintahan. Perempuan dan minoritas agama sering kali menghadapi diskriminasi hukum, meskipun beberapa tahun belakangan pemerintah melonggarkan hak atas perempuan di sana.\\n\\nBrasil \\nSebagai negara demokrasi yang mengadakan pemilihan umum yang kompetitif dan arena politik ditandai dengan debat publik yang meriah. Namun, jurnalis independen dan aktivis sipil berisiko mengalami pelecehan dan serangan kekerasan, pemerintah telah berjuang untuk mengatasi tingginya tingkat kejahatan, kekerasan yang tidak seimbang dan ekonomi minoritas yang tidak mendapat perhatian. Korupsi mewabah di tingkat atas, berkontribusi pada kekecewaan yang meluas terhadap partai politik tradisional.\\n\\nIndia \\nSebagai negara demokrasi multipartai, pemerintah yang dipimpin oleh Perdana Menteri Narendra Modi dan partai nasionalis Hindu Bharatiya Janata Party (BJP) telah memimpin kebijakan diskriminatif dan meningkatnya kekerasan yang mempengaruhi populasi Muslim. Konstitusi menjamin kebebasan sipil termasuk kebebasan berekspresi dan kebebasan beragama, tetapi pelecehan terhadap jurnalis, organisasi non-pemerintah (LSM) dan kritikus pemerintah lainnya telah meningkat secara signifikan di bawah Modi. Muslim, kasta terbuang (Dalit), dan suku terbuang (Adivasi) tetap terpinggirkan secara ekonomi dan sosial.\\n\\nRusia \\nKekuasaan dalam sistem politik otoriter Rusia terkonsentrasi di tangan Presiden Vladimir Putin. Dengan pasukan keamanan yang loyal, peradilan yang patuh, lingkungan media yang terkendali dan legislatif yang terdiri dari partai yang berkuasa dan faksi-faksi oposisi yang lunak, Senat Kremlin mampu mengontrol pemilihan umum dan menekan selisih beda pendapat. Adanya indikasi korupsi yang memiliki hubungan antara birokrat dan kelompok kejahatan terorganisir pun disoroti media.\\n\\nTiongkok \\nPemerintah Tiongkok menjadi semakin represif dalam beberapa tahun terakhir. Partai Komunis Tiongkok (PKT) yang berkuasa memperketat kendalinya atas birokrasi negara, media, pidato online, kelompok agama, universitas, bisnis, dan asosiasi masyarakat sipil dan telah merusak reformasi aturan hukumnya sendiri yang sudah sederhana. Pemimpin Partai Komunis Tiongkok dan Presiden Tiongkok, Xi Jinping, telah mengkonsolidasikan kekuatan pribadi ke tingkat yang tidak terbayangkan di Tiongkok selama beberapa dekade, tetapi tindakannya juga telah memicu meningkatnya ketidakpuasan di antara para elit di dalam dan di luar partai. Gerakan hak asasi manusia yang sedang berkembang di negara itu terus mencari jalan untuk melindungi hak-hak dasar meskipun ada tindakan keras selama bertahun-tahun. Partai Komunis Tiongkok berusaha untuk memonopoli semua bentuk organisasi politik dan tidak mengizinkan persaingan politik. Delapan partai kecil nonkomunis diizinkan memainkan peran kecil dalam sistem politik Tiongkok dan diwakili di Konferensi Permusyawaratan Politik Rakyat Tiongkok, sebuah badan penasihat resmi. Namun, aktivitas mereka dibatasi secara ketat dan mereka harus menerima kepemimpinan Partai Komunis Tiongkok sebagai syarat keberadaan mereka.\\n\\nKutipan terkenal \\n\\n \"Ελευθερία ή \" (Kebebasan atau Kematian)- moto Perang Kemerdekaan Yunani\\n \"Beri aku kebebasan atau bunuh aku!\"- Patrick Henry\\n \"Manusia dilahirkan bebas, namun dia dirantai di mana-mana.\"- Jean-Jacques Rousseau\\n \"Sloboda ili Smrt\" (Kebebasan atau Kematian)- Bekas motto Makedonia Utara\\n \"Mereka yang dapat menyerahkan kebebasan esensial untuk mendapatkan sedikit keamanan sementara tidak berhak atas kebebasan maupun keamanan\"- Benjamin Franklin\\n \"Kekuatan konstitusi terletak pada komitmen warga negara untuk melindunginya. Hak konstitusional hanya terjamin jika setiap warga negara merasa berkewajiban untuk mengambil bagian dalam perlindungan itu.\"- Albert Einstein\\n \"Hidup bebas atau mati\"- moto New Hampshire\\n\\nLihat pula \\n\\n Hak sipil dan politik\\n Kebebasan akademik\\n Kebebasan berpikir\\n Kebebasan berbicara\\n Kebebasan berkumpul\\n Kebebasan berserikat\\n Kebebasan beragama\\n Kebebasan sipil\\n Desentralisasi\\n\\nReferensi\\n\\nPranala luar \\n\\n Alberto Abadie (October 2004). \"Poverty, Political Freedom, and the Roots of Terrorism\" (PDF). Harvard University and NBER.\\n \"Brief review of trends in political change: freedom and conflict\".\\n \"Freedom: The Great Gift of the West\".\\nhttps://freedomhouse.org/\\n\\nHak sipil\\nKonsep politik\\nKonsep sosial'}"
      ]
     },
     "execution_count": 372,
     "metadata": {},
     "output_type": "execute_result"
    }
   ],
   "source": [
    "all_data_dedup_filtered[0]"
   ]
  },
  {
   "cell_type": "code",
   "execution_count": 375,
   "metadata": {},
   "outputs": [],
   "source": [
    "import uuid\n",
    "\n",
    "indo_bali_dict = load_dictionary(\"dict/idn_bali.json\")\n",
    "indo_cbn_dict = load_dictionary(\"dict/idn_cbn.json\")\n",
    "\n",
    "def get_translate_parallel_prompt_text(data):\n",
    "    prompt_text = f\"\"\"Translate the given Indonesian text in the <id_text> tag below into Cirebonese & Balinese with the help of some word-to-word translation provided below. For one word, there can be multiple translations, and you need to choose the right one based on the context. Not all word need to be translated such as named entities, therefore you need to properly choose which word need to be translated and which one is the right translation based on context. The translations are as follows:\n",
    "\n",
    "<cbn_translation>\n",
    "{get_dict_translation(data[\"text\"].lower(), indo_cbn_dict)}\n",
    "</cbn_translation>\n",
    "\n",
    "<bali_translation>\n",
    "{get_dict_translation(data[\"text\"].lower(), indo_bali_dict)}\n",
    "</bali_translation>\n",
    "\n",
    "<id_text>\n",
    "{data[\"text\"]}\n",
    "</id_text>\n",
    "\n",
    "Return only the translated text in JSON format with key \"cirebonese_text\" for the Cirebonese translation and \"balinese_text\" for the Balinese translation.\"\"\"\n",
    "    \n",
    "    data['id'] = str(uuid.uuid4())\n",
    "    data[\"prompt_text\"] = prompt_text\n",
    "    \n",
    "    return data"
   ]
  },
  {
   "cell_type": "code",
   "execution_count": 376,
   "metadata": {},
   "outputs": [
    {
     "name": "stderr",
     "output_type": "stream",
     "text": [
      "Map: 100%|██████████| 605224/605224 [04:34<00:00, 2201.28 examples/s]\n"
     ]
    }
   ],
   "source": [
    "all_data_dedup_filtered_prompt = all_data_dedup_filtered.map(get_translate_parallel_prompt_text)"
   ]
  },
  {
   "cell_type": "code",
   "execution_count": 19,
   "metadata": {},
   "outputs": [],
   "source": [
    "def count_tokens_in_dataset_prompt(dataset, num_tokens_from_string, encoder):\n",
    "    total_tokens = 0\n",
    "    \n",
    "    for item in dataset:\n",
    "        text = item['prompt_text']\n",
    "        tokens = num_tokens_from_string(text, encoder)\n",
    "        total_tokens += tokens\n",
    "    \n",
    "    return total_tokens"
   ]
  },
  {
   "cell_type": "code",
   "execution_count": 380,
   "metadata": {},
   "outputs": [
    {
     "data": {
      "text/plain": [
       "279138374"
      ]
     },
     "execution_count": 380,
     "metadata": {},
     "output_type": "execute_result"
    }
   ],
   "source": [
    "count_tokens_in_dataset(all_data_dedup_filtered_prompt, num_tokens_from_string, encoding)"
   ]
  },
  {
   "cell_type": "code",
   "execution_count": 379,
   "metadata": {},
   "outputs": [
    {
     "data": {
      "text/plain": [
       "186.825"
      ]
     },
     "execution_count": 379,
     "metadata": {},
     "output_type": "execute_result"
    }
   ],
   "source": [
    "2491 * 0.075"
   ]
  },
  {
   "cell_type": "code",
   "execution_count": 381,
   "metadata": {},
   "outputs": [
    {
     "data": {
      "text/plain": [
       "167.4"
      ]
     },
     "execution_count": 381,
     "metadata": {},
     "output_type": "execute_result"
    }
   ],
   "source": [
    "279 * 2 * 0.3"
   ]
  },
  {
   "cell_type": "code",
   "execution_count": 382,
   "metadata": {},
   "outputs": [],
   "source": [
    "all_data_dedup_filtered_prompt = all_data_dedup_filtered_prompt.shuffle(seed=42)"
   ]
  },
  {
   "cell_type": "code",
   "execution_count": 383,
   "metadata": {},
   "outputs": [
    {
     "data": {
      "text/plain": [
       "Dataset({\n",
       "    features: ['text', 'id', 'prompt_text'],\n",
       "    num_rows: 605224\n",
       "})"
      ]
     },
     "execution_count": 383,
     "metadata": {},
     "output_type": "execute_result"
    }
   ],
   "source": [
    "all_data_dedup_filtered_prompt"
   ]
  },
  {
   "cell_type": "code",
   "execution_count": 384,
   "metadata": {},
   "outputs": [],
   "source": [
    "all_data_dedup_filtered_prompt_1 = all_data_dedup_filtered_prompt.select(range(300000))\n",
    "all_data_dedup_filtered_prompt_2 = all_data_dedup_filtered_prompt.select(range(300000, len(all_data_dedup_filtered_prompt)))"
   ]
  },
  {
   "cell_type": "code",
   "execution_count": 387,
   "metadata": {},
   "outputs": [
    {
     "name": "stderr",
     "output_type": "stream",
     "text": [
      "Saving the dataset (8/8 shards): 100%|██████████| 300000/300000 [00:35<00:00, 8498.63 examples/s] \n"
     ]
    }
   ],
   "source": [
    "all_data_dedup_filtered_prompt_1.save_to_disk(\"dataset/id_hq_data_prompt_300k\")"
   ]
  },
  {
   "cell_type": "code",
   "execution_count": 388,
   "metadata": {},
   "outputs": [
    {
     "name": "stderr",
     "output_type": "stream",
     "text": [
      "Saving the dataset (9/9 shards): 100%|██████████| 305224/305224 [03:39<00:00, 1390.80 examples/s]\n"
     ]
    }
   ],
   "source": [
    "all_data_dedup_filtered_prompt_2.save_to_disk(\"dataset/id_hq_data_prompt_305k\")"
   ]
  },
  {
   "cell_type": "code",
   "execution_count": 27,
   "metadata": {},
   "outputs": [],
   "source": [
    "clean_305k = datasets.load_from_disk(\"dataset/id_hq/id_hq_data_prompt_305k_clean\")"
   ]
  },
  {
   "cell_type": "code",
   "execution_count": 28,
   "metadata": {},
   "outputs": [
    {
     "data": {
      "text/plain": [
       "{'text': 'Topik adalah acara berita televisi induk dari antv. Hadir pertama kali tayang pada tanggal 30 April 2006, Topik berisikan materi berita dari dalam dan luar negeri. Khusus untuk berita internasional, materi yang ditampilkan adalah informasi yang \"memiliki kedekatan dengan masyarakat Indonesia\". Sementara, kejadian-kejadian yang berlangsung di kawasan Timur Tengah, Asia, dan Asia Tenggara serta beberapa kawasan yang berdekatan dengan Indonesia akan menjadi \"pilihan utama berita-berita dari luar negeri\".\\n\\nProgram yang umumnya berdurasi tiga puluh menit ini awalnya disajikan dalam lima acara berita yang berbeda. Namun, sejak tahun 2018 banyak program Topik yang tidak disiarkan lagi di antv, menyisakan acara berita setiap jam yang bernama Topik Terkini.\\n\\nSejarah\\n\\n1994-2003\\nAcara Topik di antv didahului oleh penayangan beberapa acara berita dengan nama-nama yang berubah.\\n\\nProgram berita pertama yang disiarkan di ANteve adalah Laporan ANteve. Acara ini ditayangkan selama tiga kali, dari pagi (Laporan ANteve Pagi, Laporan ANteve Petang pukul 18:30 WIB, dan Laporan ANteve Tengah Malam pukul 24:00 WIB), awalnya selama dua kali perminggu. Nama ini kemudian diubah sejak 1995, demi menyesuaikan larangan pemerintah pada program berita di stasiun televisi swasta. Khusus untuk berita pagi dan petang dilanjutkan dengan nama baru, sedangkan berita tengah malam tidak disiarkan lagi, kemungkinan karena rating-nya rendah.\\n\\nCakrawala Sore (dikenal sebagai Cakrawala secara formal) pertama kali ditayangkan pada 16 Oktober 1995, pada jam 17:00 WIB dan berjalan selama 30 menit, selama setiap hari (awalnya hanya Senin-Sabtu saja). Acara berita pengganti Laporan ANteve Petang ini memfokuskan pemberitaannya pada kejadian-kejadian yang terjadi di kota-kota besar, seperti kriminal (utama), kebakaran, banjir, dll. Cakrawala juga memiliki segmen, seperti Ragam yang merupakan berita features di akhir acara. Dalam perkembangannya, acara ini cukup sering mendapatkan rating tinggi dan cukup banyak pemasang iklan pada era 1990-an mengingat pemberitaannya yang cenderung berbeda.\\n\\nSedangkan Halo Indonesia mulai hadir di waktu yang sama dengan Cakrawala, yaitu sejak 16 Oktober 1995, dan disiarkan pada jam 06:00 WIB selama satu jam pada hari Senin-Jumat dengan dua penyiar. Acara pengganti Laporan ANteve Pagi ini mengombinasikan berita, dialog, dan pelayanan umum, dengan memasukan bagian talk show bersama pemirsa yang ingin memberikan keluhan tentang aneka hal mengenai pelayanan publik. Berita dari Halo Indonesia juga lebih bersifat generalis dibanding Cakrawala, dengan mengulas topik seperti ekonomi, olahraga dan berita internasional.Communication of Politics and Politics of Communication in Indonesia: A Study on Media Performance, Responsibility and Accountability\\n\\nAcara berita lain ANteve pada masa itu adalah Aktualita, yaitu program berita pendek selama 1 jam sekali (mirip seperti Sekilas Info RCTI). Aktualita awalnya hanya disiarkan pada pagi hari, namun sejak Oktober 1996 ditayangkan juga pada sore dan malam.\\n\\nDemi memperkuat tiga acara ini (ditambah program sejenis seperti Lensa Olahraga dan Planet Remaja), ANteve memperkerjakan sekitar 80 (kemudian bertambah menjadi 132) awak dan reporter, bekerjasama dengan polisi demi meraih berita, dan melakukan pelatihan bersama dengan stasiun televisi Prancis, TF1. Selain itu, ANteve juga mendirikan beberapa biro internasional, seperti di Washington DC, Amerika Serikat.\\n\\nProgram berita ANteve ini kemudian ditambah dengan Cakrawala Dunia, yang disiarkan dari Senin-Sabtu pada jam 17:30 WIB (setelah Cakrawala Sore dan selama 30 menit) yang memberitakan tentang berita dari mancanegara, sejak 11 Februari 1998. Kemudian juga hadir program Fakta yang bersiaran sejak 23 Februari 1998, pada hari Senin jam 20:00 WIB, berisi tentang berita kriminal.\\n\\n2003-2006\\nPada era ini, program-program berita Antv mengalami perubahan, baik dalam jumlah maupun nama.\\n\\nAcara Halo Indonesia diubah namanya menjadi Jurnal antv Pagi, yang tayang di waktu sama (Senin-Jumat jam 06:00-07:00 WIB). Lalu, program Cakrawala kemudian juga ditambah dengan Jurnal antv Sore yang ditayangkan 30 menit sebelumnya (16:30 WIB) dari Senin-Sabtu, dengan penekanan lebih pada berita kriminal. Acara Cakrawala Dunia kemudian juga dihentikan, sempat digantikan secara singkat dengan acara Focus Asia yang memberitakan mengenai informasi di negara-negara Asia.\\n\\nProgram kriminal kemudian juga ditambah. Selain Fakta, kemudian juga hadir Kriminalitas yang merupakan acara kriminal pagi dan Sidik Jari (yang kemudian dijadikan program Hardnews tvOne yang juga satu pemilik dengan ANTV pada tahun 2019-2022) yang merupakan majalah berita kriminal.Kriminalitas\\n\\n2006-sekarang\\nSeiring dengan masuknya modal baru dari STAR TV, Antv kemudian mengadakan perubahan program beritanya kembali, sejalan dengan perubahan yang hadir di stasiun televisi ini. Seluruh acara berita kemudian diubah namanya menjadi Topik, yang tayang pada pagi, siang, petang dan malam. Perubahan ini juga diiringi perbaikan di bidang personil, seperti perekrutan wartawan senior Karni Ilyas, dan beberapa presenter seperti Valerina Daniel dan Grace Natalie.\\n\\nKeberadaan Topik tidak berlangsung lama karena tergusur oleh acara lain di antv. Sejak bergabungnya Otis Hahijary sebagai director programming antv sekaligus transformasi antv menjadi televisi yang berfokus pada kepemirsaan ibu rumah tangga, remaja putri dan anak-anak (dengan hadirnya tayangan drama India, serial animasi, dan sejumlah program in-house production ANTV), jam tayang acara-acara tersebut yang lama membuat Topik (dan acara sejenis yaitu Lensa Olahraga yang sempat ditayangkan kembali oleh antv pada tahun 2022-2023) dihapuskan dari jadwal stasiun televisi ini. Dua program awal yang dihapus adalah Topik Petang dan Topik Siang, masing-masing pada 2013 dan 2014 menyisakan Topik Malam dan Topik Pagi. Sempat juga antv menghadirkan program Topik Petang Update yang tayang di rentan waktu 2011 hingga 2012, sebelum akhirnya resmi berhenti tayang pada tahun 2013. Memasuki 2015, divisi pemberitaan antv ditutup, dan dua program Topik yang tersisa dihapuskan pada 2017. Kini, program Topik tidak lagi ditayangkan dalam waktu panjang, dan hanya menjadi nama berita pendek aktual saja pada waktu-waktu tertentu. Program berita tersebut, digantikan oleh Selamat Pagi Nusantara, Selamat Malam Indonesia, dan baru-baru ini Merah Putih Peristiwa dan inkarnasi ketiga dari Cakrawala yang terkesan lebih ringan dan jam tayangnya jauh lebih pagi/malam dibanding Topik sebelumnya. Pihak antv berpendapat, pengemasan berita dengan teknik seperti ini dilakukan karena sudah ada tvOne, saluran saudaranya yang fokus pada berita hard news. Dalam beberapa waktu juga (2019-2021), antv sempat tidak memiliki program berita tetap, menyisakan Topik Terkini saja.\\n\\nPenyiar\\n\\nReferensi\\n\\nAcara televisi Indonesia\\nAcara televisi antv',\n",
       " 'id': '2dfeaf4e-fcec-41be-addb-f6bebf09afa8',\n",
       " 'prompt_text': 'Translate the given Indonesian text in the <id_text> tag below into Cirebonese & Balinese with the help of some word-to-word translation provided below. For one word, there can be multiple translations, and you need to choose the right one based on the context. Not all word need to be translated such as named entities, therefore you need to properly choose which word need to be translated and which one is the right translation based on context. The translations are as follows:\\n\\n<cbn_translation>\\n- dua kali: pingro, dobel, pingara\\n- setiap hari: sabên, saban dina, amban dina, unggal dina, saban\\n- sama dengan: sewang, angkéna, sowang, angkan, angkén, sewang-sewang\\n- bersama dengan: kélawan, lawan\\n- yang lama: uni, huni\\n- seperti ini: mengkenen, meketen\\n- berita: warta, wartos, kabar\\n- dari: saking, entas, sing, tas\\n- hadir: wênang\\n- pertama: pertama, pertami\\n- kali: tapak jalak, ping\\n- pada: têng, ing, ajéro, ning jêro\\n- tanggal: purucut, mérucut\\n- berita: warta, wartos, kabar\\n- dari: saking, entas, sing, tas\\n- dalam: kalebet, mlebet, jero, lebet\\n- dan: lan, dan\\n- luar: jaba, jawi\\n- khusus: kusus, husus, spesial, sépesial\\n- untuk: untuk\\n- berita: warta, wartos, kabar\\n- yang: ingkang, kang, sing\\n- yang: ingkang, kang, sing\\n- dengan: kalawan, sareng, bari, kalian, lan, karo, kelan, kelawan\\n- masyarakat: masyarakat, wanua\\n- yang: ingkang, kang, sing\\n- di: teng, ning, dipun, di, ada\\n- kawasan: ulayat\\n- dan: lan, dan\\n- serta: iring, aharêp\\n- beberapa: pirang-pirang, pinten-pinten\\n- kawasan: ulayat\\n- yang: ingkang, kang, sing\\n- berdekatan: kěrěp\\n- dengan: kalawan, sareng, bari, kalian, lan, karo, kelan, kelawan\\n- indonesia: nusantara\\n- akan: ajeng, badè, arep bade, apan, arep\\n- menjadi: amiji, atémah, angjuru\\n- utama: utami, utama\\n- dari: saking, entas, sing, tas\\n- luar: jaba, jawi\\n- program: program\\n- yang: ingkang, kang, sing\\n- tiga: telu, tigo\\n- puluh: dasa\\n- ini: enya, kien, niku, mangga, puniki, ikih, niki, nyah, iki\\n- dalam: kalebet, mlebet, jero, lebet\\n- lima: lima, gangsal\\n- berita: warta, wartos, kabar\\n- yang: ingkang, kang, sing\\n- sejak: atêwêk\\n- tahun: naun, taun\\n- banyak: akèh, katahipun, kebek, pirang-pirang, katah, akeh\\n- program: program\\n- yang: ingkang, kang, sing\\n- tidak: mboten kènging, mboten, ora, aja, boten, beli\\n- lagi: malih, maro, lagi, sekali, maning, slagi\\n- di: teng, ning, dipun, di, ada\\n- menyisakan: ngangai\\n- berita: warta, wartos, kabar\\n- setiap: saban\\n- jam: pukul, jam, tabuh\\n- yang: ingkang, kang, sing\\n- bernama: haran, aharan, maran\\n- sejarah: sajarah\\n- di: teng, ning, dipun, di, ada\\n- oleh: polah, pulah, jiyadan, dening, jiyat, ulih\\n- beberapa: pirang-pirang, pinten-pinten\\n- berita: warta, wartos, kabar\\n- dengan: kalawan, sareng, bari, kalian, lan, karo, kelan, kelawan\\n- yang: ingkang, kang, sing\\n- program: program\\n- berita: warta, wartos, kabar\\n- pertama: pertama, pertami\\n- yang: ingkang, kang, sing\\n- di: teng, ning, dipun, di, ada\\n- laporan: pangarwuh, kawangan, gagas, abipraya, pèrslah\\n- ini: enya, kien, niku, mangga, puniki, ikih, niki, nyah, iki\\n- selama: sandêng\\n- tiga: telu, tigo\\n- dari: saking, entas, sing, tas\\n- pagi: enjing, esuk\\n- laporan: pangarwuh, kawangan, gagas, abipraya, pèrslah\\n- pukul: giplok, tampêk, pupuh, sotho, kaplok, têtêg, gamplêng, tampyal, kêpruk, pukul, antèm, iwul\\n- dan: lan, dan\\n- laporan: pangarwuh, kawangan, gagas, abipraya, pèrslah\\n- tengah: têngah, langlang\\n- malam: dalu, bengi, daluh, wengi\\n- pukul: giplok, tampêk, pupuh, sotho, kaplok, têtêg, gamplêng, tampyal, kêpruk, pukul, antèm, iwul\\n- selama: sandêng\\n- dua: loro, kali\\n- kali: tapak jalak, ping\\n- nama: nama, wasta, aran, nami, jeneng, asma\\n- ini: enya, kien, niku, mangga, puniki, ikih, niki, nyah, iki\\n- kemudian: bacut, lajeng\\n- sejak: atêwêk\\n- menyesuaikan: purun, badhe, dredes, sudi, ayun, ajer, angga, arép, drawa, butuh, useng, ngimbangi, gélém, hayun, anguseng, ajur, drewes\\n- larangan: larang, kêkêran, sandi, pepali, kumali, wadi, pêpalih, simpén, sir, he, ila-ila, rahsia\\n- pada: têng, ing, ajéro, ning jêro\\n- program: program\\n- berita: warta, wartos, kabar\\n- di: teng, ning, dipun, di, ada\\n- stasiun: sétasiun\\n- khusus: kusus, husus, spesial, sépesial\\n- untuk: untuk\\n- berita: warta, wartos, kabar\\n- pagi: enjing, esuk\\n- dan: lan, dan\\n- dengan: kalawan, sareng, bari, kalian, lan, karo, kelan, kelawan\\n- nama: nama, wasta, aran, nami, jeneng, asma\\n- sedangkan: mangka-mangka, yatan, yan, yatanyan, yen\\n- berita: warta, wartos, kabar\\n- tengah: têngah, langlang\\n- malam: dalu, bengi, daluh, wengi\\n- tidak: mboten kènging, mboten, ora, aja, boten, beli\\n- karena: keranten, kerana, karena\\n- cakrawala: ufuk, falak, palak\\n- sore: sonten, sore\\n- sebagai: angkan, angkén, pénaka, angkéna\\n- cakrawala: ufuk, falak, palak\\n- pertama: pertama, pertami\\n- kali: tapak jalak, ping\\n- pada: têng, ing, ajéro, ning jêro\\n- pada: têng, ing, ajéro, ning jêro\\n- jam: pukul, jam, tabuh\\n- dan: lan, dan\\n- berjalan: lampah, melampa, tindak, melaku, lunga, mlampah, mlaku\\n- selama: sandêng\\n- selama: sandêng\\n- setiap: saban\\n- hari: dinten, dina\\n- hanya: ugi, nanghing, namun, anghing, tan anglúh, mung, ara, mélulu, uga, ta, ila, juga\\n- berita: warta, wartos, kabar\\n- pengganti: parujar, sêsulih\\n- laporan: pangarwuh, kawangan, gagas, abipraya, pèrslah\\n- ini: enya, kien, niku, mangga, puniki, ikih, niki, nyah, iki\\n- pada: têng, ing, ajéro, ning jêro\\n- yang: ingkang, kang, sing\\n- di: teng, ning, dipun, di, ada\\n- seperti: kinten, kados, kira, kaya\\n- cakrawala: ufuk, falak, palak\\n- juga: ugi, uga\\n- memiliki: akělit, kělit, sampun amunpuni, pun\\n- seperti: kinten, kados, kira, kaya\\n- ragam: témbang, pratingkah, teto, lampah, tingkah, lagu, palambang, gamitan, purih, gita, rekadhaya, de, acara, ulah\\n- yang: ingkang, kang, sing\\n- berita: warta, wartos, kabar\\n- di: teng, ning, dipun, di, ada\\n- akhir: antaka, antay, apawargga, tutug, puhara, kari-kari, anta, awasan\\n- dalam: kalebet, mlebet, jero, lebet\\n- ini: enya, kien, niku, mangga, puniki, ikih, niki, nyah, iki\\n- cukup: kecap, pas, cukup, sedeng, cumpon, cekap\\n- sering: sering, asring\\n- tinggi: inggil, duwur, dewur\\n- dan: lan, dan\\n- cukup: kecap, pas, cukup, sedeng, cumpon, cekap\\n- banyak: akèh, katahipun, kebek, pirang-pirang, katah, akeh\\n- iklan: promosi\\n- pada: têng, ing, ajéro, ning jêro\\n- mengingat: inggat, ninggati, inggut\\n- yang: ingkang, kang, sing\\n- cenderung: singhit\\n- sedangkan: mangka-mangka, yatan, yan, yatanyan, yen\\n- indonesia: nusantara\\n- mulai: mulai, milai, awiti, ngawiti, pramila, wiwiti\\n- hadir: wênang\\n- di: teng, ning, dipun, di, ada\\n- waktu: wekadal, wanci, waktu, wayah, waktos\\n- yang: ingkang, kang, sing\\n- sama: pada, kaliyan, sami, karo\\n- dengan: kalawan, sareng, bari, kalian, lan, karo, kelan, kelawan\\n- yaitu: yateka, na, dados, yatekaken, atika, yeka, tulus, atikang, dadya, yekana, témah, yateku, atiki, yateki, yatekana, yekan, dadiya, dadi, sida\\n- sejak: atêwêk\\n- dan: lan, dan\\n- pada: têng, ing, ajéro, ning jêro\\n- jam: pukul, jam, tabuh\\n- selama: sandêng\\n- satu: satunggal, siji\\n- jam: pukul, jam, tabuh\\n- pada: têng, ing, ajéro, ning jêro\\n- hari: dinten, dina\\n- dengan: kalawan, sareng, bari, kalian, lan, karo, kelan, kelawan\\n- dua: loro, kali\\n- pengganti: parujar, sêsulih\\n- laporan: pangarwuh, kawangan, gagas, abipraya, pèrslah\\n- pagi: enjing, esuk\\n- ini: enya, kien, niku, mangga, puniki, ikih, niki, nyah, iki\\n- dan: lan, dan\\n- dengan: kalawan, sareng, bari, kalian, lan, karo, kelan, kelawan\\n- memasukan: ahulap\\n- bagian: pihak, babag, kakandha, babagan\\n- bersama: sareng, sarengan, bebarengan, lan, bareng, dumateg, karo\\n- pemirsa: parios, pirsa\\n- yang: ingkang, kang, sing\\n- ingin: kersa, purun, pengen\\n- memberikan: maringakén, dana, seleh, dini\\n- tentang: bab, pênthang, yatapin, babag, namun, babagan, yadyapi, walhal, pri, yadyastun, tangtang\\n- hal: bab, pérkara, pratingkah, babag, ihwal, babagan, tingkah, de, soal, pêri, purih, pri, arta, tabeat\\n- mengenai: waji, angèna, pri, amaji, baji\\n- berita: warta, wartos, kabar\\n- dari: saking, entas, sing, tas\\n- indonesia: nusantara\\n- juga: ugi, uga\\n- lebih: luwih, langkung, lebih\\n- dibanding: inatèbakan\\n- dengan: kalawan, sareng, bari, kalian, lan, karo, kelan, kelawan\\n- seperti: kinten, kados, kira, kaya\\n- olahraga: sépor, sport, olahraga, sênam\\n- dan: lan, dan\\n- berita: warta, wartos, kabar\\n- berita: warta, wartos, kabar\\n- lain: dudu, lintu, dede, lain, liya, sejen, beda, sanes, boten sami\\n- pada: têng, ing, ajéro, ning jêro\\n- masa: musim, jablog, mangsa, usum\\n- itu: ikah, niku, puniku, kunuh, kuwen, iku, waktu, sementen, nika, ika, punika, ikuh\\n- yaitu: yateka, na, dados, yatekaken, atika, yeka, tulus, atikang, dadya, yekana, témah, yateku, atiki, yateki, yatekana, yekan, dadiya, dadi, sida\\n- program: program\\n- berita: warta, wartos, kabar\\n- pendek: endap, cindek, endep\\n- selama: sandêng\\n- jam: pukul, jam, tabuh\\n- sekali: sepindah, sanget, pisan, sepisan\\n- seperti: kinten, kados, kira, kaya\\n- sekilas: sépandulu, kĕlebat\\n- hanya: ugi, nanghing, namun, anghing, tan anglúh, mung, ara, mélulu, uga, ta, ila, juga\\n- pada: têng, ing, ajéro, ning jêro\\n- pagi: enjing, esuk\\n- sejak: atêwêk\\n- juga: ugi, uga\\n- pada: têng, ing, ajéro, ning jêro\\n- sore: sonten, sore\\n- dan: lan, dan\\n- memperkuat: ngêkêri\\n- tiga: telu, tigo\\n- ini: enya, kien, niku, mangga, puniki, ikih, niki, nyah, iki\\n- program: program\\n- seperti: kinten, kados, kira, kaya\\n- lensa: optik\\n- olahraga: sépor, sport, olahraga, sênam\\n- dan: lan, dan\\n- sekitar: sukat, longgar, lwa, aléba, lukat, cocor, amba, curuk, léba\\n- bertambah: atambêh, umakin, mawahwah, makin, akin\\n- menjadi: amiji, atémah, angjuru\\n- awak: badan\\n- dan: lan, dan\\n- dengan: kalawan, sareng, bari, kalian, lan, karo, kelan, kelawan\\n- polisi: polisi\\n- meraih: adungkap\\n- dan: lan, dan\\n- melakukan: nglakoni, melampahi\\n- bersama: sareng, sarengan, bebarengan, lan, bareng, dumateg, karo\\n- dengan: kalawan, sareng, bari, kalian, lan, karo, kelan, kelawan\\n- stasiun: sétasiun\\n- selain: apa, nanghing, illa, anghing, tan anglúh, beda, ila, hila, ila-ila\\n- juga: ugi, uga\\n- mendirikan: anjiring, magaway, dandan tarub, awangun, anggarap, garap, jiring\\n- beberapa: pirang-pirang, pinten-pinten\\n- seperti: kinten, kados, kira, kaya\\n- di: teng, ning, dipun, di, ada\\n- program: program\\n- berita: warta, wartos, kabar\\n- ini: enya, kien, niku, mangga, puniki, ikih, niki, nyah, iki\\n- kemudian: bacut, lajeng\\n- dengan: kalawan, sareng, bari, kalian, lan, karo, kelan, kelawan\\n- cakrawala: ufuk, falak, palak\\n- yang: ingkang, kang, sing\\n- dari: saking, entas, sing, tas\\n- pada: têng, ing, ajéro, ning jêro\\n- jam: pukul, jam, tabuh\\n- cakrawala: ufuk, falak, palak\\n- sore: sonten, sore\\n- dan: lan, dan\\n- selama: sandêng\\n- yang: ingkang, kang, sing\\n- tentang: bab, pênthang, yatapin, babag, namun, babagan, yadyapi, walhal, pri, yadyastun, tangtang\\n- berita: warta, wartos, kabar\\n- dari: saking, entas, sing, tas\\n- sejak: atêwêk\\n- kemudian: bacut, lajeng\\n- juga: ugi, uga\\n- hadir: wênang\\n- program: program\\n- yang: ingkang, kang, sing\\n- sejak: atêwêk\\n- pada: têng, ing, ajéro, ning jêro\\n- hari: dinten, dina\\n- senin: sénen\\n- jam: pukul, jam, tabuh\\n- berisi: kumisik, ési, isi, mènthèg, mési\\n- tentang: bab, pênthang, yatapin, babag, namun, babagan, yadyapi, walhal, pri, yadyastun, tangtang\\n- berita: warta, wartos, kabar\\n- pada: têng, ing, ajéro, ning jêro\\n- berita: warta, wartos, kabar\\n- mengalami: wênang, angawaki, wruh\\n- baik: bagus, baik, sahe, sae\\n- dalam: kalebet, mlebet, jero, lebet\\n- jumlah: total, cacah, kweh\\n- indonesia: nusantara\\n- namanya: namanya, arane, jenenge\\n- menjadi: amiji, atémah, angjuru\\n- yang: ingkang, kang, sing\\n- di: teng, ning, dipun, di, ada\\n- waktu: wekadal, wanci, waktu, wayah, waktos\\n- sama: pada, kaliyan, sami, karo\\n- jam: pukul, jam, tabuh\\n- program: program\\n- cakrawala: ufuk, falak, palak\\n- kemudian: bacut, lajeng\\n- juga: ugi, uga\\n- dengan: kalawan, sareng, bari, kalian, lan, karo, kelan, kelawan\\n- sore: sonten, sore\\n- yang: ingkang, kang, sing\\n- sebelumnya: sederenge, sedurunge, sederengipun\\n- dari: saking, entas, sing, tas\\n- dengan: kalawan, sareng, bari, kalian, lan, karo, kelan, kelawan\\n- lebih: luwih, langkung, lebih\\n- pada: têng, ing, ajéro, ning jêro\\n- berita: warta, wartos, kabar\\n- cakrawala: ufuk, falak, palak\\n- dunia: dunya, jagat, andabuwana, anda, mayapada, andapada\\n- kemudian: bacut, lajeng\\n- juga: ugi, uga\\n- sempat: srég, sénggang, kaup, alam, kobêr, kaur\\n- dengan: kalawan, sareng, bari, kalian, lan, karo, kelan, kelawan\\n- yang: ingkang, kang, sing\\n- mengenai: waji, angèna, pri, amaji, baji\\n- di: teng, ning, dipun, di, ada\\n- negara-negara: mencanégara, mancanagra, aranya, mancaraka, arana\\n- program: program\\n- kemudian: bacut, lajeng\\n- juga: ugi, uga\\n- selain: apa, nanghing, illa, anghing, tan anglúh, beda, ila, hila, ila-ila\\n- kemudian: bacut, lajeng\\n- juga: ugi, uga\\n- hadir: wênang\\n- yang: ingkang, kang, sing\\n- pagi: enjing, esuk\\n- dan: lan, dan\\n- jari: racikan, driji\\n- kemudian: bacut, lajeng\\n- program: program\\n- yang: ingkang, kang, sing\\n- juga: ugi, uga\\n- satu: satunggal, siji\\n- pemilik: tuan, tuwan\\n- dengan: kalawan, sareng, bari, kalian, lan, karo, kelan, kelawan\\n- pada: têng, ing, ajéro, ning jêro\\n- tahun: naun, taun\\n- yang: ingkang, kang, sing\\n- majalah: majalah, kalawarti\\n- berita: warta, wartos, kabar\\n- dengan: kalawan, sareng, bari, kalian, lan, karo, kelan, kelawan\\n- modal: pawitan, ganda\\n- baru: anyar, ènggal\\n- dari: saking, entas, sing, tas\\n- kemudian: bacut, lajeng\\n- perubahan: broba\\n- program: program\\n- sejalan: sejajar, setuju, setujuan\\n- dengan: kalawan, sareng, bari, kalian, lan, karo, kelan, kelawan\\n- perubahan: broba\\n- yang: ingkang, kang, sing\\n- hadir: wênang\\n- di: teng, ning, dipun, di, ada\\n- stasiun: sétasiun\\n- seluruh: sekalian, semêsta, serata, antero, saantero, sĕgala\\n- berita: warta, wartos, kabar\\n- kemudian: bacut, lajeng\\n- namanya: namanya, arane, jenenge\\n- menjadi: amiji, atémah, angjuru\\n- yang: ingkang, kang, sing\\n- pada: têng, ing, ajéro, ning jêro\\n- dan: lan, dan\\n- perubahan: broba\\n- ini: enya, kien, niku, mangga, puniki, ikih, niki, nyah, iki\\n- juga: ugi, uga\\n- perbaikan: émpok\\n- di: teng, ning, dipun, di, ada\\n- bidang: gébleg\\n- seperti: kinten, kados, kira, kaya\\n- dan: lan, dan\\n- beberapa: pirang-pirang, pinten-pinten\\n- seperti: kinten, kados, kira, kaya\\n- dan: lan, dan\\n- tidak: mboten kènging, mboten, ora, aja, boten, beli\\n- lama: lawas, suwe, sue, dangu, lami\\n- karena: keranten, kerana, karena\\n- oleh: polah, pulah, jiyadan, dening, jiyat, ulih\\n- lain: dudu, lintu, dede, lain, liya, sejen, beda, sanes, boten sami\\n- di: teng, ning, dipun, di, ada\\n- sejak: atêwêk\\n- sebagai: angkan, angkén, pénaka, angkéna\\n- sekaligus: sekalian, pisan, dahat, serba, sĕgala\\n- menjadi: amiji, atémah, angjuru\\n- yang: ingkang, kang, sing\\n- pada: têng, ing, ajéro, ning jêro\\n- ibu: sema, oma, ema\\n- rumah: geriya, tempat, griya, panggonan, umah\\n- putri: badhe, ayun, awit, arép, butuh, yun, apan, wanita, angawit, hayun, kaum wanita, arêp, ajêng\\n- dan: lan, dan\\n- anak-anak: anwam, énom, têruna, nwam, yowana, bocah, anuwam\\n- dan: lan, dan\\n- program: program\\n- jam: pukul, jam, tabuh\\n- tersebut: winuni\\n- yang: ingkang, kang, sing\\n- lama: lawas, suwe, sue, dangu, lami\\n- membuat: damel, menggawe, gawe, medamel\\n- yaitu: yateka, na, dados, yatekaken, atika, yeka, tulus, atikang, dadya, yekana, témah, yateku, atiki, yateki, yatekana, yekan, dadiya, dadi, sida\\n- lensa: optik\\n- olahraga: sépor, sport, olahraga, sênam\\n- yang: ingkang, kang, sing\\n- sempat: srég, sénggang, kaup, alam, kobêr, kaur\\n- kembali: wangsil, waneh, paripurna, wantén, balen, mawantén, waluy, ulih, kutis, biluk\\n- oleh: polah, pulah, jiyadan, dening, jiyat, ulih\\n- pada: têng, ing, ajéro, ning jêro\\n- tahun: naun, taun\\n- dari: saking, entas, sing, tas\\n- stasiun: sétasiun\\n- dua: loro, kali\\n- program: program\\n- awal: têmbe, tambay, adam, tambê\\n- yang: ingkang, kang, sing\\n- dihapus: inusap\\n- dan: lan, dan\\n- masing-masing: sewang, angkéna, sowang, angkan, angkén, sewang-sewang\\n- pada: têng, ing, ajéro, ning jêro\\n- dan: lan, dan\\n- menyisakan: ngangai\\n- malam: dalu, bengi, daluh, wengi\\n- dan: lan, dan\\n- sempat: srég, sénggang, kaup, alam, kobêr, kaur\\n- juga: ugi, uga\\n- program: program\\n- yang: ingkang, kang, sing\\n- di: teng, ning, dipun, di, ada\\n- waktu: wekadal, wanci, waktu, wayah, waktos\\n- hingga: hinga, hingha\\n- akhirnya: kari-kari, kantun-kantun\\n- berhenti: mantun, mandeg, mari, kendel\\n- pada: têng, ing, ajéro, ning jêro\\n- tahun: naun, taun\\n- memasuki: jéblus, asuk, rumakut, angrasuk, panjing, manjing\\n- dan: lan, dan\\n- dua: loro, kali\\n- program: program\\n- yang: ingkang, kang, sing\\n- pada: têng, ing, ajéro, ning jêro\\n- program: program\\n- tidak: mboten kènging, mboten, ora, aja, boten, beli\\n- lagi: malih, maro, lagi, sekali, maning, slagi\\n- dalam: kalebet, mlebet, jero, lebet\\n- waktu: wekadal, wanci, waktu, wayah, waktos\\n- dan: lan, dan\\n- hanya: ugi, nanghing, namun, anghing, tan anglúh, mung, ara, mélulu, uga, ta, ila, juga\\n- menjadi: amiji, atémah, angjuru\\n- nama: nama, wasta, aran, nami, jeneng, asma\\n- berita: warta, wartos, kabar\\n- pendek: endap, cindek, endep\\n- saja: bae, mawon, itunya\\n- pada: têng, ing, ajéro, ning jêro\\n- program: program\\n- berita: warta, wartos, kabar\\n- oleh: polah, pulah, jiyadan, dening, jiyat, ulih\\n- selamat: wilujeng, slamet, sugeng, selamet\\n- pagi: enjing, esuk\\n- selamat: wilujeng, slamet, sugeng, selamet\\n- malam: dalu, bengi, daluh, wengi\\n- dan: lan, dan\\n- ini: enya, kien, niku, mangga, puniki, ikih, niki, nyah, iki\\n- merah: abrit, abang\\n- putih: putih, pethak\\n- peristiwa: pérkara, soal\\n- dan: lan, dan\\n- dari: saking, entas, sing, tas\\n- cakrawala: ufuk, falak, palak\\n- yang: ingkang, kang, sing\\n- lebih: luwih, langkung, lebih\\n- ringan: hangan, dhangan, angan\\n- dan: lan, dan\\n- jam: pukul, jam, tabuh\\n- jauh: tebih, adoh\\n- lebih: luwih, langkung, lebih\\n- dibanding: inatèbakan\\n- pihak: pihak, sêbêlah\\n- berita: warta, wartos, kabar\\n- dengan: kalawan, sareng, bari, kalian, lan, karo, kelan, kelawan\\n- teknik: têknik\\n- seperti: kinten, kados, kira, kaya\\n- ini: enya, kien, niku, mangga, puniki, ikih, niki, nyah, iki\\n- karena: keranten, kerana, karena\\n- sudah: uwis, sampun, wis\\n- ada: ana, masiana, tidak, wenten, wonten\\n- saluran: blêngbongan, urung-urung\\n- yang: ingkang, kang, sing\\n- pada: têng, ing, ajéro, ning jêro\\n- berita: warta, wartos, kabar\\n- dalam: kalebet, mlebet, jero, lebet\\n- beberapa: pirang-pirang, pinten-pinten\\n- waktu: wekadal, wanci, waktu, wayah, waktos\\n- juga: ugi, uga\\n- sempat: srég, sénggang, kaup, alam, kobêr, kaur\\n- tidak: mboten kènging, mboten, ora, aja, boten, beli\\n- memiliki: akělit, kělit, sampun amunpuni, pun\\n- program: program\\n- berita: warta, wartos, kabar\\n- menyisakan: ngangai\\n- indonesia: nusantara\\n\\n</cbn_translation>\\n\\n<bali_translation>\\n- pertama kali: nembe, riin\\n- tiga puluh: tigang dasa\\n- tengah malam: dalu, tengah lemeng\\n- dua kali: pindo\\n- tengah malam: dalu, tengah lemeng\\n- pertama kali: nembe, riin\\n- setiap hari: ngarahina, ngawai, nglemeng, ngrahina, sesai\\n- sama dengan: mabad\\n- pada masa: sajeroning\\n- selamat pagi: rahajeng semeng\\n- seperti ini: asapuniki, sapuniki\\n- berita: kalayusekaran, orta, orti, piuning\\n- televisi: tipi\\n- induk: ina, inan\\n- dari: baan, saking, uli, uling\\n- pertama: simalu\\n- pada: kalinapi, ngapit, ri, sig\\n- tanggal: ala ayu\\n- berita: kalayusekaran, orta, orti, piuning\\n- dari: baan, saking, uli, uling\\n- dalam: antah, dalem, labak, telek\\n- dan: bareng, lan, malihne, miwah, muah, teken, tur\\n- luar: jaba, odal, uyung\\n- untuk: buat, katiba, mantuka ring\\n- berita: kalayusekaran, orta, orti, piuning\\n- yang: ane, anu, kang, sane\\n- informasi: penerangan\\n- yang: ane, anu, kang, sane\\n- dengan: ajak, ajaka, aji, baan, ben, jak, teken\\n- masyarakat: parajana, praja, sibakan, tempekan\\n- yang: ane, anu, kang, sane\\n- di: dijan, ngapit, ngojong, nuju, ring, sid, sig, tumben-tumben\\n- timur: kangin\\n- dan: bareng, lan, malihne, miwah, muah, teken, tur\\n- tenggara: genea, kelod kangin\\n- serta: muah, sarwi\\n- beberapa: makudang-kudang\\n- yang: ane, anu, kang, sane\\n- berdekatan: marongan, namping\\n- dengan: ajak, ajaka, aji, baan, ben, jak, teken\\n- akan: apake, ayat, bakal, jaga, jagi, kal, kar, kel, pacang, teken\\n- menjadi: dumadi, nadiang\\n- utama: dasar, luih, luwih, pokok, singgih, utama\\n- dari: baan, saking, uli, uling\\n- luar: jaba, odal, uyung\\n- yang: ane, anu, kang, sane\\n- umumnya: ketahnyane\\n- tiga: anda, ketiga, ngatelun, tatelu, telu, telung, tetelu, tiga, tri, tri murti\\n- ini: ene, ne, nenenan, niki, nikinne, puniki, sasihe, tanke\\n- dalam: antah, dalem, labak, telek\\n- lima: lalima, limang, panca, warna\\n- berita: kalayusekaran, orta, orti, piuning\\n- yang: ane, anu, kang, sane\\n- sejak: sasukate, sekat\\n- tahun: tahun, taun, tiban, warsa\\n- banyak: akeh, aken, akueh, bahu, bangkot, bangkotan, begak, begeh, bek, biuh, dugdugan, embit, kabiuhan, katah, liu, liu-liu, matambiagan, matanbiag, ombéh, sempet, sempok, sepet, srining-srining\\n- yang: ane, anu, kang, sane\\n- tidak: biana, endo, ing, nenten, sing, sing baanga, tan, tong, trada, tuara, tusing\\n- lagi: buin, malih, tur\\n- di: dijan, ngapit, ngojong, nuju, ring, sid, sig, tumben-tumben\\n- menyisakan: ngumanang\\n- berita: kalayusekaran, orta, orti, piuning\\n- setiap: bilang, ngapuan, nyabran, saban, sabilang, sabran, sawilang\\n- jam: dauh, jam, singit, singit kangin\\n- yang: ane, anu, kang, sane\\n- bernama: maadan, madan, maparab, mapesengan, mawasta\\n- sejarah: babad, majapahit, mayadenawa, rajakerta\\n- di: dijan, ngapit, ngojong, nuju, ring, sid, sig, tumben-tumben\\n- oleh: antuk, baan, ben, olih, teken\\n- beberapa: makudang-kudang\\n- berita: kalayusekaran, orta, orti, piuning\\n- dengan: ajak, ajaka, aji, baan, ben, jak, teken\\n- yang: ane, anu, kang, sane\\n- berita: kalayusekaran, orta, orti, piuning\\n- pertama: simalu\\n- yang: ane, anu, kang, sane\\n- di: dijan, ngapit, ngojong, nuju, ring, sid, sig, tumben-tumben\\n- laporan: kanda\\n- ini: ene, ne, nenenan, niki, nikinne, puniki, sasihe, tanke\\n- selama: mungpung\\n- tiga: anda, ketiga, ngatelun, tatelu, telu, telung, tetelu, tiga, tri, tri murti\\n- dari: baan, saking, uli, uling\\n- pagi: semeng\\n- laporan: kanda\\n- petang: saru mua\\n- pukul: agel, antem, benal, benyad, dalet, dauh, dogdog, ended, gedig, getok, jagur, kaplak, kaplug, keletok, keplak, keplok, keteg, kupek, lempag, nampel, namplak, nyengeg, pagla, paled, panal, plenteng, sengeg, sepukin, sontok, tepak, tuncak\\n- dan: bareng, lan, malihne, miwah, muah, teken, tur\\n- laporan: kanda\\n- malam: latri, lemeng, malem, peteng, ratri, wengi\\n- pukul: agel, antem, benal, benyad, dalet, dauh, dogdog, ended, gedig, getok, jagur, kaplak, kaplug, keletok, keplak, keplok, keteg, kupek, lempag, nampel, namplak, nyengeg, pagla, paled, panal, plenteng, sengeg, sepukin, sontok, tepak, tuncak\\n- selama: mungpung\\n- dua: dadua, dua, dwi, kakalih, kalih, kalih tali, karo, ngaduang, rua\\n- nama: adan, aran, nama, papasih, parab, pasengan, pesengan, peséngan, wasta, wastan\\n- ini: ene, ne, nenenan, niki, nikinne, puniki, sasihe, tanke\\n- kemudian: lantas, rarisne, selanturnyane, tumuli, wekas\\n- diubah: kasunglap, marobah, mubah\\n- sejak: sasukate, sekat\\n- menyesuaikan: nyocokang\\n- larangan: amati karya, amati lelungan, ingkel, laranga, panten, rarangan\\n- pemerintah: distrik, pemerentah, pemerintahe\\n- pada: kalinapi, ngapit, ri, sig\\n- berita: kalayusekaran, orta, orti, piuning\\n- di: dijan, ngapit, ngojong, nuju, ring, sid, sig, tumben-tumben\\n- televisi: tipi\\n- untuk: buat, katiba, mantuka ring\\n- berita: kalayusekaran, orta, orti, piuning\\n- pagi: semeng\\n- dan: bareng, lan, malihne, miwah, muah, teken, tur\\n- petang: saru mua\\n- dilanjutkan: kararisang, tulusang\\n- dengan: ajak, ajaka, aji, baan, ben, jak, teken\\n- nama: adan, aran, nama, papasih, parab, pasengan, pesengan, peséngan, wasta, wastan\\n- berita: kalayusekaran, orta, orti, piuning\\n- malam: latri, lemeng, malem, peteng, ratri, wengi\\n- tidak: biana, endo, ing, nenten, sing, sing baanga, tan, tong, trada, tuara, tusing\\n- kemungkinan: dapang, menawita, nglemin\\n- karena: antuk, awanan, baan, krana, mapan, reh, riantukan, sangkaning, sotan, ulian, wireh\\n- sore: jampi, sandia kala, sandikala, sanja, sore\\n- sebagai: anggena, apanyakanan, luir, maka, pinaka, rumasat, saliu-liuan, sasat\\n- secara: olih\\n- pertama: simalu\\n- pada: kalinapi, ngapit, ri, sig\\n- pada: kalinapi, ngapit, ri, sig\\n- jam: dauh, jam, singit, singit kangin\\n- dan: bareng, lan, malihne, miwah, muah, teken, tur\\n- berjalan: jangkang, majalan, makobok-kobokan, mamargi, mejalan, ngambah, nyalanin, selasah, slimputan\\n- selama: mungpung\\n- selama: mungpung\\n- setiap: bilang, ngapuan, nyabran, saban, sabilang, sabran, sawilang\\n- hari: ala ayu, ariang, beteng, coma, dina, dugas pidan, ekawara, jangur, luang, maulu, menala, menga, ogan, otonan, pahing, paniron, pati, puan, rahina, singit, singit kangin, tulus, tungleh, umanis, urukung, urungan, wage, wai\\n- hanya: asedengan, bantes, batak, dogen, kemanten, kemaon, kewala-kewala, kewanten, kwala, lonto, marane, sajaba, sakewanten, singit kauh, tuah, wantah\\n- berita: kalayusekaran, orta, orti, piuning\\n- pengganti: pacadang kuang, pangentos, pasilih, penggantin, seh\\n- laporan: kanda\\n- petang: saru mua\\n- ini: ene, ne, nenenan, niki, nikinne, puniki, sasihe, tanke\\n- pada: kalinapi, ngapit, ri, sig\\n- yang: ane, anu, kang, sane\\n- terjadi: paijeng\\n- di: dijan, ngapit, ngojong, nuju, ring, sid, sig, tumben-tumben\\n- seperti: alah, buka, cara, kadi, luire, makadi, rumasa, sakadi, sasat, satmaka, segelis-gelis, sekadi, seperti, upami, waluya\\n- juga: masih, naler, semalilhne, taler\\n- memiliki: madue, maduwe, mutama, ngamanahin, ngelah, ngelahang, ngetug, ngidam, nuenang\\n- seperti: alah, buka, cara, kadi, luire, makadi, rumasa, sakadi, sasat, satmaka, segelis-gelis, sekadi, seperti, upami, waluya\\n- yang: ane, anu, kang, sane\\n- berita: kalayusekaran, orta, orti, piuning\\n- di: dijan, ngapit, ngojong, nuju, ring, sid, sig, tumben-tumben\\n- akhir: muncuk, pamaput, panyuud, tamat, tanggu, tutuk\\n- dalam: antah, dalem, labak, telek\\n- ini: ene, ne, nenenan, niki, nikinne, puniki, sasihe, tanke\\n- cukup: cukup, genep, noja, nyandang, sandang, sedeng, tegep\\n- sering: busan-busan, mepes, sai, sawai\\n- mendapatkan: dapet, makatang, mapikolih, negehang, ngamolihang, ngeniyang, nimbaang, nyelekan, tiak\\n- tinggi: atungtung, ganggas, gangsiuh, jelong, lancab, landung, luur, ngluer, saka, sikut kuping, tegah, tegeh, tubung\\n- dan: bareng, lan, malihne, miwah, muah, teken, tur\\n- cukup: cukup, genep, noja, nyandang, sandang, sedeng, tegep\\n- banyak: akeh, aken, akueh, bahu, bangkot, bangkotan, begak, begeh, bek, biuh, dugdugan, embit, kabiuhan, katah, liu, liu-liu, matambiagan, matanbiag, ombéh, sempet, sempok, sepet, srining-srining\\n- iklan: reklama\\n- pada: kalinapi, ngapit, ri, sig\\n- era: sengara\\n- mengingat: ngelingan\\n- yang: ane, anu, kang, sane\\n- halo: kalang\\n- mulai: makal, ngawit, nyumunin\\n- di: dijan, ngapit, ngojong, nuju, ring, sid, sig, tumben-tumben\\n- waktu: asirepan, dauh, daweg, di, dugas, dugas pidan, duk, galah, ipuan, kali, limunan, makelo, makire, malelo, mamasan, manggeh, matengan, nyan, nyoreang, palimunan, puan, rikala, selid-selid, selidan, semangan, sengara, singit, singit kangin, tunian\\n- yang: ane, anu, kang, sane\\n- sama: asah-asah, matuhin, pada, pateh, patuh, rata, saih\\n- dengan: ajak, ajaka, aji, baan, ben, jak, teken\\n- yaitu: inggih punika, ngaran\\n- sejak: sasukate, sekat\\n- dan: bareng, lan, malihne, miwah, muah, teken, tur\\n- pada: kalinapi, ngapit, ri, sig\\n- jam: dauh, jam, singit, singit kangin\\n- selama: mungpung\\n- satu: a, abesik, asiki, besik, eka, nunggal, pangapit, sa, sepaa, siki, tanggo, tunggal, tunggil\\n- jam: dauh, jam, singit, singit kangin\\n- pada: kalinapi, ngapit, ri, sig\\n- hari: ala ayu, ariang, beteng, coma, dina, dugas pidan, ekawara, jangur, luang, maulu, menala, menga, ogan, otonan, pahing, paniron, pati, puan, rahina, singit, singit kangin, tulus, tungleh, umanis, urukung, urungan, wage, wai\\n- dengan: ajak, ajaka, aji, baan, ben, jak, teken\\n- dua: dadua, dua, dwi, kakalih, kalih, kalih tali, karo, ngaduang, rua\\n- pengganti: pacadang kuang, pangentos, pasilih, penggantin, seh\\n- laporan: kanda\\n- pagi: semeng\\n- ini: ene, ne, nenenan, niki, nikinne, puniki, sasihe, tanke\\n- dan: bareng, lan, malihne, miwah, muah, teken, tur\\n- dengan: ajak, ajaka, aji, baan, ben, jak, teken\\n- bagian: baga, bagian, bayuhan, cacarang, duman, dumang, kacacar, kenjang, nyacarang, potongan\\n- bersama: ajak, itut, jak, kebarengan, mabiuk, nambun, sagilik-saguluk, sareng\\n- yang: ane, anu, kang, sane\\n- ingin: esti, kekenehang, kenehang, makayun, makayunan, meled, ngadotang, nyang, perih\\n- memberikan: ngamaang, ngenjuhang, ngicen, ngwehin\\n- keluhan: plungguhan\\n- tentang: antuk, indik\\n- berita: kalayusekaran, orta, orti, piuning\\n- dari: baan, saking, uli, uling\\n- halo: kalang\\n- juga: masih, naler, semalilhne, taler\\n- lebih: langkung, sangsan\\n- dengan: ajak, ajaka, aji, baan, ben, jak, teken\\n- seperti: alah, buka, cara, kadi, luire, makadi, rumasa, sakadi, sasat, satmaka, segelis-gelis, sekadi, seperti, upami, waluya\\n- olahraga: malaib-laiban\\n- dan: bareng, lan, malihne, miwah, muah, teken, tur\\n- berita: kalayusekaran, orta, orti, piuning\\n- berita: kalayusekaran, orta, orti, piuning\\n- lain: len, len-lenan, lenan, lian, lianan, para, seje, sios, tiosan, waneh\\n- pada: kalinapi, ngapit, ri, sig\\n- itu: ento, nika, pabaos, punika, totonan\\n- yaitu: inggih punika, ngaran\\n- berita: kalayusekaran, orta, orti, piuning\\n- pendek: bawak, bontok, cendek, cendekan, cendekang, cendet, cutet, endep, katek, keceng, potok, rutrut\\n- selama: mungpung\\n- jam: dauh, jam, singit, singit kangin\\n- sekali: acepok, apisan, sajaan, sungguh\\n- seperti: alah, buka, cara, kadi, luire, makadi, rumasa, sakadi, sasat, satmaka, segelis-gelis, sekadi, seperti, upami, waluya\\n- sekilas: aslabsaban, asliaban, matilik, srempet\\n- hanya: asedengan, bantes, batak, dogen, kemanten, kemaon, kewala-kewala, kewanten, kwala, lonto, marane, sajaba, sakewanten, singit kauh, tuah, wantah\\n- pada: kalinapi, ngapit, ri, sig\\n- pagi: semeng\\n- namun: durusanga\\n- sejak: sasukate, sekat\\n- juga: masih, naler, semalilhne, taler\\n- pada: kalinapi, ngapit, ri, sig\\n- sore: jampi, sandia kala, sandikala, sanja, sore\\n- dan: bareng, lan, malihne, miwah, muah, teken, tur\\n- memperkuat: nabehin\\n- tiga: anda, ketiga, ngatelun, tatelu, telu, telung, tetelu, tiga, tri, tri murti\\n- ini: ene, ne, nenenan, niki, nikinne, puniki, sasihe, tanke\\n- sejenis: candik, kima, pangaloran, pangikal-ikalan, sintia, talin, unen-unen\\n- seperti: alah, buka, cara, kadi, luire, makadi, rumasa, sakadi, sasat, satmaka, segelis-gelis, sekadi, seperti, upami, waluya\\n- olahraga: malaib-laiban\\n- dan: bareng, lan, malihne, miwah, muah, teken, tur\\n- sekitar: sawatara\\n- bertambah: mapuncul, mimbuh, munjuk, sumingking\\n- menjadi: dumadi, nadiang\\n- awak: sarira\\n- dan: bareng, lan, malihne, miwah, muah, teken, tur\\n- dengan: ajak, ajaka, aji, baan, ben, jak, teken\\n- polisi: polisi, pulisi\\n- meraih: ngerepe, nyaplok, nyekuk\\n- dan: bareng, lan, malihne, miwah, muah, teken, tur\\n- melakukan: maganin, nglaksanayang, nujuhang\\n- bersama: ajak, itut, jak, kebarengan, mabiuk, nambun, sagilik-saguluk, sareng\\n- dengan: ajak, ajaka, aji, baan, ben, jak, teken\\n- televisi: tipi\\n- juga: masih, naler, semalilhne, taler\\n- mendirikan: nyujukang, tunggak wareng\\n- beberapa: makudang-kudang\\n- seperti: alah, buka, cara, kadi, luire, makadi, rumasa, sakadi, sasat, satmaka, segelis-gelis, sekadi, seperti, upami, waluya\\n- di: dijan, ngapit, ngojong, nuju, ring, sid, sig, tumben-tumben\\n- berita: kalayusekaran, orta, orti, piuning\\n- ini: ene, ne, nenenan, niki, nikinne, puniki, sasihe, tanke\\n- kemudian: lantas, rarisne, selanturnyane, tumuli, wekas\\n- ditambah: mimbuh\\n- dengan: ajak, ajaka, aji, baan, ben, jak, teken\\n- yang: ane, anu, kang, sane\\n- dari: baan, saking, uli, uling\\n- pada: kalinapi, ngapit, ri, sig\\n- jam: dauh, jam, singit, singit kangin\\n- sore: jampi, sandia kala, sandikala, sanja, sore\\n- dan: bareng, lan, malihne, miwah, muah, teken, tur\\n- selama: mungpung\\n- yang: ane, anu, kang, sane\\n- tentang: antuk, indik\\n- berita: kalayusekaran, orta, orti, piuning\\n- dari: baan, saking, uli, uling\\n- sejak: sasukate, sekat\\n- kemudian: lantas, rarisne, selanturnyane, tumuli, wekas\\n- juga: masih, naler, semalilhne, taler\\n- yang: ane, anu, kang, sane\\n- sejak: sasukate, sekat\\n- pada: kalinapi, ngapit, ri, sig\\n- hari: ala ayu, ariang, beteng, coma, dina, dugas pidan, ekawara, jangur, luang, maulu, menala, menga, ogan, otonan, pahing, paniron, pati, puan, rahina, singit, singit kangin, tulus, tungleh, umanis, urukung, urungan, wage, wai\\n- senin: soma\\n- jam: dauh, jam, singit, singit kangin\\n- berisi: madaging, makedel, misi, mokoh\\n- tentang: antuk, indik\\n- berita: kalayusekaran, orta, orti, piuning\\n- pada: kalinapi, ngapit, ri, sig\\n- era: sengara\\n- berita: kalayusekaran, orta, orti, piuning\\n- baik: ala ayu, asuba karma, ayu, becik, dekdek, kabecikang, lara pati, lembat, luih, luwih, melah, melahang, mludih, nah, penpenan, seleb, seriat-seriut\\n- dalam: antah, dalem, labak, telek\\n- jumlah: gebog, mone, pigung\\n- halo: kalang\\n- diubah: kasunglap, marobah, mubah\\n- menjadi: dumadi, nadiang\\n- yang: ane, anu, kang, sane\\n- di: dijan, ngapit, ngojong, nuju, ring, sid, sig, tumben-tumben\\n- waktu: asirepan, dauh, daweg, di, dugas, dugas pidan, duk, galah, ipuan, kali, limunan, makelo, makire, malelo, mamasan, manggeh, matengan, nyan, nyoreang, palimunan, puan, rikala, selid-selid, selidan, semangan, sengara, singit, singit kangin, tunian\\n- sama: asah-asah, matuhin, pada, pateh, patuh, rata, saih\\n- jam: dauh, jam, singit, singit kangin\\n- kemudian: lantas, rarisne, selanturnyane, tumuli, wekas\\n- juga: masih, naler, semalilhne, taler\\n- ditambah: mimbuh\\n- dengan: ajak, ajaka, aji, baan, ben, jak, teken\\n- sore: jampi, sandia kala, sandikala, sanja, sore\\n- yang: ane, anu, kang, sane\\n- sebelumnya: rihin, sané lintang, selid, selidan\\n- dari: baan, saking, uli, uling\\n- dengan: ajak, ajaka, aji, baan, ben, jak, teken\\n- lebih: langkung, sangsan\\n- pada: kalinapi, ngapit, ri, sig\\n- berita: kalayusekaran, orta, orti, piuning\\n- dunia: buana, gumi, jagat, jagate, rat, sunia\\n- kemudian: lantas, rarisne, selanturnyane, tumuli, wekas\\n- juga: masih, naler, semalilhne, taler\\n- secara: olih\\n- singkat: brengkes, cendekang\\n- dengan: ajak, ajaka, aji, baan, ben, jak, teken\\n- yang: ane, anu, kang, sane\\n- informasi: penerangan\\n- di: dijan, ngapit, ngojong, nuju, ring, sid, sig, tumben-tumben\\n- kemudian: lantas, rarisne, selanturnyane, tumuli, wekas\\n- juga: masih, naler, semalilhne, taler\\n- kemudian: lantas, rarisne, selanturnyane, tumuli, wekas\\n- juga: masih, naler, semalilhne, taler\\n- yang: ane, anu, kang, sane\\n- pagi: semeng\\n- dan: bareng, lan, malihne, miwah, muah, teken, tur\\n- jari: agrakara, cokor, gancan, jeriji, jriji, lek, pisah, purnawa, simsim\\n- kemudian: lantas, rarisne, selanturnyane, tumuli, wekas\\n- yang: ane, anu, kang, sane\\n- juga: masih, naler, semalilhne, taler\\n- satu: a, abesik, asiki, besik, eka, nunggal, pangapit, sa, sepaa, siki, tanggo, tunggal, tunggil\\n- dengan: ajak, ajaka, aji, baan, ben, jak, teken\\n- pada: kalinapi, ngapit, ri, sig\\n- tahun: tahun, taun, tiban, warsa\\n- yang: ane, anu, kang, sane\\n- berita: kalayusekaran, orta, orti, piuning\\n- dengan: ajak, ajaka, aji, baan, ben, jak, teken\\n- modal: gelar, kemulan\\n- baru: anyar, baru, wawu\\n- dari: baan, saking, uli, uling\\n- kemudian: lantas, rarisne, selanturnyane, tumuli, wekas\\n- mengadakan: ngadaang, ngrupaka\\n- perubahan: alikan, maseh, mastu, robah, silur\\n- dengan: ajak, ajaka, aji, baan, ben, jak, teken\\n- perubahan: alikan, maseh, mastu, robah, silur\\n- yang: ane, anu, kang, sane\\n- di: dijan, ngapit, ngojong, nuju, ring, sid, sig, tumben-tumben\\n- televisi: tipi\\n- seluruh: makejangne, sabatek, sadaya, saedah, sakuub, sami\\n- berita: kalayusekaran, orta, orti, piuning\\n- kemudian: lantas, rarisne, selanturnyane, tumuli, wekas\\n- diubah: kasunglap, marobah, mubah\\n- menjadi: dumadi, nadiang\\n- yang: ane, anu, kang, sane\\n- pada: kalinapi, ngapit, ri, sig\\n- petang: saru mua\\n- dan: bareng, lan, malihne, miwah, muah, teken, tur\\n- perubahan: alikan, maseh, mastu, robah, silur\\n- ini: ene, ne, nenenan, niki, nikinne, puniki, sasihe, tanke\\n- juga: masih, naler, semalilhne, taler\\n- diiringi: kasarengin, katimpalin\\n- di: dijan, ngapit, ngojong, nuju, ring, sid, sig, tumben-tumben\\n- bidang: baga\\n- seperti: alah, buka, cara, kadi, luire, makadi, rumasa, sakadi, sasat, satmaka, segelis-gelis, sekadi, seperti, upami, waluya\\n- dan: bareng, lan, malihne, miwah, muah, teken, tur\\n- beberapa: makudang-kudang\\n- presenter: pangenter acara\\n- seperti: alah, buka, cara, kadi, luire, makadi, rumasa, sakadi, sasat, satmaka, segelis-gelis, sekadi, seperti, upami, waluya\\n- dan: bareng, lan, malihne, miwah, muah, teken, tur\\n- keberadaan: kahanan, kawentenan, kewentenan\\n- tidak: biana, endo, ing, nenten, sing, sing baanga, tan, tong, trada, tuara, tusing\\n- lama: lami, lawas, makelo, mepepan, ngepah, sue\\n- karena: antuk, awanan, baan, krana, mapan, reh, riantukan, sangkaning, sotan, ulian, wireh\\n- oleh: antuk, baan, ben, olih, teken\\n- lain: len, len-lenan, lenan, lian, lianan, para, seje, sios, tiosan, waneh\\n- di: dijan, ngapit, ngojong, nuju, ring, sid, sig, tumben-tumben\\n- sejak: sasukate, sekat\\n- sebagai: anggena, apanyakanan, luir, maka, pinaka, rumasat, saliu-liuan, sasat\\n- sekaligus: sapisana\\n- menjadi: dumadi, nadiang\\n- televisi: tipi\\n- yang: ane, anu, kang, sane\\n- pada: kalinapi, ngapit, ri, sig\\n- ibu: biang, buk, me, meme, rena\\n- rumah: asta kosala-kosali, gria, isin jeron, jero, jeroan, kumah, ngetis, pagubugan, pajongkokan, panataran, pondok, puri, rangkang, saka, sasinggahan, seng, umah, umah semut\\n- remaja: bajang, bantiran, batun salak, daha, nedeng, yuana\\n- dan: bareng, lan, malihne, miwah, muah, teken, tur\\n- anak-anak: cerik-cerik\\n- drama: calonarang, drama, punta\\n- dan: bareng, lan, malihne, miwah, muah, teken, tur\\n- jam: dauh, jam, singit, singit kangin\\n- tersebut: ling\\n- yang: ane, anu, kang, sane\\n- lama: lami, lawas, makelo, mepepan, ngepah, sue\\n- membuat: antegang, antep, karana, makarya, masegeh, newasain, ngae, ngaenang, ngapap, ngardi, ngardiang, ngarya, ngasahang, ngawe, ngawenin, ngenat, ngendepang, ngenyangang, ngilit, ngitikang, nglusang, ngrupaka, ngulat, nyacal, nyalon, nyapuh, nyelocoh, nyikih, olah, pasuwunin, piak, sapsap, seked, sengit\\n- sejenis: candik, kima, pangaloran, pangikal-ikalan, sintia, talin, unen-unen\\n- yaitu: inggih punika, ngaran\\n- olahraga: malaib-laiban\\n- yang: ane, anu, kang, sane\\n- kembali: balik, budal, matulak, mawali, ngatrik, wali\\n- oleh: antuk, baan, ben, olih, teken\\n- pada: kalinapi, ngapit, ri, sig\\n- tahun: tahun, taun, tiban, warsa\\n- dari: baan, saking, uli, uling\\n- televisi: tipi\\n- dua: dadua, dua, dwi, kakalih, kalih, kalih tali, karo, ngaduang, rua\\n- awal: limun\\n- yang: ane, anu, kang, sane\\n- petang: saru mua\\n- dan: bareng, lan, malihne, miwah, muah, teken, tur\\n- masing-masing: ngatiban, soang-soang, suang-suang\\n- pada: kalinapi, ngapit, ri, sig\\n- dan: bareng, lan, malihne, miwah, muah, teken, tur\\n- menyisakan: ngumanang\\n- malam: latri, lemeng, malem, peteng, ratri, wengi\\n- dan: bareng, lan, malihne, miwah, muah, teken, tur\\n- juga: masih, naler, semalilhne, taler\\n- petang: saru mua\\n- yang: ane, anu, kang, sane\\n- di: dijan, ngapit, ngojong, nuju, ring, sid, sig, tumben-tumben\\n- waktu: asirepan, dauh, daweg, di, dugas, dugas pidan, duk, galah, ipuan, kali, limunan, makelo, makire, malelo, mamasan, manggeh, matengan, nyan, nyoreang, palimunan, puan, rikala, selid-selid, selidan, semangan, sengara, singit, singit kangin, tunian\\n- hingga: enceg, kanti, ked, nyantos, pelan\\n- sebelum: banen, malunne, puan, sadurung, satonden\\n- akhirnya: pamuputne\\n- berhenti: malabuh, mandeg, mangsegan, mararian, mareren, masandekan, ngaed, nyarik, pegat-pegat, reren, usan, uup\\n- pada: kalinapi, ngapit, ri, sig\\n- tahun: tahun, taun, tiban, warsa\\n- memasuki: nyelepin\\n- dan: bareng, lan, malihne, miwah, muah, teken, tur\\n- dua: dadua, dua, dwi, kakalih, kalih, kalih tali, karo, ngaduang, rua\\n- yang: ane, anu, kang, sane\\n- tersisa: masisa\\n- pada: kalinapi, ngapit, ri, sig\\n- tidak: biana, endo, ing, nenten, sing, sing baanga, tan, tong, trada, tuara, tusing\\n- lagi: buin, malih, tur\\n- dalam: antah, dalem, labak, telek\\n- waktu: asirepan, dauh, daweg, di, dugas, dugas pidan, duk, galah, ipuan, kali, limunan, makelo, makire, malelo, mamasan, manggeh, matengan, nyan, nyoreang, palimunan, puan, rikala, selid-selid, selidan, semangan, sengara, singit, singit kangin, tunian\\n- dan: bareng, lan, malihne, miwah, muah, teken, tur\\n- hanya: asedengan, bantes, batak, dogen, kemanten, kemaon, kewala-kewala, kewanten, kwala, lonto, marane, sajaba, sakewanten, singit kauh, tuah, wantah\\n- menjadi: dumadi, nadiang\\n- nama: adan, aran, nama, papasih, parab, pasengan, pesengan, peséngan, wasta, wastan\\n- berita: kalayusekaran, orta, orti, piuning\\n- pendek: bawak, bontok, cendek, cendekan, cendekang, cendet, cutet, endep, katek, keceng, potok, rutrut\\n- saja: asedengan, bantes, dogen, dogenan, kemanten, kewala-kewala, kwala, lonto, manten, marane, tuah, wantah\\n- pada: kalinapi, ngapit, ri, sig\\n- berita: kalayusekaran, orta, orti, piuning\\n- oleh: antuk, baan, ben, olih, teken\\n- selamat: awignamastu, rahajeng, rahayu, slamet\\n- pagi: semeng\\n- selamat: awignamastu, rahajeng, rahayu, slamet\\n- malam: latri, lemeng, malem, peteng, ratri, wengi\\n- dan: bareng, lan, malihne, miwah, muah, teken, tur\\n- baru-baru: anyar-anyaran\\n- ini: ene, ne, nenenan, niki, nikinne, puniki, sasihe, tanke\\n- merah: abang, asu bang bungkem, baag, bang, barak, kecemcem, kencu, kopler, muruh, ngasumba, ngerab, pinggala, rakta, sarab, semangka, tangguli ketur, tlutuhan\\n- putih: anoman, kakulan, kampetak, lancut, nyemplong, petak, putih, putihang, semplong, suklanita\\n- dan: bareng, lan, malihne, miwah, muah, teken, tur\\n- inkarnasi: siluman\\n- ketiga: tigang\\n- dari: baan, saking, uli, uling\\n- yang: ane, anu, kang, sane\\n- lebih: langkung, sangsan\\n- ringan: dangan, iing, inang, ingan\\n- dan: bareng, lan, malihne, miwah, muah, teken, tur\\n- jam: dauh, jam, singit, singit kangin\\n- jauh: adoh, doh, dura, jambat, joh, johin, mucahong\\n- lebih: langkung, sangsan\\n- pihak: wang\\n- berita: kalayusekaran, orta, orti, piuning\\n- dengan: ajak, ajaka, aji, baan, ben, jak, teken\\n- teknik: tanjek\\n- seperti: alah, buka, cara, kadi, luire, makadi, rumasa, sakadi, sasat, satmaka, segelis-gelis, sekadi, seperti, upami, waluya\\n- ini: ene, ne, nenenan, niki, nikinne, puniki, sasihe, tanke\\n- dilakukan: kalaksanayang, polahanga\\n- karena: antuk, awanan, baan, krana, mapan, reh, riantukan, sangkaning, sotan, ulian, wireh\\n- sudah: ampun, ba, pun, sampun, suba, suba saja\\n- ada: ada, ana, kawentenan, medue, wenten\\n- saluran: galiran\\n- yang: ane, anu, kang, sane\\n- pada: kalinapi, ngapit, ri, sig\\n- berita: kalayusekaran, orta, orti, piuning\\n- dalam: antah, dalem, labak, telek\\n- beberapa: makudang-kudang\\n- waktu: asirepan, dauh, daweg, di, dugas, dugas pidan, duk, galah, ipuan, kali, limunan, makelo, makire, malelo, mamasan, manggeh, matengan, nyan, nyoreang, palimunan, puan, rikala, selid-selid, selidan, semangan, sengara, singit, singit kangin, tunian\\n- juga: masih, naler, semalilhne, taler\\n- tidak: biana, endo, ing, nenten, sing, sing baanga, tan, tong, trada, tuara, tusing\\n- memiliki: madue, maduwe, mutama, ngamanahin, ngelah, ngelahang, ngetug, ngidam, nuenang\\n- berita: kalayusekaran, orta, orti, piuning\\n- menyisakan: ngumanang\\n- referensi: panyangkaan\\n- televisi: tipi\\n- televisi: tipi\\n\\n</bali_translation>\\n\\n<id_text>\\nTopik adalah acara berita televisi induk dari antv. Hadir pertama kali tayang pada tanggal 30 April 2006, Topik berisikan materi berita dari dalam dan luar negeri. Khusus untuk berita internasional, materi yang ditampilkan adalah informasi yang \"memiliki kedekatan dengan masyarakat Indonesia\". Sementara, kejadian-kejadian yang berlangsung di kawasan Timur Tengah, Asia, dan Asia Tenggara serta beberapa kawasan yang berdekatan dengan Indonesia akan menjadi \"pilihan utama berita-berita dari luar negeri\".\\n\\nProgram yang umumnya berdurasi tiga puluh menit ini awalnya disajikan dalam lima acara berita yang berbeda. Namun, sejak tahun 2018 banyak program Topik yang tidak disiarkan lagi di antv, menyisakan acara berita setiap jam yang bernama Topik Terkini.\\n\\nSejarah\\n\\n1994-2003\\nAcara Topik di antv didahului oleh penayangan beberapa acara berita dengan nama-nama yang berubah.\\n\\nProgram berita pertama yang disiarkan di ANteve adalah Laporan ANteve. Acara ini ditayangkan selama tiga kali, dari pagi (Laporan ANteve Pagi, Laporan ANteve Petang pukul 18:30 WIB, dan Laporan ANteve Tengah Malam pukul 24:00 WIB), awalnya selama dua kali perminggu. Nama ini kemudian diubah sejak 1995, demi menyesuaikan larangan pemerintah pada program berita di stasiun televisi swasta. Khusus untuk berita pagi dan petang dilanjutkan dengan nama baru, sedangkan berita tengah malam tidak disiarkan lagi, kemungkinan karena rating-nya rendah.\\n\\nCakrawala Sore (dikenal sebagai Cakrawala secara formal) pertama kali ditayangkan pada 16 Oktober 1995, pada jam 17:00 WIB dan berjalan selama 30 menit, selama setiap hari (awalnya hanya Senin-Sabtu saja). Acara berita pengganti Laporan ANteve Petang ini memfokuskan pemberitaannya pada kejadian-kejadian yang terjadi di kota-kota besar, seperti kriminal (utama), kebakaran, banjir, dll. Cakrawala juga memiliki segmen, seperti Ragam yang merupakan berita features di akhir acara. Dalam perkembangannya, acara ini cukup sering mendapatkan rating tinggi dan cukup banyak pemasang iklan pada era 1990-an mengingat pemberitaannya yang cenderung berbeda.\\n\\nSedangkan Halo Indonesia mulai hadir di waktu yang sama dengan Cakrawala, yaitu sejak 16 Oktober 1995, dan disiarkan pada jam 06:00 WIB selama satu jam pada hari Senin-Jumat dengan dua penyiar. Acara pengganti Laporan ANteve Pagi ini mengombinasikan berita, dialog, dan pelayanan umum, dengan memasukan bagian talk show bersama pemirsa yang ingin memberikan keluhan tentang aneka hal mengenai pelayanan publik. Berita dari Halo Indonesia juga lebih bersifat generalis dibanding Cakrawala, dengan mengulas topik seperti ekonomi, olahraga dan berita internasional.Communication of Politics and Politics of Communication in Indonesia: A Study on Media Performance, Responsibility and Accountability\\n\\nAcara berita lain ANteve pada masa itu adalah Aktualita, yaitu program berita pendek selama 1 jam sekali (mirip seperti Sekilas Info RCTI). Aktualita awalnya hanya disiarkan pada pagi hari, namun sejak Oktober 1996 ditayangkan juga pada sore dan malam.\\n\\nDemi memperkuat tiga acara ini (ditambah program sejenis seperti Lensa Olahraga dan Planet Remaja), ANteve memperkerjakan sekitar 80 (kemudian bertambah menjadi 132) awak dan reporter, bekerjasama dengan polisi demi meraih berita, dan melakukan pelatihan bersama dengan stasiun televisi Prancis, TF1. Selain itu, ANteve juga mendirikan beberapa biro internasional, seperti di Washington DC, Amerika Serikat.\\n\\nProgram berita ANteve ini kemudian ditambah dengan Cakrawala Dunia, yang disiarkan dari Senin-Sabtu pada jam 17:30 WIB (setelah Cakrawala Sore dan selama 30 menit) yang memberitakan tentang berita dari mancanegara, sejak 11 Februari 1998. Kemudian juga hadir program Fakta yang bersiaran sejak 23 Februari 1998, pada hari Senin jam 20:00 WIB, berisi tentang berita kriminal.\\n\\n2003-2006\\nPada era ini, program-program berita Antv mengalami perubahan, baik dalam jumlah maupun nama.\\n\\nAcara Halo Indonesia diubah namanya menjadi Jurnal antv Pagi, yang tayang di waktu sama (Senin-Jumat jam 06:00-07:00 WIB). Lalu, program Cakrawala kemudian juga ditambah dengan Jurnal antv Sore yang ditayangkan 30 menit sebelumnya (16:30 WIB) dari Senin-Sabtu, dengan penekanan lebih pada berita kriminal. Acara Cakrawala Dunia kemudian juga dihentikan, sempat digantikan secara singkat dengan acara Focus Asia yang memberitakan mengenai informasi di negara-negara Asia.\\n\\nProgram kriminal kemudian juga ditambah. Selain Fakta, kemudian juga hadir Kriminalitas yang merupakan acara kriminal pagi dan Sidik Jari (yang kemudian dijadikan program Hardnews tvOne yang juga satu pemilik dengan ANTV pada tahun 2019-2022) yang merupakan majalah berita kriminal.Kriminalitas\\n\\n2006-sekarang\\nSeiring dengan masuknya modal baru dari STAR TV, Antv kemudian mengadakan perubahan program beritanya kembali, sejalan dengan perubahan yang hadir di stasiun televisi ini. Seluruh acara berita kemudian diubah namanya menjadi Topik, yang tayang pada pagi, siang, petang dan malam. Perubahan ini juga diiringi perbaikan di bidang personil, seperti perekrutan wartawan senior Karni Ilyas, dan beberapa presenter seperti Valerina Daniel dan Grace Natalie.\\n\\nKeberadaan Topik tidak berlangsung lama karena tergusur oleh acara lain di antv. Sejak bergabungnya Otis Hahijary sebagai director programming antv sekaligus transformasi antv menjadi televisi yang berfokus pada kepemirsaan ibu rumah tangga, remaja putri dan anak-anak (dengan hadirnya tayangan drama India, serial animasi, dan sejumlah program in-house production ANTV), jam tayang acara-acara tersebut yang lama membuat Topik (dan acara sejenis yaitu Lensa Olahraga yang sempat ditayangkan kembali oleh antv pada tahun 2022-2023) dihapuskan dari jadwal stasiun televisi ini. Dua program awal yang dihapus adalah Topik Petang dan Topik Siang, masing-masing pada 2013 dan 2014 menyisakan Topik Malam dan Topik Pagi. Sempat juga antv menghadirkan program Topik Petang Update yang tayang di rentan waktu 2011 hingga 2012, sebelum akhirnya resmi berhenti tayang pada tahun 2013. Memasuki 2015, divisi pemberitaan antv ditutup, dan dua program Topik yang tersisa dihapuskan pada 2017. Kini, program Topik tidak lagi ditayangkan dalam waktu panjang, dan hanya menjadi nama berita pendek aktual saja pada waktu-waktu tertentu. Program berita tersebut, digantikan oleh Selamat Pagi Nusantara, Selamat Malam Indonesia, dan baru-baru ini Merah Putih Peristiwa dan inkarnasi ketiga dari Cakrawala yang terkesan lebih ringan dan jam tayangnya jauh lebih pagi/malam dibanding Topik sebelumnya. Pihak antv berpendapat, pengemasan berita dengan teknik seperti ini dilakukan karena sudah ada tvOne, saluran saudaranya yang fokus pada berita hard news. Dalam beberapa waktu juga (2019-2021), antv sempat tidak memiliki program berita tetap, menyisakan Topik Terkini saja.\\n\\nPenyiar\\n\\nReferensi\\n\\nAcara televisi Indonesia\\nAcara televisi antv\\n</id_text>\\n\\nReturn only the translated text in JSON format with key \"cirebonese_text\" for the Cirebonese translation and \"balinese_text\" for the Balinese translation.'}"
      ]
     },
     "execution_count": 28,
     "metadata": {},
     "output_type": "execute_result"
    }
   ],
   "source": [
    "clean_305k[1]"
   ]
  },
  {
   "cell_type": "code",
   "execution_count": 29,
   "metadata": {},
   "outputs": [],
   "source": [
    "model = \"gpt-4o-mini-2024-07-18\"\n",
    "temperature = 0\n",
    "response_format = {\"type\": \"json_object\"}\n",
    "\n",
    "batch_req_objects = []\n",
    "for data in clean_305k:\n",
    "  messages = [\n",
    "      {\"role\": \"user\", \"content\": data[\"prompt_text\"]}\n",
    "  ]\n",
    "  batch_req_object = create_batch_req_object(req_id=data[\"id\"], model=model, messages=messages, response_format=response_format, temperature=temperature)\n",
    "  \n",
    "  batch_req_objects.append(batch_req_object)"
   ]
  },
  {
   "cell_type": "code",
   "execution_count": 32,
   "metadata": {},
   "outputs": [],
   "source": [
    "save_batches_to_jsonl(batch_req_objects, 10000, \"dataset/translate_batch/translate_paralel_305k/translate_paralel_305k\")"
   ]
  },
  {
   "cell_type": "code",
   "execution_count": 34,
   "metadata": {},
   "outputs": [],
   "source": [
    "# Run the llm_batch_api function with all .jsonl files and gather batch_info\n",
    "batch_files = [f for f in os.listdir(\"dataset/translate_batch/translate_paralel_305k\") if f.startswith(\"translate_paralel_305k_batch\") and f.endswith(\".jsonl\")]\n",
    "all_batch_info = []\n",
    "for batch_file in batch_files:\n",
    "    batch_number = batch_file.split('_')[-1].split('.')[0]\n",
    "    desc = f\"Batch {batch_number} of requests to generate Balinese & Cirebonese translation from Indonesian text with help of dictionary\"\n",
    "    batch_info = llm_batch_api(f\"dataset/translate_batch/translate_paralel_305k/{batch_file}\", purpose=\"batch\", desc=desc, completion_window=\"24h\")\n",
    "    all_batch_info.append(batch_info)"
   ]
  },
  {
   "cell_type": "code",
   "execution_count": 35,
   "metadata": {},
   "outputs": [],
   "source": [
    "all_batch_info_dict = [b.to_dict() for b in all_batch_info]\n",
    "# Save all batch_info to a file\n",
    "with open(\"dataset/translate_batch/translate_paralel_305k/translate_paralel_305k_info.json\", \"w\") as f:\n",
    "    json.dump(all_batch_info_dict, f, indent=4)"
   ]
  },
  {
   "cell_type": "code",
   "execution_count": null,
   "metadata": {},
   "outputs": [],
   "source": [
    "for idx, batch_info_dict in enumerate(all_batch_info_dict):\n",
    "    num_batch = batch_info_dict['metadata']['description'].split(\" \")[1]\n",
    "    updated_batch, output_file = llm_batch_check_retrieve_dict(batch_info_dict)\n",
    "    print(\"Num batch:\", num_batch, \"->\", updated_batch)\n",
    "    if output_file:\n",
    "        write_jsonl(output_file.text, f\"dataset/translate_batch/translate_paralel_305k/translate_paralel_305k_output_{idx}.jsonl\")"
   ]
  },
  {
   "cell_type": "code",
   "execution_count": null,
   "metadata": {},
   "outputs": [],
   "source": [
    "# Create a mapping of translations from JSONL\n",
    "output_files = [f for f in os.listdir(\"dataset/translate_batch/translate_paralel_305k\") if f.startswith(\"translate_paralel_305k_output\") and f.endswith(\".jsonl\")]\n",
    "\n",
    "failed_id = []\n",
    "translations = {}\n",
    "for batch_file in output_files:\n",
    "    with jsonlines.open(f\"dataset/translate_batch/translate_paralel_305k/{batch_file}\") as reader:\n",
    "        for obj in reader:\n",
    "            custom_id = obj['custom_id']\n",
    "            translations[custom_id] = {}\n",
    "            try:\n",
    "                translation = json.loads(obj['response']['body']['choices'][0]['message']['content'])\n",
    "                if obj['response']['body']['choices'][0]['finish_reason'] != \"length\":\n",
    "                  if isinstance(translation['cirebonese_text'], str):\n",
    "                    translations[custom_id][\"cirebonese\"] = translation['cirebonese_text']\n",
    "                  elif isinstance(translation['cirebonese_text'], list):\n",
    "                    translations[custom_id][\"cirebonese\"] = \"\".join(translation['cirebonese_text'])\n",
    "                  if isinstance(translation['balinese_text'], str):\n",
    "                    translations[custom_id][\"balinese\"] = translation['balinese_text']\n",
    "                  elif isinstance(translation['balinese_text'], list):\n",
    "                    translations[custom_id][\"balinese\"] = \"\".join(translation['balinese_text'])\n",
    "            except Exception as e:\n",
    "               failed_id.append(custom_id)\n",
    "               print(e)\n",
    "               print(batch_file)\n",
    "               continue\n",
    "\n",
    "def add_translation_to_dataset(data):\n",
    "    if data[\"id\"] in translations:\n",
    "        if \"cirebonese\" in translations[data[\"id\"]] and \"balinese\" in translations[data[\"id\"]]:\n",
    "          return {\n",
    "              \"id\": data[\"id\"],\n",
    "              \"cirebonese\": translations[data[\"id\"]][\"cirebonese\"],\n",
    "              \"balinese\": translations[data[\"id\"]][\"balinese\"],\n",
    "              \"indonesian\": data[\"text\"]\n",
    "          }\n",
    "        else:\n",
    "          return None\n",
    "    else:\n",
    "        return None\n",
    "        # raise ValueError(f\"Translation not found for ID: {data['id']}\")"
   ]
  },
  {
   "cell_type": "code",
   "execution_count": 45,
   "metadata": {},
   "outputs": [
    {
     "name": "stdout",
     "output_type": "stream",
     "text": [
      "3494\n"
     ]
    }
   ],
   "source": [
    "print(len(failed_id))"
   ]
  },
  {
   "cell_type": "code",
   "execution_count": 46,
   "metadata": {},
   "outputs": [
    {
     "name": "stderr",
     "output_type": "stream",
     "text": [
      "Map (num_proc=8): 100%|██████████| 264918/264918 [01:09<00:00, 3834.49 examples/s] \n"
     ]
    }
   ],
   "source": [
    "paralel_305k = clean_305k.map(add_translation_to_dataset, num_proc=8)"
   ]
  },
  {
   "cell_type": "code",
   "execution_count": 47,
   "metadata": {},
   "outputs": [],
   "source": [
    "paralel_305k = paralel_305k.remove_columns([\"text\", \"prompt_text\"])"
   ]
  },
  {
   "cell_type": "code",
   "execution_count": 48,
   "metadata": {},
   "outputs": [
    {
     "data": {
      "text/plain": [
       "Dataset({\n",
       "    features: ['id', 'cirebonese', 'balinese', 'indonesian'],\n",
       "    num_rows: 261287\n",
       "})"
      ]
     },
     "execution_count": 48,
     "metadata": {},
     "output_type": "execute_result"
    }
   ],
   "source": [
    "paralel_305k"
   ]
  },
  {
   "cell_type": "code",
   "execution_count": 49,
   "metadata": {},
   "outputs": [
    {
     "name": "stderr",
     "output_type": "stream",
     "text": [
      "Saving the dataset (3/3 shards): 100%|██████████| 261287/261287 [00:14<00:00, 18177.47 examples/s]\n"
     ]
    }
   ],
   "source": [
    "paralel_305k.save_to_disk(\"dataset/paralel_3_lang/paralel_dataset_305k\")"
   ]
  },
  {
   "cell_type": "code",
   "execution_count": 52,
   "metadata": {},
   "outputs": [],
   "source": [
    "combined_400k = datasets.load_from_disk(\"dataset/paralel_3_lang/combined_paralel_dataset_400k_dedup_clean\")"
   ]
  },
  {
   "cell_type": "code",
   "execution_count": 53,
   "metadata": {},
   "outputs": [],
   "source": [
    "from datasets import concatenate_datasets\n",
    "\n",
    "combined_705k = concatenate_datasets([combined_400k, paralel_305k])"
   ]
  },
  {
   "cell_type": "code",
   "execution_count": 55,
   "metadata": {},
   "outputs": [
    {
     "name": "stderr",
     "output_type": "stream",
     "text": [
      "Saving the dataset (7/7 shards): 100%|██████████| 607580/607580 [00:34<00:00, 17766.21 examples/s] \n"
     ]
    }
   ],
   "source": [
    "combined_705k.save_to_disk(\"dataset/paralel_3_lang/combined_paralel_dataset_705k\")"
   ]
  },
  {
   "cell_type": "markdown",
   "metadata": {},
   "source": [
    "## Classify Indonesian Related Data"
   ]
  },
  {
   "cell_type": "code",
   "execution_count": 16,
   "metadata": {},
   "outputs": [],
   "source": [
    "filtered_90k = datasets.load_from_disk(\"dataset/paralel_3_lang/filtered_paralel_dataset_90k_short\")"
   ]
  },
  {
   "cell_type": "code",
   "execution_count": 17,
   "metadata": {},
   "outputs": [],
   "source": [
    "def get_filter_prompt_text(data):\n",
    "    prompt_text = f\"\"\"Given the Indonesian text in the <id_text>, answer whether the text is related to Indonesian or not. The text is as follows:\n",
    "\n",
    "<id_text>\n",
    "{data[\"indonesian\"]}\n",
    "</id_text>\n",
    "\n",
    "Return only the answer in JSON format with key \"is_indonesian\" with type boolean.\"\"\"\n",
    "    \n",
    "    data[\"prompt_text\"] = prompt_text\n",
    "    \n",
    "    return data"
   ]
  },
  {
   "cell_type": "code",
   "execution_count": 18,
   "metadata": {},
   "outputs": [
    {
     "name": "stderr",
     "output_type": "stream",
     "text": [
      "Map: 100%|██████████| 93748/93748 [00:02<00:00, 32960.15 examples/s]\n"
     ]
    }
   ],
   "source": [
    "filtered_90k_prompt = filtered_90k.map(get_filter_prompt_text)"
   ]
  },
  {
   "cell_type": "code",
   "execution_count": 20,
   "metadata": {},
   "outputs": [],
   "source": [
    "prompt_tokens = count_tokens_in_dataset_prompt(filtered_90k_prompt, num_tokens_from_string, encoding)"
   ]
  },
  {
   "cell_type": "code",
   "execution_count": 22,
   "metadata": {},
   "outputs": [],
   "source": [
    "model = \"gpt-4o-mini-2024-07-18\"\n",
    "temperature = 0\n",
    "response_format = {\"type\": \"json_object\"}\n",
    "\n",
    "batch_req_objects = []\n",
    "for data in filtered_90k_prompt:\n",
    "  messages = [\n",
    "      {\"role\": \"user\", \"content\": data[\"prompt_text\"]}\n",
    "  ]\n",
    "  batch_req_object = create_batch_req_object(req_id=data[\"id\"], model=model, messages=messages, response_format=response_format, temperature=temperature)\n",
    "  \n",
    "  batch_req_objects.append(batch_req_object)"
   ]
  },
  {
   "cell_type": "code",
   "execution_count": 24,
   "metadata": {},
   "outputs": [],
   "source": [
    "save_batches_to_jsonl(batch_req_objects, 10000, \"dataset/filter_batch/filter_paralel_90k_short/filter_paralel_90k_short\")"
   ]
  },
  {
   "cell_type": "code",
   "execution_count": 29,
   "metadata": {},
   "outputs": [],
   "source": [
    "# Run the llm_batch_api function with all .jsonl files and gather batch_info\n",
    "batch_files = [f for f in os.listdir(\"dataset/filter_batch/filter_paralel_90k_short/\") if f.startswith(\"filter_paralel_90k_short\") and f.endswith(\".jsonl\")]\n",
    "all_batch_info = []\n",
    "for batch_file in batch_files:\n",
    "    batch_number = batch_file.split('_')[-1].split('.')[0]\n",
    "    desc = f\"Batch {batch_number} of requests to filter indonesian related text\"\n",
    "    batch_info = llm_batch_api(f\"dataset/filter_batch/filter_paralel_90k_short/{batch_file}\", purpose=\"batch\", desc=desc, completion_window=\"24h\")\n",
    "    all_batch_info.append(batch_info)"
   ]
  },
  {
   "cell_type": "code",
   "execution_count": 30,
   "metadata": {},
   "outputs": [],
   "source": [
    "all_batch_info_dict = [b.to_dict() for b in all_batch_info]\n",
    "# Save all batch_info to a file\n",
    "with open(\"dataset/filter_batch/filter_paralel_90k_short/filter_paralel_90k_short_info.json\", \"w\") as f:\n",
    "    json.dump(all_batch_info_dict, f, indent=4)"
   ]
  },
  {
   "cell_type": "code",
   "execution_count": 37,
   "metadata": {},
   "outputs": [
    {
     "name": "stdout",
     "output_type": "stream",
     "text": [
      "Status of batch batch_67d79335b6688190b2215de92f00b067 is completed\n",
      "Num batch: 6 -> Batch(id='batch_67d79335b6688190b2215de92f00b067', completion_window='24h', created_at=1742181173, endpoint='/v1/chat/completions', input_file_id='file-KNi2GBxHWfyKMeKxAQ4h6q', object='batch', status='completed', cancelled_at=None, cancelling_at=None, completed_at=1742185681, error_file_id=None, errors=None, expired_at=None, expires_at=1742267573, failed_at=None, finalizing_at=1742184861, in_progress_at=1742181176, metadata={'description': 'Batch 6 of requests to filter indonesian related text'}, output_file_id='file-EZQo8s9WtWnJxsrNuTrRGh', request_counts=BatchRequestCounts(completed=10000, failed=0, total=10000))\n",
      "Status of batch batch_67d79337f4248190b53aaf6e1dae5bbb is completed\n",
      "Num batch: 4 -> Batch(id='batch_67d79337f4248190b53aaf6e1dae5bbb', completion_window='24h', created_at=1742181176, endpoint='/v1/chat/completions', input_file_id='file-BnPJRTeNaq4RS2yXaNVst3', object='batch', status='completed', cancelled_at=None, cancelling_at=None, completed_at=1742185203, error_file_id=None, errors=None, expired_at=None, expires_at=1742267576, failed_at=None, finalizing_at=1742184386, in_progress_at=1742181178, metadata={'description': 'Batch 4 of requests to filter indonesian related text'}, output_file_id='file-RVhtKGixCp8EXW1ivYYqTw', request_counts=BatchRequestCounts(completed=10000, failed=0, total=10000))\n",
      "Status of batch batch_67d7933a84f88190bfb5fdec767db198 is completed\n",
      "Num batch: 9 -> Batch(id='batch_67d7933a84f88190bfb5fdec767db198', completion_window='24h', created_at=1742181178, endpoint='/v1/chat/completions', input_file_id='file-6XerZNxUTr2iUrxcXWSPAv', object='batch', status='completed', cancelled_at=None, cancelling_at=None, completed_at=1742194860, error_file_id=None, errors=None, expired_at=None, expires_at=1742267578, failed_at=None, finalizing_at=1742193257, in_progress_at=1742181182, metadata={'description': 'Batch 9 of requests to filter indonesian related text'}, output_file_id='file-7DQhdtT7LQ7QM5XRKgVF4R', request_counts=BatchRequestCounts(completed=10000, failed=0, total=10000))\n",
      "Status of batch batch_67d7933d6824819083feda0dbf1abbe4 is completed\n",
      "Num batch: 3 -> Batch(id='batch_67d7933d6824819083feda0dbf1abbe4', completion_window='24h', created_at=1742181181, endpoint='/v1/chat/completions', input_file_id='file-QTgMMRWLHhMzwV1gAnFCiC', object='batch', status='completed', cancelled_at=None, cancelling_at=None, completed_at=1742186961, error_file_id=None, errors=None, expired_at=None, expires_at=1742267581, failed_at=None, finalizing_at=1742186010, in_progress_at=1742181243, metadata={'description': 'Batch 3 of requests to filter indonesian related text'}, output_file_id='file-MPGQkQtJfsacW1rdp89LY9', request_counts=BatchRequestCounts(completed=10000, failed=0, total=10000))\n",
      "Status of batch batch_67d7933f7dc881908331cdfa5419ee85 is completed\n",
      "Num batch: 7 -> Batch(id='batch_67d7933f7dc881908331cdfa5419ee85', completion_window='24h', created_at=1742181183, endpoint='/v1/chat/completions', input_file_id='file-8SrQVk19ZunhP19Fa26hHE', object='batch', status='completed', cancelled_at=None, cancelling_at=None, completed_at=1742194250, error_file_id=None, errors=None, expired_at=None, expires_at=1742267583, failed_at=None, finalizing_at=1742193175, in_progress_at=1742181186, metadata={'description': 'Batch 7 of requests to filter indonesian related text'}, output_file_id='file-6VZJBuJ7C1LK7m1zxZ1MYy', request_counts=BatchRequestCounts(completed=10000, failed=0, total=10000))\n",
      "Status of batch batch_67d793413c54819086759f2e28ce4a8e is completed\n",
      "Num batch: 5 -> Batch(id='batch_67d793413c54819086759f2e28ce4a8e', completion_window='24h', created_at=1742181185, endpoint='/v1/chat/completions', input_file_id='file-GaEB9nMm21rVstimi23FSA', object='batch', status='completed', cancelled_at=None, cancelling_at=None, completed_at=1742194797, error_file_id=None, errors=None, expired_at=None, expires_at=1742267585, failed_at=None, finalizing_at=1742193677, in_progress_at=1742181189, metadata={'description': 'Batch 5 of requests to filter indonesian related text'}, output_file_id='file-NascZDV4162ddbBWUkJxuC', request_counts=BatchRequestCounts(completed=10000, failed=0, total=10000))\n",
      "Status of batch batch_67d793440c4c8190bca80a91b299ae47 is completed\n",
      "Num batch: 8 -> Batch(id='batch_67d793440c4c8190bca80a91b299ae47', completion_window='24h', created_at=1742181188, endpoint='/v1/chat/completions', input_file_id='file-8WZjfZSJ9ZPBXdgyWnZT3W', object='batch', status='completed', cancelled_at=None, cancelling_at=None, completed_at=1742187227, error_file_id=None, errors=None, expired_at=None, expires_at=1742267588, failed_at=None, finalizing_at=1742186205, in_progress_at=1742181190, metadata={'description': 'Batch 8 of requests to filter indonesian related text'}, output_file_id='file-7iyP2gBY8GouxuQ6SpCduX', request_counts=BatchRequestCounts(completed=10000, failed=0, total=10000))\n",
      "Status of batch batch_67d79345e7ac8190a637edd62bceecfb is completed\n",
      "Num batch: 2 -> Batch(id='batch_67d79345e7ac8190a637edd62bceecfb', completion_window='24h', created_at=1742181189, endpoint='/v1/chat/completions', input_file_id='file-FuHmUCnf1wbFF76LWuB9CH', object='batch', status='completed', cancelled_at=None, cancelling_at=None, completed_at=1742193112, error_file_id=None, errors=None, expired_at=None, expires_at=1742267589, failed_at=None, finalizing_at=1742191467, in_progress_at=1742181194, metadata={'description': 'Batch 2 of requests to filter indonesian related text'}, output_file_id='file-UCTEXfujixcpahJAyb8ytj', request_counts=BatchRequestCounts(completed=10000, failed=0, total=10000))\n",
      "Status of batch batch_67d7934764088190a34be2bb2f208c6d is completed\n",
      "Num batch: 10 -> Batch(id='batch_67d7934764088190a34be2bb2f208c6d', completion_window='24h', created_at=1742181191, endpoint='/v1/chat/completions', input_file_id='file-XbdjUN81xXBsGae12bg3CX', object='batch', status='completed', cancelled_at=None, cancelling_at=None, completed_at=1742193987, error_file_id=None, errors=None, expired_at=None, expires_at=1742267591, failed_at=None, finalizing_at=1742193476, in_progress_at=1742181193, metadata={'description': 'Batch 10 of requests to filter indonesian related text'}, output_file_id='file-UhgmvAfREec7K33pMmcJ2w', request_counts=BatchRequestCounts(completed=3748, failed=0, total=3748))\n",
      "Status of batch batch_67d79349116c8190aa0046dc44ade623 is completed\n",
      "Num batch: 1 -> Batch(id='batch_67d79349116c8190aa0046dc44ade623', completion_window='24h', created_at=1742181193, endpoint='/v1/chat/completions', input_file_id='file-M6wEf3S7Uq6WuMhG8H1x6W', object='batch', status='completed', cancelled_at=None, cancelling_at=None, completed_at=1742192957, error_file_id=None, errors=None, expired_at=None, expires_at=1742267593, failed_at=None, finalizing_at=1742191302, in_progress_at=1742181196, metadata={'description': 'Batch 1 of requests to filter indonesian related text'}, output_file_id='file-TjyYdd4XF4GP9LswHQf3nw', request_counts=BatchRequestCounts(completed=10000, failed=0, total=10000))\n"
     ]
    }
   ],
   "source": [
    "for idx, batch_info_dict in enumerate(all_batch_info_dict):\n",
    "    num_batch = batch_info_dict['metadata']['description'].split(\" \")[1]\n",
    "    updated_batch, output_file = llm_batch_check_retrieve_dict(batch_info_dict)\n",
    "    print(\"Num batch:\", num_batch, \"->\", updated_batch)\n",
    "    if output_file:\n",
    "        write_jsonl(output_file.text, f\"dataset/filter_batch/filter_paralel_90k_short/filter_paralel_90k_short_output_{idx}.jsonl\")"
   ]
  },
  {
   "cell_type": "code",
   "execution_count": 39,
   "metadata": {},
   "outputs": [
    {
     "name": "stdout",
     "output_type": "stream",
     "text": [
      "Expecting value: line 1 column 1 (char 0)\n",
      "filter_paralel_90k_short_output_0.jsonl\n",
      "Expecting value: line 1 column 1 (char 0)\n",
      "filter_paralel_90k_short_output_1.jsonl\n",
      "Expecting value: line 1 column 1 (char 0)\n",
      "filter_paralel_90k_short_output_7.jsonl\n",
      "Expecting value: line 1 column 1 (char 0)\n",
      "filter_paralel_90k_short_output_9.jsonl\n",
      "Expecting value: line 1 column 1 (char 0)\n",
      "filter_paralel_90k_short_output_4.jsonl\n",
      "Expecting value: line 1 column 1 (char 0)\n",
      "filter_paralel_90k_short_output_3.jsonl\n"
     ]
    }
   ],
   "source": [
    "import jsonlines\n",
    "# Create a mapping of translations from JSONL\n",
    "output_files = [f for f in os.listdir(\"dataset/filter_batch/filter_paralel_90k_short\") if f.startswith(\"filter_paralel_90k_short_output\") and f.endswith(\".jsonl\")]\n",
    "\n",
    "failed_id = []\n",
    "translations = {}\n",
    "for batch_file in output_files:\n",
    "    with jsonlines.open(f\"dataset/filter_batch/filter_paralel_90k_short/{batch_file}\") as reader:\n",
    "        for obj in reader:\n",
    "            custom_id = obj['custom_id']\n",
    "            translations[custom_id] = {}\n",
    "            try:\n",
    "                translation = json.loads(obj['response']['body']['choices'][0]['message']['content'])\n",
    "                if obj['response']['body']['choices'][0]['finish_reason'] != \"length\":\n",
    "                  if isinstance(translation['is_indonesian'], bool):\n",
    "                    translations[custom_id] = translation['is_indonesian']\n",
    "            except Exception as e:\n",
    "               failed_id.append(custom_id)\n",
    "               print(e)\n",
    "               print(batch_file)\n",
    "               continue\n",
    "\n",
    "def filter_id_related_dataset(data):\n",
    "    if data[\"id\"] in translations:\n",
    "        if translations[data[\"id\"]]:\n",
    "          return data\n",
    "        else:\n",
    "          return None\n",
    "    else:\n",
    "        return None\n",
    "        # raise ValueError(f\"Translation not found for ID: {data['id']}\")"
   ]
  },
  {
   "cell_type": "code",
   "execution_count": 659,
   "metadata": {},
   "outputs": [
    {
     "name": "stderr",
     "output_type": "stream",
     "text": [
      "Saving the dataset (1/1 shards): 100%|██████████| 300/300 [00:00<00:00, 55438.66 examples/s]\n"
     ]
    }
   ],
   "source": [
    "cbn_sample.save_to_disk(\"dataset/annotation/cbn_sample_300\")"
   ]
  },
  {
   "cell_type": "code",
   "execution_count": 660,
   "metadata": {},
   "outputs": [
    {
     "name": "stderr",
     "output_type": "stream",
     "text": [
      "Saving the dataset (1/1 shards): 100%|██████████| 300/300 [00:00<00:00, 54452.62 examples/s]\n"
     ]
    }
   ],
   "source": [
    "ban_sample.save_to_disk(\"dataset/annotation/ban_sample_300\")"
   ]
  },
  {
   "cell_type": "code",
   "execution_count": 661,
   "metadata": {},
   "outputs": [],
   "source": [
    "def dataset_to_csv(dataset, output_file):\n",
    "    # Convert corrections list of tuples to dictionary string format\n",
    "    def format_corrections(corrections):\n",
    "        return '\\n'.join(f\"{orig} -> {corr}\" for orig, corr in corrections)\n",
    "    \n",
    "    # Convert to pandas DataFrame\n",
    "    df = dataset.to_pandas()\n",
    "    \n",
    "    # Format the corrections column\n",
    "    if 'corrections' in df.columns:\n",
    "        df['corrections'] = df['corrections'].apply(format_corrections)\n",
    "    \n",
    "    # Save to CSV\n",
    "    df.to_csv(output_file, index=False, encoding='utf-8')\n",
    "    \n",
    "    print(f\"Dataset saved to {output_file}\")\n",
    "    print(f\"Total rows: {len(df)}\")"
   ]
  },
  {
   "cell_type": "code",
   "execution_count": 662,
   "metadata": {},
   "outputs": [
    {
     "name": "stdout",
     "output_type": "stream",
     "text": [
      "Dataset saved to dataset/annotation/cbn_sample_300/cbn.csv\n",
      "Total rows: 300\n"
     ]
    }
   ],
   "source": [
    "# Example usage:\n",
    "dataset_to_csv(cbn_sample, \"dataset/annotation/cbn_sample_300/cbn.csv\")"
   ]
  },
  {
   "cell_type": "code",
   "execution_count": 663,
   "metadata": {},
   "outputs": [
    {
     "name": "stdout",
     "output_type": "stream",
     "text": [
      "Dataset saved to dataset/annotation/ban_sample_300/ban.csv\n",
      "Total rows: 300\n"
     ]
    }
   ],
   "source": [
    "dataset_to_csv(ban_sample, \"dataset/annotation/ban_sample_300/ban.csv\")"
   ]
  },
  {
   "cell_type": "code",
   "execution_count": null,
   "metadata": {},
   "outputs": [],
   "source": []
  }
 ],
 "metadata": {
  "kernelspec": {
   "display_name": ".venv",
   "language": "python",
   "name": "python3"
  },
  "language_info": {
   "codemirror_mode": {
    "name": "ipython",
    "version": 3
   },
   "file_extension": ".py",
   "mimetype": "text/x-python",
   "name": "python",
   "nbconvert_exporter": "python",
   "pygments_lexer": "ipython3",
   "version": "3.10.14"
  }
 },
 "nbformat": 4,
 "nbformat_minor": 2
}
