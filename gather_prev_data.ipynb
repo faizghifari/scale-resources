{
 "cells": [
  {
   "cell_type": "code",
   "execution_count": 2,
   "metadata": {},
   "outputs": [
    {
     "name": "stderr",
     "output_type": "stream",
     "text": [
      "/home/haznitrama/scale-resources/.venv/lib/python3.10/site-packages/tqdm/auto.py:21: TqdmWarning: IProgress not found. Please update jupyter and ipywidgets. See https://ipywidgets.readthedocs.io/en/stable/user_install.html\n",
      "  from .autonotebook import tqdm as notebook_tqdm\n"
     ]
    }
   ],
   "source": [
    "from datasets import load_from_disk"
   ]
  },
  {
   "cell_type": "code",
   "execution_count": 20,
   "metadata": {},
   "outputs": [],
   "source": [
    "cbn_wiki_id = load_from_disk(\"dataset/paralel_id_cbn_16k\")\n",
    "cbn_wiki_jv = load_from_disk(\"dataset/paralel_jv_cbn_3k\")\n",
    "cbn_wiki_su = load_from_disk(\"dataset/paralel_su_cbn_3k\")"
   ]
  },
  {
   "cell_type": "code",
   "execution_count": 21,
   "metadata": {},
   "outputs": [],
   "source": [
    "id_wiki_id = load_from_disk(\"synthetic/id_titles/id_wiki-id/translated\")\n",
    "id_wiki_jv = load_from_disk(\"synthetic/id_titles/id_wiki-jv/translated\")\n",
    "id_wiki_su = load_from_disk(\"synthetic/id_titles/id_wiki-su/translated\")"
   ]
  },
  {
   "cell_type": "code",
   "execution_count": 22,
   "metadata": {},
   "outputs": [],
   "source": [
    "from datasets import concatenate_datasets\n",
    "\n",
    "id_cbn = concatenate_datasets([cbn_wiki_id, id_wiki_id])\n",
    "jv_cbn = concatenate_datasets([cbn_wiki_jv, id_wiki_jv])\n",
    "su_cbn = concatenate_datasets([cbn_wiki_su, id_wiki_su])"
   ]
  },
  {
   "cell_type": "code",
   "execution_count": 25,
   "metadata": {},
   "outputs": [
    {
     "data": {
      "text/plain": [
       "28551"
      ]
     },
     "execution_count": 25,
     "metadata": {},
     "output_type": "execute_result"
    }
   ],
   "source": [
    "len(su_cbn)"
   ]
  },
  {
   "cell_type": "code",
   "execution_count": 26,
   "metadata": {},
   "outputs": [
    {
     "name": "stderr",
     "output_type": "stream",
     "text": [
      "Saving the dataset (1/1 shards): 100%|██████████| 127648/127648 [00:01<00:00, 78528.19 examples/s]\n",
      "Saving the dataset (1/1 shards): 100%|██████████| 23849/23849 [00:00<00:00, 121734.93 examples/s]\n",
      "Saving the dataset (1/1 shards): 100%|██████████| 28551/28551 [00:00<00:00, 198725.47 examples/s]\n"
     ]
    }
   ],
   "source": [
    "id_cbn.save_to_disk(\"dataset/paralel_id_cbn_127k\")\n",
    "jv_cbn.save_to_disk(\"dataset/paralel_jv_cbn_24k\")\n",
    "su_cbn.save_to_disk(\"dataset/paralel_su_cbn_28k\")"
   ]
  },
  {
   "cell_type": "code",
   "execution_count": 27,
   "metadata": {},
   "outputs": [],
   "source": [
    "paralel_bali_dict = load_from_disk(\"dataset/paralel_dataset_from_bali_dict\")  "
   ]
  },
  {
   "cell_type": "code",
   "execution_count": 29,
   "metadata": {},
   "outputs": [],
   "source": [
    "paralel_bali_dict = paralel_bali_dict.remove_columns([\"prompt\"])"
   ]
  },
  {
   "cell_type": "code",
   "execution_count": 31,
   "metadata": {},
   "outputs": [],
   "source": [
    "paralel_60k = load_from_disk(\"dataset/paralel_dataset_60k\")"
   ]
  },
  {
   "cell_type": "code",
   "execution_count": 33,
   "metadata": {},
   "outputs": [],
   "source": [
    "def convert_dataset(data):\n",
    "    data[\"id\"] = data[\"custom_id\"]\n",
    "    return data"
   ]
  },
  {
   "cell_type": "code",
   "execution_count": 35,
   "metadata": {},
   "outputs": [
    {
     "name": "stderr",
     "output_type": "stream",
     "text": [
      "Map: 100%|██████████| 59257/59257 [00:08<00:00, 7163.49 examples/s] \n"
     ]
    }
   ],
   "source": [
    "paralel_60k = paralel_60k.map(convert_dataset, remove_columns=[\"custom_id\", \"text\", \"prompt_text\"])"
   ]
  },
  {
   "cell_type": "code",
   "execution_count": 39,
   "metadata": {},
   "outputs": [],
   "source": [
    "paralel_300k = load_from_disk(\"dataset/paralel_dataset_300k\")"
   ]
  },
  {
   "cell_type": "code",
   "execution_count": 40,
   "metadata": {},
   "outputs": [
    {
     "data": {
      "text/plain": [
       "Dataset({\n",
       "    features: ['id', 'cirebonese', 'indonesian', 'balinese'],\n",
       "    num_rows: 296203\n",
       "})"
      ]
     },
     "execution_count": 40,
     "metadata": {},
     "output_type": "execute_result"
    }
   ],
   "source": [
    "paralel_300k"
   ]
  },
  {
   "cell_type": "code",
   "execution_count": 41,
   "metadata": {},
   "outputs": [
    {
     "data": {
      "text/plain": [
       "Dataset({\n",
       "    features: ['id', 'balinese', 'indonesian', 'cirebonese'],\n",
       "    num_rows: 22248\n",
       "})"
      ]
     },
     "execution_count": 41,
     "metadata": {},
     "output_type": "execute_result"
    }
   ],
   "source": [
    "paralel_bali_dict"
   ]
  },
  {
   "cell_type": "code",
   "execution_count": 42,
   "metadata": {},
   "outputs": [
    {
     "data": {
      "text/plain": [
       "Dataset({\n",
       "    features: ['indonesian', 'cirebonese', 'balinese', 'id'],\n",
       "    num_rows: 59257\n",
       "})"
      ]
     },
     "execution_count": 42,
     "metadata": {},
     "output_type": "execute_result"
    }
   ],
   "source": [
    "paralel_60k"
   ]
  },
  {
   "cell_type": "code",
   "execution_count": 43,
   "metadata": {},
   "outputs": [
    {
     "data": {
      "text/plain": [
       "377708"
      ]
     },
     "execution_count": 43,
     "metadata": {},
     "output_type": "execute_result"
    }
   ],
   "source": [
    "296203 + 22248 + 59257"
   ]
  },
  {
   "cell_type": "code",
   "execution_count": 44,
   "metadata": {},
   "outputs": [],
   "source": [
    "paralel_377k = concatenate_datasets([paralel_300k, paralel_60k, paralel_bali_dict])"
   ]
  },
  {
   "cell_type": "code",
   "execution_count": 45,
   "metadata": {},
   "outputs": [
    {
     "name": "stderr",
     "output_type": "stream",
     "text": [
      "Saving the dataset (4/4 shards): 100%|██████████| 377708/377708 [00:04<00:00, 82903.84 examples/s] \n"
     ]
    }
   ],
   "source": [
    "paralel_377k.save_to_disk(\"dataset/paralel_3_lang/paralel_dataset_377k\")"
   ]
  },
  {
   "cell_type": "code",
   "execution_count": 52,
   "metadata": {},
   "outputs": [],
   "source": [
    "id_cbn = load_from_disk(\"dataset/paralel_2_lang/paralel_id_cbn_127k_dedup\")"
   ]
  },
  {
   "cell_type": "code",
   "execution_count": 53,
   "metadata": {},
   "outputs": [],
   "source": [
    "existing_id_text = set(paralel_377k[\"indonesian\"])"
   ]
  },
  {
   "cell_type": "code",
   "execution_count": 54,
   "metadata": {},
   "outputs": [],
   "source": [
    "def filter_id_cbn(data):\n",
    "    return data[\"text\"] not in existing_id_text"
   ]
  },
  {
   "cell_type": "code",
   "execution_count": 55,
   "metadata": {},
   "outputs": [
    {
     "name": "stderr",
     "output_type": "stream",
     "text": [
      "Filter: 100%|██████████| 92504/92504 [00:13<00:00, 6913.87 examples/s]\n"
     ]
    }
   ],
   "source": [
    "filtered_id_cbn = id_cbn.filter(filter_id_cbn)"
   ]
  },
  {
   "cell_type": "code",
   "execution_count": 57,
   "metadata": {},
   "outputs": [
    {
     "name": "stderr",
     "output_type": "stream",
     "text": [
      "Saving the dataset (1/1 shards): 100%|██████████| 44743/44743 [00:00<00:00, 53675.53 examples/s]\n"
     ]
    }
   ],
   "source": [
    "filtered_id_cbn.save_to_disk(\"dataset/paralel_2_lang/paralel_id_cbn_127k_filtered\")"
   ]
  },
  {
   "cell_type": "code",
   "execution_count": 78,
   "metadata": {},
   "outputs": [],
   "source": [
    "from datasets import load_dataset\n",
    "\n",
    "id_mmlu = load_dataset(\"indolem/IndoMMLU\")"
   ]
  },
  {
   "cell_type": "code",
   "execution_count": 79,
   "metadata": {},
   "outputs": [],
   "source": [
    "bali_mmlu = id_mmlu[\"test\"].filter(lambda x: x[\"subject\"] == \"Balinese\")"
   ]
  },
  {
   "cell_type": "code",
   "execution_count": 80,
   "metadata": {},
   "outputs": [
    {
     "data": {
      "text/plain": [
       "{'subject': 'Balinese',\n",
       " 'group': 'Local languages and cultures',\n",
       " 'level': 'SD',\n",
       " 'class': '2',\n",
       " 'question': 'Dugas Galungane titiang mabakti nganggon udeng baru. Udeng basa Bali alusne...',\n",
       " 'options': \"['A. destar', 'B. kampuh', 'C. wastra']\",\n",
       " 'answer': 'A',\n",
       " 'is_for_fewshot': '0'}"
      ]
     },
     "execution_count": 80,
     "metadata": {},
     "output_type": "execute_result"
    }
   ],
   "source": [
    "bali_mmlu[0]"
   ]
  },
  {
   "cell_type": "code",
   "execution_count": 81,
   "metadata": {},
   "outputs": [],
   "source": [
    "import ast\n",
    "import uuid\n",
    "\n",
    "def transform_data(item):\n",
    "    question_id = str(uuid.uuid4())\n",
    "\n",
    "    # Parse the options string into a list\n",
    "    options_str = item['options']\n",
    "    options_list = ast.literal_eval(options_str)\n",
    "    \n",
    "    # Extract labels and texts from options\n",
    "    labels = []\n",
    "    texts = []\n",
    "    for opt in options_list:\n",
    "        # Split by dot and strip whitespace\n",
    "        parts = opt.split('.', 1)\n",
    "        labels.append(parts[0].strip().lower())  # Get 'A', 'B', 'C' and convert to lowercase\n",
    "        texts.append(parts[1].strip())  # Get the actual option text\n",
    "    \n",
    "    # Create the transformed dictionary\n",
    "    transformed = {\n",
    "        \"context\": \"\",\n",
    "        \"question\": item['question'],\n",
    "        \"choices\": {\n",
    "            \"label\": labels,\n",
    "            \"text\": texts\n",
    "        },\n",
    "        \"answer\": item['answer'].lower(),  # Convert answer to lowercase to match labels\n",
    "        \"category\": [],\n",
    "        \"grade\": int(item['class']),\n",
    "        \"question_id\": question_id\n",
    "    }\n",
    "    \n",
    "    return transformed"
   ]
  },
  {
   "cell_type": "code",
   "execution_count": 82,
   "metadata": {},
   "outputs": [
    {
     "name": "stderr",
     "output_type": "stream",
     "text": [
      "Map: 100%|██████████| 471/471 [00:00<00:00, 7187.59 examples/s]\n"
     ]
    }
   ],
   "source": [
    "bali_mmlu = bali_mmlu.map(transform_data, remove_columns=['options', 'class', 'subject', 'group', 'level', 'class', 'is_for_fewshot'])"
   ]
  },
  {
   "cell_type": "code",
   "execution_count": 83,
   "metadata": {},
   "outputs": [
    {
     "data": {
      "text/plain": [
       "{'question': 'Dugas Galungane titiang mabakti nganggon udeng baru. Udeng basa Bali alusne...',\n",
       " 'answer': 'a',\n",
       " 'context': '',\n",
       " 'choices': {'label': ['a', 'b', 'c'], 'text': ['destar', 'kampuh', 'wastra']},\n",
       " 'category': [],\n",
       " 'grade': 2,\n",
       " 'question_id': 'e22caaf5-7596-4d76-a04e-61637f60a8c1'}"
      ]
     },
     "execution_count": 83,
     "metadata": {},
     "output_type": "execute_result"
    }
   ],
   "source": [
    "bali_mmlu[0]"
   ]
  },
  {
   "cell_type": "code",
   "execution_count": 84,
   "metadata": {},
   "outputs": [
    {
     "name": "stderr",
     "output_type": "stream",
     "text": [
      "Saving the dataset (1/1 shards): 100%|██████████| 471/471 [00:00<00:00, 60177.81 examples/s]\n"
     ]
    }
   ],
   "source": [
    "bali_mmlu.save_to_disk(\"dataset/bali_mmlu\")"
   ]
  },
  {
   "cell_type": "code",
   "execution_count": 85,
   "metadata": {},
   "outputs": [],
   "source": [
    "paralel_377k = load_from_disk(\"dataset/paralel_3_lang/paralel_dataset_377k_dedup\")"
   ]
  },
  {
   "cell_type": "code",
   "execution_count": 86,
   "metadata": {},
   "outputs": [
    {
     "data": {
      "text/plain": [
       "Dataset({\n",
       "    features: ['id', 'cirebonese', 'indonesian', 'balinese'],\n",
       "    num_rows: 348695\n",
       "})"
      ]
     },
     "execution_count": 86,
     "metadata": {},
     "output_type": "execute_result"
    }
   ],
   "source": [
    "paralel_377k"
   ]
  },
  {
   "cell_type": "code",
   "execution_count": 87,
   "metadata": {},
   "outputs": [],
   "source": [
    "import tiktoken\n",
    "\n",
    "encoding = tiktoken.encoding_for_model(\"gpt-4o-mini\")\n",
    "\n",
    "def num_tokens_from_string(string: str, encoder) -> int:\n",
    "    \"\"\"Returns the number of tokens in a text string.\"\"\"\n",
    "    num_tokens = len(encoder.encode(string))\n",
    "    return num_tokens\n",
    "\n",
    "def count_tokens_in_dataset(dataset, field_name, num_tokens_from_string, encoder):\n",
    "    total_tokens = 0\n",
    "    \n",
    "    for item in dataset:\n",
    "        text = item[field_name]\n",
    "        tokens = num_tokens_from_string(text, encoder)\n",
    "        total_tokens += tokens\n",
    "    \n",
    "    return total_tokens"
   ]
  },
  {
   "cell_type": "code",
   "execution_count": 88,
   "metadata": {},
   "outputs": [
    {
     "name": "stdout",
     "output_type": "stream",
     "text": [
      "144553459\n"
     ]
    }
   ],
   "source": [
    "print(count_tokens_in_dataset(paralel_377k, \"indonesian\", num_tokens_from_string, encoding))"
   ]
  },
  {
   "cell_type": "code",
   "execution_count": 89,
   "metadata": {},
   "outputs": [
    {
     "name": "stdout",
     "output_type": "stream",
     "text": [
      "156025125\n"
     ]
    }
   ],
   "source": [
    "print(count_tokens_in_dataset(paralel_377k, \"cirebonese\", num_tokens_from_string, encoding))"
   ]
  },
  {
   "cell_type": "code",
   "execution_count": 90,
   "metadata": {},
   "outputs": [
    {
     "name": "stdout",
     "output_type": "stream",
     "text": [
      "158701431\n"
     ]
    }
   ],
   "source": [
    "print(count_tokens_in_dataset(paralel_377k, \"balinese\", num_tokens_from_string, encoding))"
   ]
  },
  {
   "cell_type": "code",
   "execution_count": null,
   "metadata": {},
   "outputs": [],
   "source": []
  }
 ],
 "metadata": {
  "kernelspec": {
   "display_name": ".venv",
   "language": "python",
   "name": "python3"
  },
  "language_info": {
   "codemirror_mode": {
    "name": "ipython",
    "version": 3
   },
   "file_extension": ".py",
   "mimetype": "text/x-python",
   "name": "python",
   "nbconvert_exporter": "python",
   "pygments_lexer": "ipython3",
   "version": "3.10.14"
  }
 },
 "nbformat": 4,
 "nbformat_minor": 2
}
